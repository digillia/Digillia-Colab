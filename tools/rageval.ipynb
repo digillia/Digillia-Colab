{
 "cells": [
  {
   "cell_type": "markdown",
   "metadata": {},
   "source": [
    "# RAG Evaluation (DeepEval, DSPy, Giskard, Ragas, TrueEra)\n",
    "\n",
    "See:\n",
    "- https://huggingface.co/learn/cookbook/en/rag_evaluation\n",
    "\n",
    "Docs:\n",
    "1. **DeepEval**\n",
    "    - https://github.com/confident-ai/deepeval\n",
    "    - https://docs.confident-ai.com/\n",
    "2. **DSPy**\n",
    "    - https://github.com/stanfordnlp/dspy \n",
    "    - https://dspy-docs.vercel.app/\n",
    "    - https://github.com/stanfordnlp/dspy/blob/main/examples/tweets/compiling_langchain.ipynb\n",
    "3. **Giskard**\n",
    "    - https://github.com/Giskard-AI/giskard\n",
    "    - https://www.giskard.ai/\n",
    "4. **Purple LLama (CyberSecEval, LlamaGuard)**\n",
    "    - https://github.com/meta-llama/PurpleLlama\n",
    "    - https://llama.meta.com/purple-llama/    \n",
    "5. **Ragas**\n",
    "    - https://github.com/explodinggradients/ragas\n",
    "    - https://docs.ragas.io/\n",
    "6. **TruEra/TruLens**\n",
    "    - https://github.com/truera/trulens\n",
    "    - https://www.trulens.org/\n",
    "7. **UpTrain**\n",
    "    - https://github.com/uptrain-ai/uptrain\n",
    "    - https://uptrain.ai/\n"
   ]
  },
  {
   "cell_type": "code",
   "execution_count": null,
   "metadata": {},
   "outputs": [],
   "source": [
    "import os\n",
    "import sys\n",
    "\n",
    "# Supprimer les commentaires pour installer (requirements.txt)\n",
    "\n",
    "# À installer dans tous les cas pour Google Colab et Github\n",
    "if 'google.colab' in sys.modules or 'CI' in os.environ:\n",
    "    !pip3 install -q -U giskard\n",
    "    !pip3 install -q -U ragas\n",
    "    !pip3 install -q -U trueera"
   ]
  },
  {
   "cell_type": "markdown",
   "metadata": {},
   "source": [
    "## Giskard"
   ]
  },
  {
   "cell_type": "code",
   "execution_count": null,
   "metadata": {},
   "outputs": [],
   "source": []
  },
  {
   "cell_type": "markdown",
   "metadata": {},
   "source": [
    "## Ragas"
   ]
  },
  {
   "cell_type": "code",
   "execution_count": null,
   "metadata": {},
   "outputs": [],
   "source": []
  },
  {
   "cell_type": "markdown",
   "metadata": {},
   "source": [
    "## TrueEra"
   ]
  },
  {
   "cell_type": "code",
   "execution_count": null,
   "metadata": {},
   "outputs": [],
   "source": []
  },
  {
   "cell_type": "markdown",
   "metadata": {},
   "source": [
    "## UpTurn"
   ]
  },
  {
   "cell_type": "code",
   "execution_count": null,
   "metadata": {},
   "outputs": [],
   "source": []
  }
 ],
 "metadata": {
  "language_info": {
   "name": "python"
  }
 },
 "nbformat": 4,
 "nbformat_minor": 2
}
