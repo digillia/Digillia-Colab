{
 "cells": [
  {
   "cell_type": "markdown",
   "metadata": {},
   "source": [
    "# Groq\n",
    "\n",
    "[![Index](https://img.shields.io/badge/Index-blue)](../index.ipynb)\n",
    "[![Open in Colab](https://colab.research.google.com/assets/colab-badge.svg)](https://colab.research.google.com/github/digillia/Digillia-Colab/blob/main/tools/groq.ipynb)\n",
    "\n",
    "Le code ci-après requiert un compte avec Groq. Groq se distingue par un temps d'inférence extrêmement rapide.\n",
    "- https://console.groq.com/keys\n"
   ]
  },
  {
   "cell_type": "code",
   "execution_count": 2,
   "metadata": {},
   "outputs": [],
   "source": [
    "import os\n",
    "import sys\n",
    "\n",
    "# Supprimer les commentaires pour installer (requirements.txt)\n",
    "# !pip3 install -q -U scikit-learn\n",
    "\n",
    "# À installer dans tous les cas pour Google Colab et Github\n",
    "if ('google.colab' in sys.modules) or ('CI' in os.environ):\n",
    "    !pip3 install -q -U groq\n",
    "    !pip3 install -q -U groqflow"
   ]
  },
  {
   "cell_type": "markdown",
   "metadata": {},
   "source": [
    "## Chargement de la Clé pour Groq\n",
    "\n",
    "Il vous faut obtenir de Groq une clé pour exécuter ce bloc-note Jupyter. Vous pouvez consulter [Getting Started](https://console.groq.com/docs/quickstart). Ensuite, le chargement se fait soit à partir de l'environnement (fichier `.env`), soit à partir des secrets de Google Colab."
   ]
  },
  {
   "cell_type": "code",
   "execution_count": 4,
   "metadata": {},
   "outputs": [],
   "source": [
    "if 'google.colab' in sys.modules:\n",
    "  from google.colab import userdata\n",
    "  os.environ['GROQ_API_KEY'] = userdata.get('GROQ_API_KEY')\n",
    "else:\n",
    "  from dotenv import load_dotenv, find_dotenv\n",
    "  _ = load_dotenv(find_dotenv()) # lire le fichier .env local\n",
    "\n",
    "groq_api_key = os.environ['GROQ_API_KEY']"
   ]
  },
  {
   "cell_type": "code",
   "execution_count": 5,
   "metadata": {},
   "outputs": [],
   "source": [
    "from groq import Groq\n",
    "\n",
    "client = Groq(api_key=os.environ.get('GROQ_API_KEY'))"
   ]
  },
  {
   "cell_type": "markdown",
   "metadata": {},
   "source": [
    "## Conversations Chat"
   ]
  },
  {
   "cell_type": "code",
   "execution_count": 7,
   "metadata": {},
   "outputs": [
    {
     "name": "stdout",
     "output_type": "stream",
     "text": [
      "La Première Guerre mondiale a pris fin le 11 novembre 1918, lorsque l'armistice a été signé entre les Alliés et l'Allemagne. Cependant, le traité de Versailles, qui a officiellement mis fin à la guerre, n'a été signé que le 28 juin 1919.\n"
     ]
    }
   ],
   "source": [
    "MODEL = 'llama3-70b-8192' \n",
    "# MODEL = 'mixtral-8x7b-32768'\n",
    "\n",
    "messages = [\n",
    "  { 'role': 'system', 'content': 'Tu es un professeur d\\'histoire.' },\n",
    "  { 'role': 'user', 'content': 'Quand la première guerre mondiale a-t-elle commencé?' },\n",
    "  { 'role': 'assistant', 'content': 'La première guerre mondiale a commencé en 1914.' },\n",
    "  { 'role': 'user', 'content': 'Quand a-t-elle fini?' }\n",
    "]\n",
    "\n",
    "completion = client.chat.completions.create(\n",
    "    messages=messages,\n",
    "    model=MODEL  \n",
    ")\n",
    "\n",
    "response = completion.choices[0].message.content\n",
    "print(response)"
   ]
  },
  {
   "cell_type": "markdown",
   "metadata": {},
   "source": [
    "## Groqflow"
   ]
  },
  {
   "cell_type": "code",
   "execution_count": 25,
   "metadata": {},
   "outputs": [],
   "source": [
    "import numpy as np\n",
    "# from sklearn.datasets import make_classification\n",
    "from sklearn.model_selection import train_test_split\n",
    "from sklearn.ensemble import RandomForestClassifier\n",
    "from sklearn.metrics import classification_report\n",
    "\n",
    "random_state=123\n",
    "\n",
    "# Créer les données\n",
    "# X, y = make_classification(\n",
    "#    n_samples=500,\n",
    "#    n_features=2,\n",
    "#    n_informative=2,\n",
    "#    n_redundant=0,\n",
    "#    n_repeated=0,\n",
    "#    n_classes=2,\n",
    "#    n_clusters_per_class=2,\n",
    "#    class_sep=.9,\n",
    "#    random_state=random_state,\n",
    "# )\n",
    "\n",
    "# Créer les données\n",
    "np.random.seed(random_state)\n",
    "X = np.random.rand(1000, 10).astype(np.float32)\n",
    "y = np.random.randint(2, size=1000)\n",
    "\n",
    "# Diviser les données en ensemble d'entraînement et de test\n",
    "X_train, X_test, y_train, y_test = train_test_split(X, y, test_size=0.2, random_state=random_state)\n",
    "\n",
    "# Entraîner le modèle\n",
    "clf = RandomForestClassifier(max_depth=3, random_state=random_state)\n",
    "clf.fit(X_train, y_train)\n",
    "\n",
    "# Rapport\n",
    "print(classification_report(y_test, clf.predict(X_test)))"
   ]
  },
  {
   "cell_type": "code",
   "execution_count": 27,
   "metadata": {},
   "outputs": [
    {
     "ename": "IntakeError",
     "evalue": "Argument 'model' passed to build_model() is of unsupported type <class 'sklearn.ensemble._forest.RandomForestClassifier'>",
     "output_type": "error",
     "traceback": [
      "\u001b[0;31m---------------------------------------------------------------------------\u001b[0m",
      "\u001b[0;31mIntakeError\u001b[0m                               Traceback (most recent call last)",
      "Cell \u001b[0;32mIn[27], line 4\u001b[0m\n\u001b[1;32m      1\u001b[0m \u001b[38;5;28;01mfrom\u001b[39;00m \u001b[38;5;21;01mgroqflow\u001b[39;00m \u001b[38;5;28;01mimport\u001b[39;00m groqit\n\u001b[1;32m      3\u001b[0m \u001b[38;5;66;03m# Construire un modèle pour Groq\u001b[39;00m\n\u001b[0;32m----> 4\u001b[0m gq_clf \u001b[38;5;241m=\u001b[39m \u001b[43mgroqit\u001b[49m\u001b[43m(\u001b[49m\u001b[43mclf\u001b[49m\u001b[43m,\u001b[49m\u001b[43m \u001b[49m\u001b[43m{\u001b[49m\u001b[38;5;124;43m'\u001b[39;49m\u001b[38;5;124;43minput_0\u001b[39;49m\u001b[38;5;124;43m'\u001b[39;49m\u001b[43m:\u001b[49m\u001b[43m \u001b[49m\u001b[43mX_test\u001b[49m\u001b[43m}\u001b[49m\u001b[43m)\u001b[49m\n\u001b[1;32m      6\u001b[0m \u001b[38;5;66;03m# Rapport\u001b[39;00m\n\u001b[1;32m      7\u001b[0m \u001b[38;5;28mprint\u001b[39m(classification_report(y_test, gq_clf\u001b[38;5;241m.\u001b[39mpredict(X_test)))\n",
      "File \u001b[0;32m~/Library/Python/3.9/lib/python/site-packages/groqflow/justgroqit/groqit.py:89\u001b[0m, in \u001b[0;36mgroqit\u001b[0;34m(model, inputs, build_name, cache_dir, monitor, rebuild, compiler_flags, assembler_flags, num_chips, topology, groqview, sequence, quantization_samples)\u001b[0m\n\u001b[1;32m     75\u001b[0m config \u001b[38;5;241m=\u001b[39m ignition\u001b[38;5;241m.\u001b[39mlock_config(\n\u001b[1;32m     76\u001b[0m     model\u001b[38;5;241m=\u001b[39mmodel,\n\u001b[1;32m     77\u001b[0m     build_name\u001b[38;5;241m=\u001b[39mbuild_name,\n\u001b[0;32m   (...)\u001b[0m\n\u001b[1;32m     84\u001b[0m     sequence\u001b[38;5;241m=\u001b[39msequence,\n\u001b[1;32m     85\u001b[0m )\n\u001b[1;32m     87\u001b[0m \u001b[38;5;66;03m# Analyze the user's model argument and lock in the model, inputs,\u001b[39;00m\n\u001b[1;32m     88\u001b[0m \u001b[38;5;66;03m# and sequence that will be used by the rest of groqit()\u001b[39;00m\n\u001b[0;32m---> 89\u001b[0m (model_locked, inputs_locked, sequence_locked, model_type) \u001b[38;5;241m=\u001b[39m \u001b[43mignition\u001b[49m\u001b[38;5;241;43m.\u001b[39;49m\u001b[43mmodel_intake\u001b[49m\u001b[43m(\u001b[49m\n\u001b[1;32m     90\u001b[0m \u001b[43m    \u001b[49m\u001b[43mmodel\u001b[49m\u001b[43m,\u001b[49m\n\u001b[1;32m     91\u001b[0m \u001b[43m    \u001b[49m\u001b[43minputs\u001b[49m\u001b[43m,\u001b[49m\n\u001b[1;32m     92\u001b[0m \u001b[43m    \u001b[49m\u001b[43msequence\u001b[49m\u001b[43m,\u001b[49m\n\u001b[1;32m     93\u001b[0m \u001b[43m    \u001b[49m\u001b[43mconfig\u001b[49m\u001b[43m,\u001b[49m\n\u001b[1;32m     94\u001b[0m \u001b[43m    \u001b[49m\u001b[43muser_quantization_samples\u001b[49m\u001b[38;5;241;43m=\u001b[39;49m\u001b[43mquantization_samples\u001b[49m\u001b[43m,\u001b[49m\n\u001b[1;32m     95\u001b[0m \u001b[43m\u001b[49m\u001b[43m)\u001b[49m\n\u001b[1;32m     97\u001b[0m \u001b[38;5;66;03m# Get the state of the model from the GroqFlow cache if a valid build is available\u001b[39;00m\n\u001b[1;32m     98\u001b[0m state \u001b[38;5;241m=\u001b[39m ignition\u001b[38;5;241m.\u001b[39mload_or_make_state(\n\u001b[1;32m     99\u001b[0m     config\u001b[38;5;241m=\u001b[39mconfig,\n\u001b[1;32m    100\u001b[0m     cache_dir\u001b[38;5;241m=\u001b[39mcache_dir,\n\u001b[0;32m   (...)\u001b[0m\n\u001b[1;32m    107\u001b[0m     quantization_samples\u001b[38;5;241m=\u001b[39mquantization_samples,\n\u001b[1;32m    108\u001b[0m )\n",
      "File \u001b[0;32m~/Library/Python/3.9/lib/python/site-packages/groqflow/justgroqit/ignition.py:379\u001b[0m, in \u001b[0;36mmodel_intake\u001b[0;34m(user_model, user_inputs, user_sequence, config, user_quantization_samples)\u001b[0m\n\u001b[1;32m    376\u001b[0m \u001b[38;5;28;01mif\u001b[39;00m build\u001b[38;5;241m.\u001b[39mUSE_TORCH_IMPORTER:\n\u001b[1;32m    377\u001b[0m     override_sequence_map \u001b[38;5;241m=\u001b[39m groq_model_type_torch_importer_override_to_sequence\n\u001b[0;32m--> 379\u001b[0m model, inputs, sequence, model_type \u001b[38;5;241m=\u001b[39m \u001b[43mof_ignition\u001b[49m\u001b[38;5;241;43m.\u001b[39;49m\u001b[43mmodel_intake\u001b[49m\u001b[43m(\u001b[49m\n\u001b[1;32m    380\u001b[0m \u001b[43m    \u001b[49m\u001b[43muser_model\u001b[49m\u001b[38;5;241;43m=\u001b[39;49m\u001b[43muser_model\u001b[49m\u001b[43m,\u001b[49m\n\u001b[1;32m    381\u001b[0m \u001b[43m    \u001b[49m\u001b[43muser_inputs\u001b[49m\u001b[38;5;241;43m=\u001b[39;49m\u001b[43muser_inputs\u001b[49m\u001b[43m,\u001b[49m\n\u001b[1;32m    382\u001b[0m \u001b[43m    \u001b[49m\u001b[43muser_sequence\u001b[49m\u001b[38;5;241;43m=\u001b[39;49m\u001b[43muser_sequence\u001b[49m\u001b[43m,\u001b[49m\n\u001b[1;32m    383\u001b[0m \u001b[43m    \u001b[49m\u001b[43muser_quantization_samples\u001b[49m\u001b[38;5;241;43m=\u001b[39;49m\u001b[43muser_quantization_samples\u001b[49m\u001b[43m,\u001b[49m\n\u001b[1;32m    384\u001b[0m \u001b[43m    \u001b[49m\u001b[43moverride_quantization_sequence_map\u001b[49m\u001b[38;5;241;43m=\u001b[39;49m\u001b[43mgroq_model_type_to_sequence_with_quantization\u001b[49m\u001b[43m,\u001b[49m\n\u001b[1;32m    385\u001b[0m \u001b[43m    \u001b[49m\u001b[43moverride_sequence_map\u001b[49m\u001b[38;5;241;43m=\u001b[39;49m\u001b[43moverride_sequence_map\u001b[49m\u001b[43m,\u001b[49m\n\u001b[1;32m    386\u001b[0m \u001b[43m\u001b[49m\u001b[43m)\u001b[49m\n\u001b[1;32m    388\u001b[0m \u001b[38;5;28;01mif\u001b[39;00m \u001b[38;5;124m\"\u001b[39m\u001b[38;5;124m--auto-asm\u001b[39m\u001b[38;5;124m\"\u001b[39m \u001b[38;5;129;01min\u001b[39;00m config\u001b[38;5;241m.\u001b[39mcompiler_flags:\n\u001b[1;32m    389\u001b[0m     sequence\u001b[38;5;241m.\u001b[39mstages \u001b[38;5;241m=\u001b[39m [\n\u001b[1;32m    390\u001b[0m         stage\n\u001b[1;32m    391\u001b[0m         \u001b[38;5;28;01mfor\u001b[39;00m stage \u001b[38;5;129;01min\u001b[39;00m sequence\u001b[38;5;241m.\u001b[39mstages\n\u001b[1;32m    392\u001b[0m         \u001b[38;5;28;01mif\u001b[39;00m \u001b[38;5;129;01mnot\u001b[39;00m \u001b[38;5;28misinstance\u001b[39m(stage, \u001b[38;5;28mcompile\u001b[39m\u001b[38;5;241m.\u001b[39mAssemble)\n\u001b[1;32m    393\u001b[0m     ]\n",
      "File \u001b[0;32m~/Library/Python/3.9/lib/python/site-packages/onnxflow/justbuildit/ignition.py:652\u001b[0m, in \u001b[0;36mmodel_intake\u001b[0;34m(user_model, user_inputs, user_sequence, user_quantization_samples, override_quantization_sequence_map, override_sequence_map, export_only)\u001b[0m\n\u001b[1;32m    649\u001b[0m \u001b[38;5;28;01melse\u001b[39;00m:\n\u001b[1;32m    650\u001b[0m     inputs \u001b[38;5;241m=\u001b[39m user_inputs\n\u001b[0;32m--> 652\u001b[0m model_type \u001b[38;5;241m=\u001b[39m \u001b[43midentify_model_type\u001b[49m\u001b[43m(\u001b[49m\u001b[43muser_model\u001b[49m\u001b[43m)\u001b[49m\n\u001b[1;32m    654\u001b[0m sequence \u001b[38;5;241m=\u001b[39m user_sequence\n\u001b[1;32m    655\u001b[0m \u001b[38;5;28;01mif\u001b[39;00m sequence \u001b[38;5;129;01mis\u001b[39;00m \u001b[38;5;28;01mNone\u001b[39;00m:\n\u001b[1;32m    656\u001b[0m     \u001b[38;5;66;03m# Assign a sequence based on the ModelType\u001b[39;00m\n",
      "File \u001b[0;32m~/Library/Python/3.9/lib/python/site-packages/onnxflow/justbuildit/ignition.py:574\u001b[0m, in \u001b[0;36midentify_model_type\u001b[0;34m(model)\u001b[0m\n\u001b[1;32m    572\u001b[0m     model_type \u001b[38;5;241m=\u001b[39m build\u001b[38;5;241m.\u001b[39mModelType\u001b[38;5;241m.\u001b[39mHUMMINGBIRD\n\u001b[1;32m    573\u001b[0m \u001b[38;5;28;01melse\u001b[39;00m:\n\u001b[0;32m--> 574\u001b[0m     \u001b[38;5;28;01mraise\u001b[39;00m exp\u001b[38;5;241m.\u001b[39mIntakeError(\n\u001b[1;32m    575\u001b[0m         \u001b[38;5;124m\"\u001b[39m\u001b[38;5;124mArgument \u001b[39m\u001b[38;5;124m'\u001b[39m\u001b[38;5;124mmodel\u001b[39m\u001b[38;5;124m'\u001b[39m\u001b[38;5;124m passed to build_model() is \u001b[39m\u001b[38;5;124m\"\u001b[39m\n\u001b[1;32m    576\u001b[0m         \u001b[38;5;124mf\u001b[39m\u001b[38;5;124m\"\u001b[39m\u001b[38;5;124mof unsupported type \u001b[39m\u001b[38;5;132;01m{\u001b[39;00m\u001b[38;5;28mtype\u001b[39m(model)\u001b[38;5;132;01m}\u001b[39;00m\u001b[38;5;124m\"\u001b[39m\n\u001b[1;32m    577\u001b[0m     )\n\u001b[1;32m    579\u001b[0m \u001b[38;5;28;01mreturn\u001b[39;00m model_type\n",
      "\u001b[0;31mIntakeError\u001b[0m: Argument 'model' passed to build_model() is of unsupported type <class 'sklearn.ensemble._forest.RandomForestClassifier'>"
     ]
    }
   ],
   "source": [
    "from groqflow import groqit\n",
    "\n",
    "# Construire un modèle pour Groq\n",
    "gq_clf = groqit(clf, {'input_0': X_test})\n",
    "\n",
    "# Rapport\n",
    "print(classification_report(y_test, gq_clf.predict(X_test)))"
   ]
  }
 ],
 "metadata": {
  "kernelspec": {
   "display_name": "Python 3",
   "language": "python",
   "name": "python3"
  },
  "language_info": {
   "codemirror_mode": {
    "name": "ipython",
    "version": 3
   },
   "file_extension": ".py",
   "mimetype": "text/x-python",
   "name": "python",
   "nbconvert_exporter": "python",
   "pygments_lexer": "ipython3",
   "version": "3.9.6"
  }
 },
 "nbformat": 4,
 "nbformat_minor": 2
}
