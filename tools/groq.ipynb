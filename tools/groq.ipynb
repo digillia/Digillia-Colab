{
 "cells": [
  {
   "cell_type": "markdown",
   "metadata": {},
   "source": [
    "# Groq\n",
    "\n",
    "[![Index](https://img.shields.io/badge/Index-blue)](../index.ipynb)\n",
    "[![Open in Colab](https://colab.research.google.com/assets/colab-badge.svg)](https://colab.research.google.com/github/digillia/Digillia-Colab/blob/main/tools/groq.ipynb)\n",
    "\n",
    "Le code ci-après requiert un compte avec Groq. Groq se distingue par un temps d'inférence extrêmement rapide.\n",
    "\n",
    "Docs:\n",
    "- https://github.com/groq/groq-python\n",
    "- https://groq.com/"
   ]
  },
  {
   "cell_type": "code",
   "execution_count": 2,
   "metadata": {},
   "outputs": [],
   "source": [
    "import os\n",
    "import sys\n",
    "\n",
    "# Supprimer les commentaires pour installer (requirements.txt)\n",
    "# !pip3 install -q -U scikit-learn\n",
    "\n",
    "# À installer dans tous les cas pour Google Colab et Github\n",
    "if ('google.colab' in sys.modules) or ('CI' in os.environ):\n",
    "    !pip3 install -q -U groq\n",
    "    !pip3 install -q -U groqflow"
   ]
  },
  {
   "cell_type": "markdown",
   "metadata": {},
   "source": [
    "## Chargement de la Clé pour Groq\n",
    "\n",
    "Il vous faut obtenir de Groq une clé pour exécuter ce bloc-note Jupyter. Vous pouvez consulter [Getting Started](https://console.groq.com/docs/quickstart). Ensuite, le chargement se fait soit à partir de l'environnement (fichier `.env`), soit à partir des secrets de Google Colab."
   ]
  },
  {
   "cell_type": "code",
   "execution_count": 4,
   "metadata": {},
   "outputs": [],
   "source": [
    "groq_api_key = None\n",
    "if 'google.colab' in sys.modules:\n",
    "  from google.colab import userdata\n",
    "  groq_api_key = userdata.get('GROQ_API_KEY')\n",
    "else:\n",
    "  from dotenv import load_dotenv, find_dotenv\n",
    "  _ = load_dotenv(find_dotenv()) # lire le fichier .env local\n",
    "  groq_api_key = os.environ['GROQ_API_KEY']"
   ]
  },
  {
   "cell_type": "code",
   "execution_count": 5,
   "metadata": {},
   "outputs": [],
   "source": [
    "from groq import Groq\n",
    "\n",
    "client = Groq(api_key=groq_api_key)"
   ]
  },
  {
   "cell_type": "markdown",
   "metadata": {},
   "source": [
    "## Conversations Chat"
   ]
  },
  {
   "cell_type": "code",
   "execution_count": 7,
   "metadata": {},
   "outputs": [
    {
     "name": "stdout",
     "output_type": "stream",
     "text": [
      "La Première Guerre mondiale a pris fin le 11 novembre 1918, lorsque l'armistice a été signé entre les Alliés et l'Allemagne. Cependant, le traité de Versailles, qui a officiellement mis fin à la guerre, n'a été signé que le 28 juin 1919.\n"
     ]
    }
   ],
   "source": [
    "MODEL = 'llama3-70b-8192' \n",
    "# MODEL = 'mixtral-8x7b-32768'\n",
    "\n",
    "messages = [\n",
    "  { 'role': 'system', 'content': 'Tu es un professeur d\\'histoire.' },\n",
    "  { 'role': 'user', 'content': 'Quand la première guerre mondiale a-t-elle commencé?' },\n",
    "  { 'role': 'assistant', 'content': 'La première guerre mondiale a commencé en 1914.' },\n",
    "  { 'role': 'user', 'content': 'Quand a-t-elle fini?' }\n",
    "]\n",
    "\n",
    "completion = client.chat.completions.create(\n",
    "    messages=messages,\n",
    "    model=MODEL  \n",
    ")\n",
    "\n",
    "response = completion.choices[0].message.content\n",
    "print(response)"
   ]
  },
  {
   "cell_type": "markdown",
   "metadata": {},
   "source": [
    "## Groqflow\n",
    "\n",
    "En attente de création de compte sur https://support.groq.com/#/register, suite à la signature d'un NDA.\n",
    "\n",
    "```\n",
    "StageError: groq-devtools>=0.9.2.1 is a required dependency for this part of GroqFlow. However, groq-devtools was not found. Please contact sales@groq.com to get access to groq-devtools.\n",
    "```"
   ]
  }
 ],
 "metadata": {
  "kernelspec": {
   "display_name": "Python 3",
   "language": "python",
   "name": "python3"
  },
  "language_info": {
   "codemirror_mode": {
    "name": "ipython",
    "version": 3
   },
   "file_extension": ".py",
   "mimetype": "text/x-python",
   "name": "python",
   "nbconvert_exporter": "python",
   "pygments_lexer": "ipython3",
   "version": "3.9.6"
  }
 },
 "nbformat": 4,
 "nbformat_minor": 2
}
