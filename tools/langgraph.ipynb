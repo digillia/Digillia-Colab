{
 "cells": [
  {
   "cell_type": "markdown",
   "metadata": {},
   "source": [
    "# LangGraph\n",
    "\n",
    "[![Index](https://img.shields.io/badge/Index-blue)](../index.ipynb)\n",
    "[![Open in Colab](https://colab.research.google.com/assets/colab-badge.svg)](https://colab.research.google.com/github/digillia/Digillia-Colab/blob/main/tools/langgraph.ipynb)\n",
    "\n",
    "Ce bloc-note Jupyter décrit l'usage de [LangGraph](https://www.langchain.com/langgraph) pour des workflow agentiques (graphes). Contrairement aux graphes acycliques directs (DAGs) et aux pipelines, les workflow agentiques réalisées avec LangGraph permettent des cycles (par exemple, de révision type critique/améliore) et l'intervention humaine (human in the loop).\n",
    "\n",
    "Docs:\n",
    "- https://github.com/langchain-ai/langgraph\n",
    "- https://www.langchain.com/langgraph\n",
    "\n",
    "> <span style='color:red'>ATTENTION: notebook en cours d'élaboration!</span>"
   ]
  },
  {
   "cell_type": "code",
   "execution_count": 7,
   "metadata": {},
   "outputs": [],
   "source": [
    "!pip3 install -U -q langgraph"
   ]
  },
  {
   "cell_type": "markdown",
   "metadata": {},
   "source": [
    "## Graphe Hello (minimal)"
   ]
  },
  {
   "cell_type": "code",
   "execution_count": 11,
   "metadata": {},
   "outputs": [
    {
     "name": "stdout",
     "output_type": "stream",
     "text": [
      "Hello, John!\n"
     ]
    }
   ],
   "source": [
    "from langgraph.graph import StateGraph\n",
    "\n",
    "graph = StateGraph(str)\n",
    "\n",
    "def hello(state: str) -> str:\n",
    "    text = f\"Hello, {state}!\"\n",
    "    return text\n",
    "\n",
    "graph.add_node(\"hello\", hello)\n",
    "graph.set_entry_point(\"hello\")\n",
    "graph.set_finish_point(\"hello\")\n",
    "compiled = graph.compile()\n",
    "result = compiled.invoke(\"John\")\n",
    "print(result)\n"
   ]
  }
 ],
 "metadata": {
  "kernelspec": {
   "display_name": "Python 3",
   "language": "python",
   "name": "python3"
  },
  "language_info": {
   "codemirror_mode": {
    "name": "ipython",
    "version": 3
   },
   "file_extension": ".py",
   "mimetype": "text/x-python",
   "name": "python",
   "nbconvert_exporter": "python",
   "pygments_lexer": "ipython3",
   "version": "3.9.6"
  }
 },
 "nbformat": 4,
 "nbformat_minor": 2
}
