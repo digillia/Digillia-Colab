{
 "cells": [
  {
   "cell_type": "markdown",
   "metadata": {},
   "source": [
    "# Label Studio\n",
    "\n",
    "Docs:\n",
    "- https://github.com/HumanSignal/label-studio\n",
    "- https://labelstud.io/"
   ]
  },
  {
   "cell_type": "markdown",
   "metadata": {},
   "source": [
    "# ReDash\n",
    "\n",
    "Docs:\n",
    "- https://github.com/getredash/redash\n",
    "- https://redash.io/"
   ]
  }
 ],
 "metadata": {
  "language_info": {
   "name": "python"
  }
 },
 "nbformat": 4,
 "nbformat_minor": 2
}
