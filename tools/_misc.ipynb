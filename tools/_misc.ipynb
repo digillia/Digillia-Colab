{
 "cells": [
  {
   "cell_type": "markdown",
   "metadata": {},
   "source": [
    "# Apache Airflow\n",
    "\n",
    "Docs:\n",
    "- https://github.com/apache/airflow\n",
    "- https://airflow.apache.org/"
   ]
  },
  {
   "cell_type": "markdown",
   "metadata": {},
   "source": [
    "# Apache Beam\n",
    "\n",
    "Docs:\n",
    "- https://github.com/apache/beam\n",
    "- https://beam.apache.org/"
   ]
  },
  {
   "cell_type": "markdown",
   "metadata": {},
   "source": [
    "# Apache Superset\n",
    "\n",
    "- https://github.com/apache/superset\n",
    "- https://superset.apache.org/\n",
    "- https://github.com/betodealmeida/shillelagh (JSON RestFul APIs)\n",
    "- https://github.com/apache/superset/issues/2790 (No Python Queries)"
   ]
  },
  {
   "cell_type": "markdown",
   "metadata": {},
   "source": [
    "# KubeFlow\n",
    "\n",
    "Docs:\n",
    "- https://github.com/kubeflow/kubeflow\n",
    "- https://www.kubeflow.org/"
   ]
  },
  {
   "cell_type": "markdown",
   "metadata": {},
   "source": [
    "# Label Studio\n",
    "\n",
    "Docs:\n",
    "- https://github.com/HumanSignal/label-studio\n",
    "- https://labelstud.io/"
   ]
  },
  {
   "cell_type": "markdown",
   "metadata": {},
   "source": [
    "# ReDash\n",
    "\n",
    "Docs:\n",
    "- https://github.com/getredash/redash\n",
    "- https://redash.io/\n",
    "- https://redash.io/help/data-sources/querying/json-api (JSON RestFul APIs)\n",
    "- https://redash.io/help/data-sources/querying/python (python queries)"
   ]
  }
 ],
 "metadata": {
  "language_info": {
   "name": "python"
  }
 },
 "nbformat": 4,
 "nbformat_minor": 2
}
