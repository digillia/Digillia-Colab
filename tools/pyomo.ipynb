{
 "cells": [
  {
   "cell_type": "markdown",
   "metadata": {},
   "source": [
    "# Pyomo\n",
    "\n",
    "[![Index](https://img.shields.io/badge/Index-blue)](../index.ipynb)\n",
    "[![Open in Colab](https://colab.research.google.com/assets/colab-badge.svg)](https://colab.research.google.com/github/digillia/Digillia-Colab/blob/main/tools/pyomo.ipynb)\n",
    "\n",
    "Comme [OR Tools](https://github.com/google/or-tools), [Pyomo](https://github.com/Pyomo/pyomo) permet de formuler facilement des problèmes d'optimisation mathématique en Python et de transmettre ces problèmes à un solveur. Pyomo peut utiliser de nombreux solveurs : [glpk](https://www.gnu.org/software/glpk/) est gratuit et pratique pour les problèmes d'optimisation de petite et moyenne taille.\n",
    "\n",
    "Docs:\n",
    "- https://github.com/Pyomo/pyomo\n",
    "- https://www.pyomo.org/\n",
    "- https://www.gnu.org/software/glpk/\n",
    "\n",
    "Voir aussi:\n",
    "- https://jckantor.github.io/ND-Pyomo-Cookbook/README.html"
   ]
  },
  {
   "cell_type": "code",
   "execution_count": 17,
   "metadata": {},
   "outputs": [],
   "source": [
    "import sys\n",
    "\n",
    "# Supprimer les commentaires pour installer\n",
    "# !pip3 install -q -U numpy\n",
    "# !pip3 install -q -U pandas\n",
    "\n",
    "# À installer dans tous les cas pour Google Colab\n",
    "if 'google.colab' in sys.modules:\n",
    "    !pip3 install -q -U pyomo"
   ]
  },
  {
   "cell_type": "code",
   "execution_count": 18,
   "metadata": {},
   "outputs": [
    {
     "name": "stdout",
     "output_type": "stream",
     "text": [
      "\u001b[34m==>\u001b[0m \u001b[1mDownloading https://formulae.brew.sh/api/formula.jws.json\u001b[0m\n",
      "\n",
      "\u001b[34m==>\u001b[0m \u001b[1mDownloading https://formulae.brew.sh/api/cask.jws.json\u001b[0m\n",
      "\n",
      "\u001b[33mWarning:\u001b[0m glpk 5.0 is already installed and up-to-date.\n",
      "To reinstall 5.0, run:\n",
      "  brew reinstall glpk\n"
     ]
    }
   ],
   "source": [
    "if sys.platform == 'linux' or sys.platform == 'linux2':\n",
    "    !apt-get install -y -qq glpk-utils\n",
    "elif sys.platform == 'darwin':\n",
    "    # Assurez-vous d'avoir brew installé: https://brew.sh/\n",
    "    !brew install glpk\n",
    "elif sys.platform == 'win32':\n",
    "    print('Download and run the installer from https://winglpk.sourceforge.net/')\n",
    "\n",
    "# Vérifier l'installation du solveur glpk\n",
    "# !glpsol --help\n",
    "\n",
    "executable = 'glpsol' #'/usr/bin/glpsol'"
   ]
  },
  {
   "cell_type": "code",
   "execution_count": 19,
   "metadata": {},
   "outputs": [],
   "source": [
    "import numpy as np\n",
    "import pandas as pd\n",
    "from pyomo.environ import *"
   ]
  },
  {
   "cell_type": "markdown",
   "metadata": {},
   "source": [
    "## Premier problème d'optimisation linéaire\n",
    "\n",
    "Un fabricant d'électroménager tente de maximiser ses profits en décidant du nombre de lave-linges et de sèche-linge à produire, sous réserve de contraintes sur les ressources de fabrication, de test et d'assemblage:\n",
    "- Les ressources de l’entreprise sont telles que seulement 20 heures de fabrication, 20 heures d’assemblage et 25 heures de tests sont disponibles par jour.\n",
    "- La production d'un lave-linge nécessite 1 heure de fabrication, 2 heures d'assemblage et 2 heures de tests pour générer un bénéfice de €100,00.\n",
    "- La production d'un sèche-linge nécessite 2 heures de fabrication, 1 heure d'assemblage et 2 heures de tests pour générer un bénéfice de €120,00.\n",
    "\n",
    "Nous avons formulé mathématiquement ce problème comme suit, en définissant\n",
    "- $x_1$ comme le nombre de lave-linges produits par jour, et\n",
    "- $x_2$ comme le nombre de sèche-linges produits par jour.\n",
    "\n",
    "$$\n",
    "\\begin{aligned}\n",
    "& \\underset{x}{\\text{maximiser}}\n",
    "& & 100 x_1 + 120 x_2\\\\\n",
    "& \\text{sachant que}\n",
    "& & x_1 + 2 x_2 \\leq 20 \\\\\n",
    "& & & 2x_1 +  x_2 \\leq 20 \\\\\n",
    "& & & 2x_1 + 2 x_2 \\leq 25 \\\\\n",
    "&&& x_1, x_2 \\geq 0\n",
    "\\end{aligned}\n",
    "$$"
   ]
  },
  {
   "cell_type": "code",
   "execution_count": 20,
   "metadata": {},
   "outputs": [
    {
     "name": "stdout",
     "output_type": "stream",
     "text": [
      "1 Var Declarations\n",
      "    x : Size=2, Index={1, 2}\n",
      "        Key : Lower : Value : Upper : Fixed : Stale : Domain\n",
      "          1 :     0 :  None :  None : False :  True : NonNegativeReals\n",
      "          2 :     0 :  None :  None : False :  True : NonNegativeReals\n",
      "\n",
      "1 Objective Declarations\n",
      "    profit : Size=1, Index=None, Active=True\n",
      "        Key  : Active : Sense    : Expression\n",
      "        None :   True : maximize : 100*x[1] + 120*x[2]\n",
      "\n",
      "3 Constraint Declarations\n",
      "    assembly : Size=1, Index=None, Active=True\n",
      "        Key  : Lower : Body          : Upper : Active\n",
      "        None :  -Inf : 2*x[1] + x[2] :  20.0 :   True\n",
      "    manufacturing : Size=1, Index=None, Active=True\n",
      "        Key  : Lower : Body          : Upper : Active\n",
      "        None :  -Inf : x[1] + 2*x[2] :  20.0 :   True\n",
      "    testing : Size=1, Index=None, Active=True\n",
      "        Key  : Lower : Body            : Upper : Active\n",
      "        None :  -Inf : 2*x[1] + 2*x[2] :  25.0 :   True\n",
      "\n",
      "5 Declarations: x profit manufacturing assembly testing\n"
     ]
    }
   ],
   "source": [
    "# Création du modèle\n",
    "model = ConcreteModel()\n",
    "\n",
    "# Déclaration des 2 variables x1 et x2\n",
    "model.x = Var([1,2], domain=NonNegativeReals)\n",
    "\n",
    "# Déclaration de l'objectif\n",
    "model.profit = Objective(expr = 100*model.x[1] + 120*model.x[2], sense=maximize)\n",
    "\n",
    "# Déclaration des contraintes\n",
    "model.manufacturing = Constraint(expr = model.x[1] +2*model.x[2] <= 20)\n",
    "model.assembly = Constraint(expr = 2*model.x[1] + model.x[2] <= 20)\n",
    "model.testing = Constraint(expr = 2*model.x[1] + 2*model.x[2] <= 25)\n",
    "\n",
    "# Affichage du modèle\n",
    "model.pprint()"
   ]
  },
  {
   "cell_type": "code",
   "execution_count": 21,
   "metadata": {},
   "outputs": [
    {
     "name": "stdout",
     "output_type": "stream",
     "text": [
      "# ==========================================================\n",
      "# = Solver Results                                         =\n",
      "# ==========================================================\n",
      "# ----------------------------------------------------------\n",
      "#   Problem Information\n",
      "# ----------------------------------------------------------\n",
      "Problem: \n",
      "- Name: unknown\n",
      "  Lower bound: 1400.0\n",
      "  Upper bound: 1400.0\n",
      "  Number of objectives: 1\n",
      "  Number of constraints: 3\n",
      "  Number of variables: 2\n",
      "  Number of nonzeros: 6\n",
      "  Sense: maximize\n",
      "# ----------------------------------------------------------\n",
      "#   Solver Information\n",
      "# ----------------------------------------------------------\n",
      "Solver: \n",
      "- Status: ok\n",
      "  Termination condition: optimal\n",
      "  Statistics: \n",
      "    Branch and bound: \n",
      "      Number of bounded subproblems: 0\n",
      "      Number of created subproblems: 0\n",
      "  Error rc: 0\n",
      "  Time: 0.05493307113647461\n",
      "# ----------------------------------------------------------\n",
      "#   Solution Information\n",
      "# ----------------------------------------------------------\n",
      "Solution: \n",
      "- number of solutions: 0\n",
      "  number of solutions displayed: 0\n"
     ]
    }
   ],
   "source": [
    "# Résolution du modèle avec le solveur glpk\n",
    "SolverFactory('glpk', executable=executable).solve(model).write()"
   ]
  },
  {
   "cell_type": "code",
   "execution_count": 22,
   "metadata": {},
   "outputs": [
    {
     "name": "stdout",
     "output_type": "stream",
     "text": [
      "Profit quotidien =  1400.0\n",
      "Nombre de lave-linges  x1 =  5.0\n",
      "Nombre de sèche-linges x2 =  7.5\n"
     ]
    }
   ],
   "source": [
    "# Affichage de la solution\n",
    "def print_solution(model):\n",
    "    print('Profit quotidien = ', model.profit())\n",
    "    print('Nombre de lave-linges  x1 = ', model.x[1].value)\n",
    "    print('Nombre de sèche-linges x2 = ', model.x[2].value)\n",
    "print_solution(model)"
   ]
  },
  {
   "cell_type": "code",
   "execution_count": 23,
   "metadata": {},
   "outputs": [
    {
     "name": "stdout",
     "output_type": "stream",
     "text": [
      "Ressources utilisées\n",
      "Fabrication  =  20.0\n",
      "Assemblage =  17.5\n",
      "Test =  25.0\n"
     ]
    }
   ],
   "source": [
    "# Affichage des ressources utilisées\n",
    "def print_resources(model):\n",
    "    print('Ressources utilisées')\n",
    "    print('Fabrication  = ', model.manufacturing())\n",
    "    print('Assemblage = ', model.assembly())\n",
    "    print('Test = ', model.testing())\n",
    "print_resources(model)"
   ]
  },
  {
   "cell_type": "markdown",
   "metadata": {},
   "source": [
    "On note que la production est limitée par la fabrication et le test, puisque les 20 heures d'assemblage disponibles quotidiennement ne sont pas utilisées."
   ]
  },
  {
   "cell_type": "code",
   "execution_count": 24,
   "metadata": {},
   "outputs": [
    {
     "name": "stdout",
     "output_type": "stream",
     "text": [
      "Profit quotidien =  1460.0\n",
      "Nombre de lave-linges  x1 =  5.0\n",
      "Nombre de sèche-linges x2 =  8.0\n",
      "\n",
      "\n",
      "Ressources utilisées\n",
      "Fabrication  =  21.0\n",
      "Assemblage =  18.0\n",
      "Test =  26.0\n"
     ]
    }
   ],
   "source": [
    "# Désactivation des contraintes limitatives\n",
    "model.manufacturing.deactivate()\n",
    "model.testing.deactivate()\n",
    "\n",
    "# Augmentation des ressources disponibles\n",
    "model.manufacturing_new = Constraint(expr = model.x[1] +2*model.x[2] <= 21 )\n",
    "model.testing_new = Constraint(expr = 2*model.x[1] +2*model.x[2] <= 26 )\n",
    "\n",
    "# Résolution du modèle avec le solveur glpk\n",
    "SolverFactory('glpk', executable=executable).solve(model)\n",
    "\n",
    "# Affichage la solution\n",
    "print_solution(model)\n",
    "print('\\n')\n",
    "# Affichage des ressources utilisées\n",
    "print_resources(model)"
   ]
  },
  {
   "cell_type": "markdown",
   "metadata": {},
   "source": [
    "## Deuxième problème d'optimisation linéaire"
   ]
  },
  {
   "cell_type": "markdown",
   "metadata": {},
   "source": [
    "Un distributeur cherche à optimiser la distribution:\n",
    "- dans un ensemble de villes $C$ où des entrepôts peuvent être établis,\n",
    "- dans un ensemble de régions $R$ à approvisionner,\n",
    "- avec des coûts fixes $c_i$ pour l'ouverture d'un entrepôt dans la ville $i$,\n",
    "- avec une demande $b_j$ de chaque région $j$, et\n",
    "- avec des frais d'expédition $t_{ij}$ de la ville $i$ à la région $j$.\n",
    "\n",
    "L'optimisation consiste à décider des variables\n",
    "- $y_i$ (1 ou 0 - pour ouvrir ou pas un entrepôt dans la ville $i$), et\n",
    "- $x_{ij}$ (quelle quantité de fournitures envoyer de la ville $i$ à la région $j$ sachant que chaque entrepôt a une capacité limitée à 100).\n",
    "\n",
    "Nous avons formulé mathématiquement ce problème d'optimisation comme suit (toutes les données ont une périodicité hebdomadaire):\n",
    "\n",
    "$$\n",
    "\\begin{aligned}\n",
    "& \\underset{x,y}{\\text{minmiser}}\n",
    "& & \\sum_{i \\in C}c_i y_i + \\sum_{i \\in C}\\sum_{j \\in R} t_{ij} x_{ij}\\\\\n",
    "& \\text{sachant que}\n",
    "& & \\sum_{j \\in R} x_{ij} \\leq 100 y_i, \\forall \\:  i \\in C \\\\\n",
    "& & & \\sum_{i \\in C} x_{ij} = b_j, \\forall \\:  j \\in R \\\\\n",
    "& & & x_{ij} \\in \\mathbb{Z}^+  , \\forall \\:  i \\in C, j \\in R  \\\\\n",
    "&&& y_i \\in \\{0,1\\} , \\forall \\:  i \\in C\n",
    "\\end{aligned}\n",
    "$$"
   ]
  },
  {
   "cell_type": "code",
   "execution_count": 25,
   "metadata": {},
   "outputs": [
    {
     "data": {
      "text/html": [
       "<div>\n",
       "<style scoped>\n",
       "    .dataframe tbody tr th:only-of-type {\n",
       "        vertical-align: middle;\n",
       "    }\n",
       "\n",
       "    .dataframe tbody tr th {\n",
       "        vertical-align: top;\n",
       "    }\n",
       "\n",
       "    .dataframe thead th {\n",
       "        text-align: right;\n",
       "    }\n",
       "</style>\n",
       "<table border=\"1\" class=\"dataframe\">\n",
       "  <thead>\n",
       "    <tr style=\"text-align: right;\">\n",
       "      <th></th>\n",
       "      <th>City</th>\n",
       "      <th>Region 1</th>\n",
       "      <th>Region 2</th>\n",
       "      <th>Region 3</th>\n",
       "    </tr>\n",
       "  </thead>\n",
       "  <tbody>\n",
       "    <tr>\n",
       "      <th>0</th>\n",
       "      <td>0</td>\n",
       "      <td>20</td>\n",
       "      <td>40</td>\n",
       "      <td>50</td>\n",
       "    </tr>\n",
       "    <tr>\n",
       "      <th>1</th>\n",
       "      <td>1</td>\n",
       "      <td>48</td>\n",
       "      <td>15</td>\n",
       "      <td>26</td>\n",
       "    </tr>\n",
       "    <tr>\n",
       "      <th>2</th>\n",
       "      <td>2</td>\n",
       "      <td>26</td>\n",
       "      <td>35</td>\n",
       "      <td>18</td>\n",
       "    </tr>\n",
       "    <tr>\n",
       "      <th>3</th>\n",
       "      <td>3</td>\n",
       "      <td>24</td>\n",
       "      <td>50</td>\n",
       "      <td>35</td>\n",
       "    </tr>\n",
       "  </tbody>\n",
       "</table>\n",
       "</div>"
      ],
      "text/plain": [
       "   City  Region 1  Region 2  Region 3\n",
       "0     0        20        40        50\n",
       "1     1        48        15        26\n",
       "2     2        26        35        18\n",
       "3     3        24        50        35"
      ]
     },
     "execution_count": 25,
     "metadata": {},
     "output_type": "execute_result"
    }
   ],
   "source": [
    "# Les villes des entrepôts\n",
    "C = range(4)\n",
    "\n",
    "# Les régions désservies\n",
    "R = range(3)\n",
    "\n",
    "# Les coûts fixes correspondants\n",
    "c = [400, 500, 300, 150]\n",
    "\n",
    "# La demande dans chaque région\n",
    "b = [80, 70, 40]\n",
    "\n",
    "# Les frais d'expédition de ville (entrepôt) à région\n",
    "df = pd.DataFrame.from_dict({\n",
    "    'City': C,\n",
    "    'Region 1': [20, 48, 26, 24],\n",
    "    'Region 2': [40, 15, 35, 50],\n",
    "    'Region 3': [50, 26, 18, 35]\n",
    "})\n",
    "t = np.array(df.iloc[0:4,1:4])\n",
    "df"
   ]
  },
  {
   "cell_type": "code",
   "execution_count": 26,
   "metadata": {},
   "outputs": [],
   "source": [
    "# Création du model\n",
    "model = ConcreteModel()\n",
    "\n",
    "# Déclaration des variables y_i et x_ij\n",
    "model.y = Var(C, domain=Binary)\n",
    "model.x = Var(C, R, domain=NonNegativeIntegers)\n",
    "\n",
    "# Déclaratin de l'objectif\n",
    "model.profit = Objective(expr =  sum(c[i]*model.y[i] for i in C) + \n",
    "                         sum(sum(t[i,j]*model.x[i,j] for i in C) for j in R ), sense=minimize)\n",
    "\n",
    "# Déclaration des contraintes\n",
    "model.constraints = ConstraintList()\n",
    "#forcing constraints\n",
    "for i in C:\n",
    "    model.constraints.add(sum(model.x[i,j] for j in R) <= 100*model.y[i])\n",
    "# Demande des régions\n",
    "for j in R:\n",
    "    model.constraints.add(sum(model.x[i,j] for i in C) == b[j])"
   ]
  },
  {
   "cell_type": "code",
   "execution_count": 27,
   "metadata": {},
   "outputs": [
    {
     "name": "stdout",
     "output_type": "stream",
     "text": [
      "# ==========================================================\n",
      "# = Solver Results                                         =\n",
      "# ==========================================================\n",
      "# ----------------------------------------------------------\n",
      "#   Problem Information\n",
      "# ----------------------------------------------------------\n",
      "Problem: \n",
      "- Name: unknown\n",
      "  Lower bound: 4570.0\n",
      "  Upper bound: 4570.0\n",
      "  Number of objectives: 1\n",
      "  Number of constraints: 7\n",
      "  Number of variables: 16\n",
      "  Number of nonzeros: 28\n",
      "  Sense: minimize\n",
      "# ----------------------------------------------------------\n",
      "#   Solver Information\n",
      "# ----------------------------------------------------------\n",
      "Solver: \n",
      "- Status: ok\n",
      "  Termination condition: optimal\n",
      "  Statistics: \n",
      "    Branch and bound: \n",
      "      Number of bounded subproblems: 5\n",
      "      Number of created subproblems: 5\n",
      "  Error rc: 0\n",
      "  Time: 0.006451129913330078\n",
      "# ----------------------------------------------------------\n",
      "#   Solution Information\n",
      "# ----------------------------------------------------------\n",
      "Solution: \n",
      "- number of solutions: 0\n",
      "  number of solutions displayed: 0\n"
     ]
    }
   ],
   "source": [
    "# Résolution du modèle avec le solveur glpk\n",
    "SolverFactory('glpk', executable=executable).solve(model).write()"
   ]
  },
  {
   "cell_type": "code",
   "execution_count": 28,
   "metadata": {},
   "outputs": [
    {
     "name": "stdout",
     "output_type": "stream",
     "text": [
      "Profit =  4570.0\n",
      "\n",
      "\n",
      "y: entrepôts ouverts\n",
      "   Ville Ouvert?\n",
      "0      0     oui\n",
      "1      1     oui\n",
      "2      2     oui\n",
      "3      3     non\n",
      "\n",
      "\n",
      "x: flux de la ville i vers la région j\n",
      "   City  Region 1  Region 2  Region 3\n",
      "0     0        80         0         0\n",
      "1     1         0        70         0\n",
      "2     2         0         0        40\n",
      "3     3         0         0         0\n"
     ]
    }
   ],
   "source": [
    "# Affichage de la solution \n",
    "print('Profit = ', model.profit())\n",
    "print('\\n')\n",
    "print('y: entrepôts ouverts')\n",
    "print(pd.DataFrame({'Ville':df.City,'Ouvert?':[('oui' if model.y[i].value == 1 else 'non') for i in C]}))\n",
    "print('\\n')\n",
    "print('x: flux de la ville i vers la région j')\n",
    "x = df.copy()\n",
    "for i in C:\n",
    "  for j in R:\n",
    "    x.iloc[i,j+1] = model.x[i,j].value\n",
    "print(x)"
   ]
  }
 ],
 "metadata": {
  "kernelspec": {
   "display_name": "Python 3",
   "language": "python",
   "name": "python3"
  },
  "language_info": {
   "codemirror_mode": {
    "name": "ipython",
    "version": 3
   },
   "file_extension": ".py",
   "mimetype": "text/x-python",
   "name": "python",
   "nbconvert_exporter": "python",
   "pygments_lexer": "ipython3",
   "version": "3.9.6"
  }
 },
 "nbformat": 4,
 "nbformat_minor": 2
}
