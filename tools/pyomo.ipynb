{
 "cells": [
  {
   "cell_type": "markdown",
   "metadata": {},
   "source": [
    "# Pyomo\n",
    "\n",
    "[![Index](https://img.shields.io/badge/Index-blue)](../index.ipynb)\n",
    "[![Open in Colab](https://colab.research.google.com/assets/colab-badge.svg)](https://colab.research.google.com/github/digillia/Digillia-Colab/blob/main/tools/pyomo.ipynb)\n",
    "\n",
    "Comme [OR Tools](https://github.com/google/or-tools), [Pyomo](https://github.com/Pyomo/pyomo) permet de formuler facilement des problèmes d'optimisation mathématique en Python et de transmettre ces problèmes à un solveur. Pyomo peut utiliser de nombreux solveurs : [glpk](https://www.gnu.org/software/glpk/) est gratuit et pratique pour les problèmes d'optimisation de petite et moyenne taille.\n",
    "\n",
    "Docs:\n",
    "- https://github.com/Pyomo/pyomo\n",
    "- https://www.pyomo.org/\n",
    "- https://www.gnu.org/software/glpk/\n",
    "\n",
    "Voir aussi:\n",
    "- https://jckantor.github.io/ND-Pyomo-Cookbook/README.html"
   ]
  },
  {
   "cell_type": "code",
   "execution_count": 32,
   "metadata": {},
   "outputs": [],
   "source": [
    "import sys\n",
    "\n",
    "# Supprimer les commentaires pour installer\n",
    "\n",
    "# À installer dans tous les cas pour Google Colab\n",
    "if 'google.colab' in sys.modules:\n",
    "    !pip3 install -q -U pyomo"
   ]
  },
  {
   "cell_type": "code",
   "execution_count": 33,
   "metadata": {},
   "outputs": [
    {
     "name": "stdout",
     "output_type": "stream",
     "text": [
      "\u001b[34m==>\u001b[0m \u001b[1mDownloading https://formulae.brew.sh/api/formula.jws.json\u001b[0m\n",
      "\n",
      "\u001b[34m==>\u001b[0m \u001b[1mDownloading https://formulae.brew.sh/api/cask.jws.json\u001b[0m\n",
      "\n",
      "\u001b[33mWarning:\u001b[0m glpk 5.0 is already installed and up-to-date.\n",
      "To reinstall 5.0, run:\n",
      "  brew reinstall glpk\n",
      "Usage: glpsol [options...] filename\n",
      "\n",
      "General options:\n",
      "   --mps             read LP/MIP problem in fixed MPS format\n",
      "   --freemps         read LP/MIP problem in free MPS format (default)\n",
      "   --lp              read LP/MIP problem in CPLEX LP format\n",
      "   --glp             read LP/MIP problem in GLPK format \n",
      "   --math            read LP/MIP model written in GNU MathProg modeling\n",
      "                     language\n",
      "   -m filename, --model filename\n",
      "                     read model section and optional data section from\n",
      "                     filename (same as --math)\n",
      "   -d filename, --data filename\n",
      "                     read data section from filename (for --math only);\n",
      "                     if model file also has data section, it is ignored\n",
      "   -y filename, --display filename\n",
      "                     send display output to filename (for --math only);\n",
      "                     by default the output is sent to terminal\n",
      "   --seed value      initialize pseudo-random number generator used in\n",
      "                     MathProg model with specified seed (any integer);\n",
      "                     if seed value is ?, some random seed will be used\n",
      "   --mincost         read min-cost flow problem in DIMACS format\n",
      "   --maxflow         read maximum flow problem in DIMACS format\n",
      "   --cnf             read CNF-SAT problem in DIMACS format\n",
      "   --simplex         use simplex method (default)\n",
      "   --interior        use interior point method (LP only)\n",
      "   -r filename, --read filename\n",
      "                     read solution from filename rather to find it with\n",
      "                     the solver\n",
      "   --min             minimization\n",
      "   --max             maximization\n",
      "   --scale           scale problem (default)\n",
      "   --noscale         do not scale problem\n",
      "   -o filename, --output filename\n",
      "                     write solution to filename in printable format\n",
      "   -w filename, --write filename\n",
      "                     write solution to filename in plain text format\n",
      "   --ranges filename\n",
      "                     write sensitivity analysis report to filename in\n",
      "                     printable format (simplex only)\n",
      "   --tmlim nnn       limit solution time to nnn seconds \n",
      "   --memlim nnn      limit available memory to nnn megabytes\n",
      "   --check           do not solve problem, check input data only\n",
      "   --name probname   change problem name to probname\n",
      "   --hide            remove all symbolic names from problem object\n",
      "   --wmps filename   write problem to filename in fixed MPS format\n",
      "   --wfreemps filename\n",
      "                     write problem to filename in free MPS format\n",
      "   --wlp filename    write problem to filename in CPLEX LP format\n",
      "   --wglp filename   write problem to filename in GLPK format\n",
      "   --wcnf filename   write problem to filename in DIMACS CNF-SAT format\n",
      "   --log filename    write copy of terminal output to filename\n",
      "   -h, --help        display this help information and exit\n",
      "   -v, --version     display program version and exit\n",
      "\n",
      "LP basis factorization options:\n",
      "   --luf             plain LU-factorization (default)\n",
      "   --btf             block triangular LU-factorization\n",
      "   --ft              Forrest-Tomlin update (requires --luf; default)\n",
      "   --cbg             Schur complement + Bartels-Golub update\n",
      "   --cgr             Schur complement + Givens rotation update\n",
      "\n",
      "Options specific to simplex solver:\n",
      "   --primal          use primal simplex (default)\n",
      "   --dual            use dual simplex\n",
      "   --std             use standard initial basis of all slacks\n",
      "   --adv             use advanced initial basis (default)\n",
      "   --bib             use Bixby's initial basis\n",
      "   --ini filename    use as initial basis previously saved with -w\n",
      "                     (disables LP presolver)\n",
      "   --steep           use steepest edge technique (default)\n",
      "   --nosteep         use standard \"textbook\" pricing\n",
      "   --relax           use Harris' two-pass ratio test (default)\n",
      "   --norelax         use standard \"textbook\" ratio test\n",
      "   --flip            use long-step ratio test\n",
      "   --presol          use presolver (default; assumes --scale and --adv)\n",
      "   --nopresol        do not use presolver\n",
      "   --exact           use simplex method based on exact arithmetic\n",
      "   --xcheck          check final basis using exact arithmetic\n",
      "\n",
      "Options specific to interior-point solver:\n",
      "   --nord            use natural (original) ordering\n",
      "   --qmd             use quotient minimum degree ordering\n",
      "   --amd             use approximate minimum degree ordering (default)\n",
      "   --symamd          use approximate minimum degree ordering\n",
      "\n",
      "Options specific to MIP solver:\n",
      "   --nomip           consider all integer variables as continuous\n",
      "                     (allows solving MIP as pure LP)\n",
      "   --first           branch on first integer variable\n",
      "   --last            branch on last integer variable\n",
      "   --mostf           branch on most fractional variable \n",
      "   --drtom           branch using heuristic by Driebeck and Tomlin\n",
      "                     (default)\n",
      "   --pcost           branch using hybrid pseudocost heuristic (may be\n",
      "                     useful for hard instances)\n",
      "   --dfs             backtrack using depth first search \n",
      "   --bfs             backtrack using breadth first search\n",
      "   --bestp           backtrack using the best projection heuristic\n",
      "   --bestb           backtrack using node with best local bound\n",
      "                     (default)\n",
      "   --intopt          use MIP presolver (default)\n",
      "   --nointopt        do not use MIP presolver\n",
      "   --binarize        replace general integer variables by binary ones\n",
      "                     (assumes --intopt)\n",
      "   --fpump           apply feasibility pump heuristic\n",
      "   --proxy [nnn]     apply proximity search heuristic (nnn is time limit\n",
      "                     in seconds; default is 60)\n",
      "   --gomory          generate Gomory's mixed integer cuts\n",
      "   --mir             generate MIR (mixed integer rounding) cuts\n",
      "   --cover           generate mixed cover cuts\n",
      "   --clique          generate clique cuts\n",
      "   --cuts            generate all cuts above\n",
      "   --mipgap tol      set relative mip gap tolerance to tol\n",
      "   --minisat         translate integer feasibility problem to CNF-SAT\n",
      "                     and solve it with MiniSat solver\n",
      "   --objbnd bound    add inequality obj <= bound (minimization) or\n",
      "                     obj >= bound (maximization) to integer feasibility\n",
      "                     problem (assumes --minisat)\n",
      "\n",
      "For description of the MPS and CPLEX LP formats see Reference Manual.\n",
      "For description of the modeling language see \"GLPK: Modeling Language\n",
      "GNU MathProg\". Both documents are included in the GLPK distribution.\n",
      "\n",
      "See GLPK web page at <http://www.gnu.org/software/glpk/glpk.html>.\n",
      "\n",
      "Please report bugs to <bug-glpk@gnu.org>.\n"
     ]
    }
   ],
   "source": [
    "if sys.platform == 'linux' or sys.platform == 'linux2':\n",
    "    !apt-get install -y -qq glpk-utils\n",
    "elif sys.platform == 'darwin':\n",
    "    # Make sure you have https://brew.sh/\n",
    "    !brew install glpk\n",
    "elif sys.platform == 'win32':\n",
    "    print('Download and run the installer from https://winglpk.sourceforge.net/')\n",
    "\n",
    "# Check install\n",
    "!glpsol --help"
   ]
  },
  {
   "cell_type": "code",
   "execution_count": 34,
   "metadata": {},
   "outputs": [],
   "source": [
    "from pyomo.environ import ConcreteModel, Constraint, NonNegativeReals, maximize, Objective, SolverFactory, Var"
   ]
  },
  {
   "cell_type": "markdown",
   "metadata": {},
   "source": [
    "## Premier problème d'optimisation linéaire\n",
    "\n",
    "Un fabricant d'électroménager tente de maximiser ses profits en décidant du nombre de lave-linges et de sèche-linge à produire, sous réserve de contraintes sur les ressources de fabrication, de test et d'assemblage:\n",
    "- Les ressources de l’entreprise sont telles que seulement 20 heures de fabrication, 20 heures d’assemblage et 25 heures de tests sont disponibles par jour.\n",
    "- La production d'un lave-linge nécessite 1 heure de fabrication, 2 heures d'assemblage et 2 heures de tests pour générer un bénéfice de €100,00.\n",
    "- La production d'un sèche-linge nécessite 2 heures de fabrication, 1 heure d'assemblage et 2 heures de tests pour générer un bénéfice de €120,00.\n",
    "\n",
    "Nous avons formulé mathématiquement ce problème comme suit, en définissant\n",
    "- $x_1$ comme le nombre de lave-linges produites par jour, et\n",
    "- $x_2$ comme le nombre de sèche-linges produits par jour.\n",
    "\n",
    "$$\n",
    "\\begin{aligned}\n",
    "& \\underset{x}{\\text{maximiser}}\n",
    "& & 100 x_1 + 120 x_2\\\\\n",
    "& \\text{sachant que}\n",
    "& & x_1 + 2 x_2 \\leq 20 \\\\\n",
    "& & & 2x_1 +  x_2 \\leq 20 \\\\\n",
    "& & & 2x_1 + 2 x_2 \\leq 25 \\\\\n",
    "&&& x_1, x_2 \\geq 0\n",
    "\\end{aligned}\n",
    "$$"
   ]
  },
  {
   "cell_type": "code",
   "execution_count": 35,
   "metadata": {},
   "outputs": [
    {
     "name": "stdout",
     "output_type": "stream",
     "text": [
      "1 Var Declarations\n",
      "    x : Size=2, Index={1, 2}\n",
      "        Key : Lower : Value : Upper : Fixed : Stale : Domain\n",
      "          1 :     0 :  None :  None : False :  True : NonNegativeReals\n",
      "          2 :     0 :  None :  None : False :  True : NonNegativeReals\n",
      "\n",
      "1 Objective Declarations\n",
      "    profit : Size=1, Index=None, Active=True\n",
      "        Key  : Active : Sense    : Expression\n",
      "        None :   True : maximize : 100*x[1] + 120*x[2]\n",
      "\n",
      "3 Constraint Declarations\n",
      "    assembly : Size=1, Index=None, Active=True\n",
      "        Key  : Lower : Body          : Upper : Active\n",
      "        None :  -Inf : 2*x[1] + x[2] :  20.0 :   True\n",
      "    manufacturing : Size=1, Index=None, Active=True\n",
      "        Key  : Lower : Body          : Upper : Active\n",
      "        None :  -Inf : x[1] + 2*x[2] :  20.0 :   True\n",
      "    testing : Size=1, Index=None, Active=True\n",
      "        Key  : Lower : Body            : Upper : Active\n",
      "        None :  -Inf : 2*x[1] + 2*x[2] :  25.0 :   True\n",
      "\n",
      "5 Declarations: x profit manufacturing assembly testing\n"
     ]
    }
   ],
   "source": [
    "# Créer le modèle\n",
    "model = ConcreteModel()\n",
    "\n",
    "# Déclarer les 2 variables x1 et x2\n",
    "model.x = Var([1,2],domain=NonNegativeReals)\n",
    "\n",
    "# Déclarer l'objectif\n",
    "model.profit = Objective(expr = 100*model.x[1] + 120*model.x[2], sense=maximize)\n",
    "\n",
    "# Déclarer les contraintes\n",
    "model.manufacturing = Constraint(expr = model.x[1] +2*model.x[2] <= 20)\n",
    "model.assembly = Constraint(expr = 2*model.x[1] + model.x[2] <= 20)\n",
    "model.testing = Constraint(expr = 2*model.x[1] + 2*model.x[2] <= 25)\n",
    "\n",
    "# Afficher le modèle\n",
    "model.pprint()"
   ]
  },
  {
   "cell_type": "code",
   "execution_count": 36,
   "metadata": {},
   "outputs": [
    {
     "name": "stdout",
     "output_type": "stream",
     "text": [
      "# ==========================================================\n",
      "# = Solver Results                                         =\n",
      "# ==========================================================\n",
      "# ----------------------------------------------------------\n",
      "#   Problem Information\n",
      "# ----------------------------------------------------------\n",
      "Problem: \n",
      "- Name: unknown\n",
      "  Lower bound: 1400.0\n",
      "  Upper bound: 1400.0\n",
      "  Number of objectives: 1\n",
      "  Number of constraints: 3\n",
      "  Number of variables: 2\n",
      "  Number of nonzeros: 6\n",
      "  Sense: maximize\n",
      "# ----------------------------------------------------------\n",
      "#   Solver Information\n",
      "# ----------------------------------------------------------\n",
      "Solver: \n",
      "- Status: ok\n",
      "  Termination condition: optimal\n",
      "  Statistics: \n",
      "    Branch and bound: \n",
      "      Number of bounded subproblems: 0\n",
      "      Number of created subproblems: 0\n",
      "  Error rc: 0\n",
      "  Time: 0.009205818176269531\n",
      "# ----------------------------------------------------------\n",
      "#   Solution Information\n",
      "# ----------------------------------------------------------\n",
      "Solution: \n",
      "- number of solutions: 0\n",
      "  number of solutions displayed: 0\n"
     ]
    }
   ],
   "source": [
    "# Résoudre le modèle avec le solveur glpk\n",
    "executable = 'glpsol' #'/usr/bin/glpsol'\n",
    "SolverFactory('glpk', executable=executable).solve(model).write()"
   ]
  },
  {
   "cell_type": "code",
   "execution_count": 37,
   "metadata": {},
   "outputs": [
    {
     "name": "stdout",
     "output_type": "stream",
     "text": [
      "Profit quotidien =  1400.0\n",
      "Nombre de lave-linges  x1 =  5.0\n",
      "Nombre de sèche-linges x2 =  7.5\n"
     ]
    }
   ],
   "source": [
    "# Affichage de la solution\n",
    "def print_solution(model):\n",
    "    print('Profit quotidien = ', model.profit())\n",
    "    print('Nombre de lave-linges  x1 = ', model.x[1].value)\n",
    "    print('Nombre de sèche-linges x2 = ', model.x[2].value)\n",
    "print_solution(model)"
   ]
  },
  {
   "cell_type": "code",
   "execution_count": 38,
   "metadata": {},
   "outputs": [
    {
     "name": "stdout",
     "output_type": "stream",
     "text": [
      "Ressources utilisées\n",
      "Fabrication  =  20.0\n",
      "Assemblage =  17.5\n",
      "Test =  25.0\n"
     ]
    }
   ],
   "source": [
    "# Affichage des ressources utilisées\n",
    "def print_resources(model):\n",
    "    print('Ressources utilisées')\n",
    "    print('Fabrication  = ', model.manufacturing())\n",
    "    print('Assemblage = ', model.assembly())\n",
    "    print('Test = ', model.testing())\n",
    "print_resources(model)"
   ]
  },
  {
   "cell_type": "markdown",
   "metadata": {},
   "source": [
    "On note que la production est limitée par la fabrication et le test, puisque les 20 heures d'assemblage disponibles quotidiennement ne sont pas utilisées."
   ]
  },
  {
   "cell_type": "code",
   "execution_count": 39,
   "metadata": {},
   "outputs": [
    {
     "name": "stdout",
     "output_type": "stream",
     "text": [
      "Profit quotidien =  1460.0\n",
      "Nombre de lave-linges  x1 =  5.0\n",
      "Nombre de sèche-linges x2 =  8.0\n",
      "\n",
      "\n",
      "Ressources utilisées\n",
      "Fabrication  =  21.0\n",
      "Assemblage =  18.0\n",
      "Test =  26.0\n"
     ]
    }
   ],
   "source": [
    "# Déactiver les contraintes limitatives\n",
    "model.manufacturing.deactivate()\n",
    "model.testing.deactivate()\n",
    "\n",
    "# Augmenter les ressources disponibles\n",
    "model.manufacturing_new = Constraint(expr = model.x[1] +2*model.x[2] <= 21 )\n",
    "model.testing_new = Constraint(expr = 2*model.x[1] +2*model.x[2] <= 26 )\n",
    "\n",
    "# Résoudre le modèle avec le solveur glpk\n",
    "SolverFactory('glpk', executable=executable).solve(model)\n",
    "\n",
    "# Afficher la solution\n",
    "print_solution(model)\n",
    "print('\\n')\n",
    "# Afficher les ressources utilisées\n",
    "print_resources(model)"
   ]
  }
 ],
 "metadata": {
  "kernelspec": {
   "display_name": "Python 3",
   "language": "python",
   "name": "python3"
  },
  "language_info": {
   "codemirror_mode": {
    "name": "ipython",
    "version": 3
   },
   "file_extension": ".py",
   "mimetype": "text/x-python",
   "name": "python",
   "nbconvert_exporter": "python",
   "pygments_lexer": "ipython3",
   "version": "3.9.6"
  }
 },
 "nbformat": 4,
 "nbformat_minor": 2
}
