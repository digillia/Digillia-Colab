{
 "cells": [
  {
   "cell_type": "markdown",
   "metadata": {},
   "source": [
    "# Amazon Web Services\n",
    "\n",
    "[![Index](https://img.shields.io/badge/Index-blue)](../index.ipynb)\n",
    "[![Open in Colab](https://colab.research.google.com/assets/colab-badge.svg)](https://colab.research.google.com/github/digillia/Digillia-Colab/blob/main/tools/aws.ipynb)\n",
    "\n",
    "Le code ci-après requiert un compte avec Amazon Web Services:\n",
    "- https://console.aws.amazon.com\n",
    "\n",
    "TODO:\n",
    "- https://aws.amazon.com/blogs/machine-learning/train-and-host-scikit-learn-models-in-amazon-sagemaker-by-building-a-scikit-docker-container/\n",
    "- https://www.youtube.com/watch?v=C_AtgCm43Nk\n",
    "- https://github.com/learn-mikegchambers-com/aws-mls-c01/tree/master/8-SageMaker/SageMaker-Script-Mode\n",
    "- https://sagemaker.readthedocs.io/en/stable/frameworks/sklearn/using_sklearn.html\n",
    "- https://aws.amazon.com/fr/blogs/machine-learning/reduce-the-time-taken-to-deploy-your-models-to-amazon-sagemaker-for-testing/"
   ]
  },
  {
   "cell_type": "markdown",
   "metadata": {},
   "source": [
    "The most recent version of Scikit-Learn supported by Sagemaker is v1.2.1.\n",
    "Check https://docs.aws.amazon.com/sagemaker/latest/dg/sklearn.html.\n",
    "\n",
    "Therefore the most recent version of python to run this notebook is v3.11 for it still has distutils.\n",
    "Consider creating a virtual environment with a compatible version of python.\n",
    "\n",
    "```bash\n",
    "/usr/bin/python3 -m venv .aws_env && \\\n",
    "    source .aws_env/bin/activate\n",
    "```"
   ]
  },
  {
   "cell_type": "code",
   "execution_count": 29,
   "metadata": {},
   "outputs": [
    {
     "name": "stdout",
     "output_type": "stream",
     "text": [
      "Collecting scikit-learn==1.2.1\n",
      "  Using cached scikit_learn-1.2.1-cp39-cp39-macosx_12_0_arm64.whl (8.4 MB)\n",
      "Requirement already satisfied: scipy>=1.3.2 in /Users/jlchereau/Projects/Digillia/Digillia-Colab/.aws_env/lib/python3.9/site-packages (from scikit-learn==1.2.1) (1.13.1)\n",
      "Requirement already satisfied: threadpoolctl>=2.0.0 in /Users/jlchereau/Projects/Digillia/Digillia-Colab/.aws_env/lib/python3.9/site-packages (from scikit-learn==1.2.1) (3.5.0)\n",
      "Requirement already satisfied: joblib>=1.1.1 in /Users/jlchereau/Projects/Digillia/Digillia-Colab/.aws_env/lib/python3.9/site-packages (from scikit-learn==1.2.1) (1.4.2)\n",
      "Requirement already satisfied: numpy>=1.17.3 in /Users/jlchereau/Projects/Digillia/Digillia-Colab/.aws_env/lib/python3.9/site-packages (from scikit-learn==1.2.1) (1.26.4)\n",
      "Installing collected packages: scikit-learn\n",
      "  Attempting uninstall: scikit-learn\n",
      "    Found existing installation: scikit-learn 1.6.0\n",
      "    Uninstalling scikit-learn-1.6.0:\n",
      "      Successfully uninstalled scikit-learn-1.6.0\n",
      "Successfully installed scikit-learn-1.2.1\n",
      "Requirement already satisfied: numpy==1.26.4 in /Users/jlchereau/Projects/Digillia/Digillia-Colab/.aws_env/lib/python3.9/site-packages (1.26.4)\n"
     ]
    }
   ],
   "source": [
    "import os\n",
    "import sys\n",
    "\n",
    "# Supprimer les commentaires pour installer (requirements.txt)\n",
    "# Sagemaker does not support recent versions of scikit-learn: \n",
    "!pip3 install -U scikit-learn==1.2.1 # requires python <=3.11 because distutils was removed in 3.12\n",
    "!pip3 install -U numpy==1.26.4 # prevents sagemaker_containers._errors.ClientError: No module named 'numpy._core.multiarray'\n",
    "\n",
    "# À installer dans tous les cas pour Google Colab et Github\n",
    "if ('google.colab' in sys.modules) or ('CI' in os.environ):\n",
    "    !pip3 install -q -U boto3\n",
    "    !pip3 install -q -U sagemaker\n",
    "    #!pip3 install -q -U aws-cdk.aws-s3 # https://docs.aws.amazon.com/cdk/v2/guide/serverless_example.html"
   ]
  },
  {
   "cell_type": "code",
   "execution_count": 84,
   "metadata": {},
   "outputs": [],
   "source": [
    "if 'google.colab' in sys.modules:\n",
    "    from google.colab import userdata\n",
    "    os.environ['AWS_ACCESS_KEY_ID'] = userdata.get('AWS_ACCESS_KEY_ID')\n",
    "    os.environ['AWS_SECRET_ACCESS_KEY'] = userdata.get('AWS_SECRET_ACCESS_KEY')\n",
    "    os.environ['AWS_DEFAULT_REGION'] = userdata.get('AWS_DEFAULT_REGION')"
   ]
  },
  {
   "cell_type": "code",
   "execution_count": 85,
   "metadata": {},
   "outputs": [],
   "source": [
    "# Les variables python sont accessibles depuis les commandes shell\n",
    "work_directory = './aws'\n",
    "\n",
    "!mkdir -p $work_directory"
   ]
  },
  {
   "cell_type": "markdown",
   "metadata": {},
   "source": [
    "## Création et sérialisation d'un modèle SciKit-Learn"
   ]
  },
  {
   "cell_type": "code",
   "execution_count": 87,
   "metadata": {},
   "outputs": [
    {
     "data": {
      "text/html": [
       "<style>#sk-container-id-4 {color: black;background-color: white;}#sk-container-id-4 pre{padding: 0;}#sk-container-id-4 div.sk-toggleable {background-color: white;}#sk-container-id-4 label.sk-toggleable__label {cursor: pointer;display: block;width: 100%;margin-bottom: 0;padding: 0.3em;box-sizing: border-box;text-align: center;}#sk-container-id-4 label.sk-toggleable__label-arrow:before {content: \"▸\";float: left;margin-right: 0.25em;color: #696969;}#sk-container-id-4 label.sk-toggleable__label-arrow:hover:before {color: black;}#sk-container-id-4 div.sk-estimator:hover label.sk-toggleable__label-arrow:before {color: black;}#sk-container-id-4 div.sk-toggleable__content {max-height: 0;max-width: 0;overflow: hidden;text-align: left;background-color: #f0f8ff;}#sk-container-id-4 div.sk-toggleable__content pre {margin: 0.2em;color: black;border-radius: 0.25em;background-color: #f0f8ff;}#sk-container-id-4 input.sk-toggleable__control:checked~div.sk-toggleable__content {max-height: 200px;max-width: 100%;overflow: auto;}#sk-container-id-4 input.sk-toggleable__control:checked~label.sk-toggleable__label-arrow:before {content: \"▾\";}#sk-container-id-4 div.sk-estimator input.sk-toggleable__control:checked~label.sk-toggleable__label {background-color: #d4ebff;}#sk-container-id-4 div.sk-label input.sk-toggleable__control:checked~label.sk-toggleable__label {background-color: #d4ebff;}#sk-container-id-4 input.sk-hidden--visually {border: 0;clip: rect(1px 1px 1px 1px);clip: rect(1px, 1px, 1px, 1px);height: 1px;margin: -1px;overflow: hidden;padding: 0;position: absolute;width: 1px;}#sk-container-id-4 div.sk-estimator {font-family: monospace;background-color: #f0f8ff;border: 1px dotted black;border-radius: 0.25em;box-sizing: border-box;margin-bottom: 0.5em;}#sk-container-id-4 div.sk-estimator:hover {background-color: #d4ebff;}#sk-container-id-4 div.sk-parallel-item::after {content: \"\";width: 100%;border-bottom: 1px solid gray;flex-grow: 1;}#sk-container-id-4 div.sk-label:hover label.sk-toggleable__label {background-color: #d4ebff;}#sk-container-id-4 div.sk-serial::before {content: \"\";position: absolute;border-left: 1px solid gray;box-sizing: border-box;top: 0;bottom: 0;left: 50%;z-index: 0;}#sk-container-id-4 div.sk-serial {display: flex;flex-direction: column;align-items: center;background-color: white;padding-right: 0.2em;padding-left: 0.2em;position: relative;}#sk-container-id-4 div.sk-item {position: relative;z-index: 1;}#sk-container-id-4 div.sk-parallel {display: flex;align-items: stretch;justify-content: center;background-color: white;position: relative;}#sk-container-id-4 div.sk-item::before, #sk-container-id-4 div.sk-parallel-item::before {content: \"\";position: absolute;border-left: 1px solid gray;box-sizing: border-box;top: 0;bottom: 0;left: 50%;z-index: -1;}#sk-container-id-4 div.sk-parallel-item {display: flex;flex-direction: column;z-index: 1;position: relative;background-color: white;}#sk-container-id-4 div.sk-parallel-item:first-child::after {align-self: flex-end;width: 50%;}#sk-container-id-4 div.sk-parallel-item:last-child::after {align-self: flex-start;width: 50%;}#sk-container-id-4 div.sk-parallel-item:only-child::after {width: 0;}#sk-container-id-4 div.sk-dashed-wrapped {border: 1px dashed gray;margin: 0 0.4em 0.5em 0.4em;box-sizing: border-box;padding-bottom: 0.4em;background-color: white;}#sk-container-id-4 div.sk-label label {font-family: monospace;font-weight: bold;display: inline-block;line-height: 1.2em;}#sk-container-id-4 div.sk-label-container {text-align: center;}#sk-container-id-4 div.sk-container {/* jupyter's `normalize.less` sets `[hidden] { display: none; }` but bootstrap.min.css set `[hidden] { display: none !important; }` so we also need the `!important` here to be able to override the default hidden behavior on the sphinx rendered scikit-learn.org. See: https://github.com/scikit-learn/scikit-learn/issues/21755 */display: inline-block !important;position: relative;}#sk-container-id-4 div.sk-text-repr-fallback {display: none;}</style><div id=\"sk-container-id-4\" class=\"sk-top-container\"><div class=\"sk-text-repr-fallback\"><pre>LinearRegression()</pre><b>In a Jupyter environment, please rerun this cell to show the HTML representation or trust the notebook. <br />On GitHub, the HTML representation is unable to render, please try loading this page with nbviewer.org.</b></div><div class=\"sk-container\" hidden><div class=\"sk-item\"><div class=\"sk-estimator sk-toggleable\"><input class=\"sk-toggleable__control sk-hidden--visually\" id=\"sk-estimator-id-4\" type=\"checkbox\" checked><label for=\"sk-estimator-id-4\" class=\"sk-toggleable__label sk-toggleable__label-arrow\">LinearRegression</label><div class=\"sk-toggleable__content\"><pre>LinearRegression()</pre></div></div></div></div></div>"
      ],
      "text/plain": [
       "LinearRegression()"
      ]
     },
     "execution_count": 87,
     "metadata": {},
     "output_type": "execute_result"
    }
   ],
   "source": [
    "from sklearn.datasets import make_regression\n",
    "from sklearn.linear_model import LinearRegression\n",
    "\n",
    "# Création de données synthétiques\n",
    "X, y = make_regression(n_samples=100, n_features=1, random_state=123)\n",
    "\n",
    "# Entrainement d'un modèle de régression linéaire avec scikit-learn\n",
    "model = LinearRegression()\n",
    "model.fit(X, y)"
   ]
  },
  {
   "cell_type": "code",
   "execution_count": 88,
   "metadata": {},
   "outputs": [],
   "source": [
    "import pickle\n",
    "pickle.dump(model, open(f'{work_directory}/model.pkl','wb'))\n",
    "\n",
    "# alternativement\n",
    "# import joblib\n",
    "# joblib.dump(model, f'{work_directory}/model.joblib')"
   ]
  },
  {
   "cell_type": "code",
   "execution_count": 89,
   "metadata": {},
   "outputs": [
    {
     "name": "stdout",
     "output_type": "stream",
     "text": [
      "a model.pkl\n"
     ]
    }
   ],
   "source": [
    "!tar -czvf $work_directory/model.tar.gz -C $work_directory model.pkl\n",
    "#!tar -xzvf $work_directory/model.tar.gz -C $work_directory"
   ]
  },
  {
   "cell_type": "markdown",
   "metadata": {},
   "source": [
    "## Configuration de SageMaker"
   ]
  },
  {
   "cell_type": "markdown",
   "metadata": {},
   "source": [
    "### Création du script d'entrée"
   ]
  },
  {
   "cell_type": "code",
   "execution_count": 90,
   "metadata": {},
   "outputs": [
    {
     "name": "stdout",
     "output_type": "stream",
     "text": [
      "Overwriting ./aws/script.py\n"
     ]
    }
   ],
   "source": [
    "%%writefile $work_directory/script.py\n",
    "import pickle\n",
    "\n",
    "def model_fn(model_dir):\n",
    "    \"\"\"\n",
    "    Loads the model for inference.\n",
    "    \"\"\"\n",
    "    model = pickle.load(open(model_dir + \"/model.pkl\", 'rb'))\n",
    "    return model\n",
    "\n",
    "\n",
    "def predict_fn(input_data, model):\n",
    "    \"\"\"\n",
    "    Takes the deserialized request object and performs inference against the loaded model.\n",
    "    \"\"\"\n",
    "    return model.predict(input_data)"
   ]
  },
  {
   "cell_type": "markdown",
   "metadata": {},
   "source": [
    "### Création du rôle avec attachement de la policy"
   ]
  },
  {
   "cell_type": "code",
   "execution_count": 91,
   "metadata": {},
   "outputs": [
    {
     "name": "stdout",
     "output_type": "stream",
     "text": [
      "Found existing role: SageMakerExecutionRole\n",
      "Role SageMakerExecutionRole deleted successfully.\n",
      "Creating new role: SageMakerExecutionRole\n",
      "Role ARN: arn:aws:iam::215711614536:role/SageMakerExecutionRole\n"
     ]
    }
   ],
   "source": [
    "import boto3\n",
    "import json\n",
    "import botocore\n",
    "\n",
    "iam_client = boto3.client('iam')\n",
    "role_name = 'SageMakerExecutionRole'\n",
    "role_policy = {\n",
    "       'Version': '2012-10-17',\n",
    "       'Statement': [{\n",
    "           'Effect': 'Allow', \n",
    "           'Principal': {'Service': 'sagemaker.amazonaws.com'},\n",
    "           'Action': 'sts:AssumeRole'\n",
    "       }]\n",
    "   }\n",
    "\n",
    "def clean_up_role(role_name):\n",
    "   \"\"\"\n",
    "   Suppression du rôle\n",
    "   \"\"\"\n",
    "   try:\n",
    "      iam_client.detach_role_policy(\n",
    "            RoleName=role_name,\n",
    "            PolicyArn='arn:aws:iam::aws:policy/AmazonSageMakerFullAccess'\n",
    "      )\n",
    "      iam_client.delete_role(RoleName=role_name)\n",
    "      print(f\"Role {role_name} deleted successfully.\")\n",
    "   except botocore.exceptions.ClientError as e:\n",
    "      print(f\"Error deleting role: {e}\")\n",
    "\n",
    "try:\n",
    "   # Recherche du rôle (si déjà créé)\n",
    "   role = iam_client.get_role(RoleName=role_name)\n",
    "   print(f'Found existing role: {role_name}')\n",
    "   clean_up_role(role_name)\n",
    "except iam_client.exceptions.NoSuchEntityException:\n",
    "   print(f'Role {role_name} not found.')\n",
    "\n",
    "try:\n",
    "   # Creation du rôle\n",
    "   print(f'Creating new role: {role_name}')\n",
    "   role = iam_client.create_role(\n",
    "      Path='/',\n",
    "      RoleName=role_name,\n",
    "      Description='Allows SageMaker to call AWS services on your behalf',\n",
    "      AssumeRolePolicyDocument=json.dumps(role_policy)\n",
    "   )\n",
    "   try:\n",
    "      # Attache de la policy AmazonSageMakerFullAccess au rôle\n",
    "      iam_client.attach_role_policy(\n",
    "            RoleName=role_name,\n",
    "            PolicyArn='arn:aws:iam::aws:policy/AmazonSageMakerFullAccess'\n",
    "      )\n",
    "   except botocore.exceptions.ClientError as e:\n",
    "      print(f'Error attaching policy: {e}')\n",
    "      # Suppression du rôle en cas d'échec\n",
    "      iam_client.delete_role(RoleName=role_name)\n",
    "      raise\n",
    "\n",
    "except botocore.exceptions.ClientError as e:\n",
    "   print(f'Unexpected error: {e}')\n",
    "   raise\n",
    "\n",
    "print(f\"Role ARN: {role['Role']['Arn']}\")"
   ]
  },
  {
   "cell_type": "markdown",
   "metadata": {},
   "source": [
    "### Stockage dans S3"
   ]
  },
  {
   "cell_type": "code",
   "execution_count": 60,
   "metadata": {},
   "outputs": [
    {
     "name": "stdout",
     "output_type": "stream",
     "text": [
      "Uploaded model to S3: s3://sagemaker-us-east-1-215711614536/sklearn-model/model.tar.gz\n"
     ]
    }
   ],
   "source": [
    "from sagemaker.session import Session\n",
    "\n",
    "session = Session()\n",
    "bucket = session.default_bucket() # Crée le bucket si besoin\n",
    "\n",
    "# Chargement du model dans l'espace de stockage d'objets S3  \n",
    "model_data = session.upload_data(\n",
    "    path=f'{work_directory}/model.tar.gz',\n",
    "    bucket=bucket,\n",
    "    key_prefix='sklearn-model'\n",
    "    )\n",
    "print(f'Uploaded model to S3: {model_data}')"
   ]
  },
  {
   "cell_type": "markdown",
   "metadata": {},
   "source": [
    "### Creation du modèle dans SageMaker\n",
    "\n",
    "> <span style=\"color:red\">ATTENTION! L'exécution de la cellule suivante peut prendre une dizaine de minutes.</span>"
   ]
  },
  {
   "cell_type": "code",
   "execution_count": 92,
   "metadata": {},
   "outputs": [
    {
     "data": {
      "text/html": [
       "<pre style=\"white-space:pre;overflow-x:auto;line-height:normal;font-family:Menlo,'DejaVu Sans Mono',consolas,'Courier New',monospace\"><span style=\"color: #7fbfbf; text-decoration-color: #7fbfbf\">[12/13/24 19:49:27] </span><span style=\"color: #0069ff; text-decoration-color: #0069ff; font-weight: bold\">INFO    </span> Creating model with name:                                              <a href=\"file:///Users/jlchereau/Projects/Digillia/Digillia-Colab/.aws_env/lib/python3.9/site-packages/sagemaker/session.py\" target=\"_blank\"><span style=\"color: #7f7f7f; text-decoration-color: #7f7f7f\">session.py</span></a><span style=\"color: #7f7f7f; text-decoration-color: #7f7f7f\">:</span><a href=\"file:///Users/jlchereau/Projects/Digillia/Digillia-Colab/.aws_env/lib/python3.9/site-packages/sagemaker/session.py#4094\" target=\"_blank\"><span style=\"color: #7f7f7f; text-decoration-color: #7f7f7f\">4094</span></a>\n",
       "<span style=\"color: #7fbfbf; text-decoration-color: #7fbfbf\">                    </span>         sagemaker-scikit-learn-<span style=\"color: #008080; text-decoration-color: #008080; font-weight: bold\">2024</span>-12-13-18-49-27-220                         <span style=\"color: #7f7f7f; text-decoration-color: #7f7f7f\">               </span>\n",
       "</pre>\n"
      ],
      "text/plain": [
       "\u001b[2;36m[12/13/24 19:49:27]\u001b[0m\u001b[2;36m \u001b[0m\u001b[1;38;2;0;105;255mINFO    \u001b[0m Creating model with name:                                              \u001b]8;id=66552;file:///Users/jlchereau/Projects/Digillia/Digillia-Colab/.aws_env/lib/python3.9/site-packages/sagemaker/session.py\u001b\\\u001b[2msession.py\u001b[0m\u001b]8;;\u001b\\\u001b[2m:\u001b[0m\u001b]8;id=197777;file:///Users/jlchereau/Projects/Digillia/Digillia-Colab/.aws_env/lib/python3.9/site-packages/sagemaker/session.py#4094\u001b\\\u001b[2m4094\u001b[0m\u001b]8;;\u001b\\\n",
       "\u001b[2;36m                    \u001b[0m         sagemaker-scikit-learn-\u001b[1;36m2024\u001b[0m-12-13-18-49-27-220                         \u001b[2m               \u001b[0m\n"
      ]
     },
     "metadata": {},
     "output_type": "display_data"
    },
    {
     "data": {
      "text/html": [
       "<pre style=\"white-space:pre;overflow-x:auto;line-height:normal;font-family:Menlo,'DejaVu Sans Mono',consolas,'Courier New',monospace\"><span style=\"color: #7fbfbf; text-decoration-color: #7fbfbf\">[12/13/24 19:49:28] </span><span style=\"color: #0069ff; text-decoration-color: #0069ff; font-weight: bold\">INFO    </span> Creating endpoint-config with name sklearn-endpoint                    <a href=\"file:///Users/jlchereau/Projects/Digillia/Digillia-Colab/.aws_env/lib/python3.9/site-packages/sagemaker/session.py\" target=\"_blank\"><span style=\"color: #7f7f7f; text-decoration-color: #7f7f7f\">session.py</span></a><span style=\"color: #7f7f7f; text-decoration-color: #7f7f7f\">:</span><a href=\"file:///Users/jlchereau/Projects/Digillia/Digillia-Colab/.aws_env/lib/python3.9/site-packages/sagemaker/session.py#5889\" target=\"_blank\"><span style=\"color: #7f7f7f; text-decoration-color: #7f7f7f\">5889</span></a>\n",
       "</pre>\n"
      ],
      "text/plain": [
       "\u001b[2;36m[12/13/24 19:49:28]\u001b[0m\u001b[2;36m \u001b[0m\u001b[1;38;2;0;105;255mINFO    \u001b[0m Creating endpoint-config with name sklearn-endpoint                    \u001b]8;id=76384;file:///Users/jlchereau/Projects/Digillia/Digillia-Colab/.aws_env/lib/python3.9/site-packages/sagemaker/session.py\u001b\\\u001b[2msession.py\u001b[0m\u001b]8;;\u001b\\\u001b[2m:\u001b[0m\u001b]8;id=972440;file:///Users/jlchereau/Projects/Digillia/Digillia-Colab/.aws_env/lib/python3.9/site-packages/sagemaker/session.py#5889\u001b\\\u001b[2m5889\u001b[0m\u001b]8;;\u001b\\\n"
      ]
     },
     "metadata": {},
     "output_type": "display_data"
    },
    {
     "data": {
      "text/html": [
       "<pre style=\"white-space:pre;overflow-x:auto;line-height:normal;font-family:Menlo,'DejaVu Sans Mono',consolas,'Courier New',monospace\"><span style=\"color: #7fbfbf; text-decoration-color: #7fbfbf\">                    </span><span style=\"color: #0069ff; text-decoration-color: #0069ff; font-weight: bold\">INFO    </span> Creating endpoint with name sklearn-endpoint                           <a href=\"file:///Users/jlchereau/Projects/Digillia/Digillia-Colab/.aws_env/lib/python3.9/site-packages/sagemaker/session.py\" target=\"_blank\"><span style=\"color: #7f7f7f; text-decoration-color: #7f7f7f\">session.py</span></a><span style=\"color: #7f7f7f; text-decoration-color: #7f7f7f\">:</span><a href=\"file:///Users/jlchereau/Projects/Digillia/Digillia-Colab/.aws_env/lib/python3.9/site-packages/sagemaker/session.py#4711\" target=\"_blank\"><span style=\"color: #7f7f7f; text-decoration-color: #7f7f7f\">4711</span></a>\n",
       "</pre>\n"
      ],
      "text/plain": [
       "\u001b[2;36m                   \u001b[0m\u001b[2;36m \u001b[0m\u001b[1;38;2;0;105;255mINFO    \u001b[0m Creating endpoint with name sklearn-endpoint                           \u001b]8;id=201163;file:///Users/jlchereau/Projects/Digillia/Digillia-Colab/.aws_env/lib/python3.9/site-packages/sagemaker/session.py\u001b\\\u001b[2msession.py\u001b[0m\u001b]8;;\u001b\\\u001b[2m:\u001b[0m\u001b]8;id=642489;file:///Users/jlchereau/Projects/Digillia/Digillia-Colab/.aws_env/lib/python3.9/site-packages/sagemaker/session.py#4711\u001b\\\u001b[2m4711\u001b[0m\u001b]8;;\u001b\\\n"
      ]
     },
     "metadata": {},
     "output_type": "display_data"
    },
    {
     "name": "stdout",
     "output_type": "stream",
     "text": [
      "--------------!"
     ]
    }
   ],
   "source": [
    "from sagemaker.sklearn import SKLearnModel\n",
    "from sagemaker.serializers import NumpySerializer\n",
    "from sagemaker.deserializers import NumpyDeserializer\n",
    "# import numpy as np\n",
    "\n",
    "endpoint_name='sklearn-endpoint'\n",
    "\n",
    "# Création du modèle SciKit-Learn dans Sagemaker\n",
    "model = SKLearnModel(\n",
    "    model_data=model_data,\n",
    "    role=role['Role']['Arn'],\n",
    "    framework_version='1.2-1',\n",
    "    py_version='py3',\n",
    "    entry_point='script.py',\n",
    "    source_dir=work_directory\n",
    ")\n",
    "\n",
    "# Creation d'un endpoint sagemaker\n",
    "predictor = model.deploy(\n",
    "    initial_instance_count=1,\n",
    "    instance_type='ml.t2.medium',\n",
    "    endpoint_name=endpoint_name,\n",
    "    sagemaker_session=session,\n",
    "    serializer=NumpySerializer(),\n",
    "    deserializer=NumpyDeserializer()\n",
    ")"
   ]
  },
  {
   "cell_type": "markdown",
   "metadata": {},
   "source": [
    "### Prediction\n",
    "\n",
    "Les prédictions peuvent aussi se faire par POST sur `https://runtime.sagemaker.us-east-1.amazonaws.com/endpoints/sklearn-endpoint/invocations`\n",
    "Voir https://docs.aws.amazon.com/sagemaker/latest/APIReference/API_runtime_InvokeEndpoint.html"
   ]
  },
  {
   "cell_type": "code",
   "execution_count": 94,
   "metadata": {},
   "outputs": [
    {
     "data": {
      "text/plain": [
       "array([ 33.86708459,  67.73416918, 101.60125377, 135.46833837])"
      ]
     },
     "execution_count": 94,
     "metadata": {},
     "output_type": "execute_result"
    }
   ],
   "source": [
    "import numpy as np\n",
    "\n",
    "x = np.array([[1.0],[2.0],[3.0],[4.0]])\n",
    "response = predictor.predict(x)\n",
    "response"
   ]
  },
  {
   "cell_type": "markdown",
   "metadata": {},
   "source": [
    "### Libération des ressources"
   ]
  },
  {
   "cell_type": "code",
   "execution_count": 95,
   "metadata": {},
   "outputs": [],
   "source": [
    "s3_client = boto3.client('s3')\n",
    "sm_client = boto3.client('sagemaker')\n",
    "\n",
    "def clean_up_s3(bucket):\n",
    "    \"\"\"\n",
    "    Suppression du stockage dans S3\n",
    "    \"\"\"\n",
    "    try:\n",
    "        boto3.resource('s3').Bucket(bucket).objects.all().delete()\n",
    "        s3_client.delete_bucket(Bucket=bucket)\n",
    "        print(f'Bucket {bucket} deleted')\n",
    "    except botocore.exceptions.ClientError as e:\n",
    "        print(f'Error deleting bucket: {e}')\n",
    "\n",
    "def get_model_name_from_model_data(model_data):\n",
    "    models = sm_client.list_models()\n",
    "    for model in models['Models']:\n",
    "        model_details = sm_client.describe_model(ModelName=model['ModelName'])\n",
    "        if model_details['PrimaryContainer']['ModelDataUrl'] == model_data:\n",
    "            return model_details['ModelName']\n",
    "    return None \n",
    "\n",
    "def clean_up_sagemaker(endpoint_name):\n",
    "    try:\n",
    "        sm_client.delete_endpoint(EndpointName=endpoint_name)\n",
    "        print(f'Endpoint {endpoint_name} deleted')\n",
    "    except sm_client.exceptions.ClientError as e:\n",
    "        print(f'Endpoint {endpoint_name} does not exist')\n",
    "    except Exception as e:\n",
    "        print(f'{type(e).__name__}: {e}')\n",
    "\n",
    "    try:\n",
    "        sm_client.delete_endpoint_config(EndpointConfigName=endpoint_name)\n",
    "        print(f'Endpoint config for {endpoint_name} deleted')\n",
    "    except sm_client.exceptions.ClientError as e:\n",
    "        print(f'Endpoint config for {endpoint_name} does not exist')\n",
    "    except Exception as e:\n",
    "        print(f'{type(e).__name__}: {e}')\n",
    "\n",
    "    model_name = get_model_name_from_model_data(model_data)\n",
    "    if model_name is not None:\n",
    "        try:\n",
    "            sm_client.delete_model(ModelName=model_name)\n",
    "            print(f'Model {model_name} deleted')\n",
    "        except sm_client.exceptions.ClientError as e:\n",
    "            print(f'Model {model_name} does not exist')\n",
    "        except Exception as e:\n",
    "            print(f'{type(e).__name__}: {e}')"
   ]
  },
  {
   "cell_type": "code",
   "execution_count": 96,
   "metadata": {},
   "outputs": [
    {
     "name": "stdout",
     "output_type": "stream",
     "text": [
      "Endpoint sklearn-endpoint deleted\n",
      "Endpoint config for sklearn-endpoint deleted\n",
      "Model sagemaker-scikit-learn-2024-12-13-18-49-27-220 deleted\n",
      "Bucket sagemaker-us-east-1-215711614536 deleted\n",
      "Role SageMakerExecutionRole deleted successfully.\n"
     ]
    }
   ],
   "source": [
    "endpoint_name='sklearn-endpoint'\n",
    "session = Session()\n",
    "bucket = session.default_bucket()\n",
    "role_name = 'SageMakerExecutionRole'\n",
    "\n",
    "# Ménage des ressources AWS\n",
    "clean_up_sagemaker(endpoint_name)\n",
    "clean_up_s3(bucket)\n",
    "clean_up_role(role_name)"
   ]
  },
  {
   "cell_type": "code",
   "execution_count": 97,
   "metadata": {},
   "outputs": [],
   "source": [
    "# Ménage\n",
    "!rm -rf $work_directory"
   ]
  }
 ],
 "metadata": {
  "kernelspec": {
   "display_name": ".aws_env",
   "language": "python",
   "name": "python3"
  },
  "language_info": {
   "codemirror_mode": {
    "name": "ipython",
    "version": 3
   },
   "file_extension": ".py",
   "mimetype": "text/x-python",
   "name": "python",
   "nbconvert_exporter": "python",
   "pygments_lexer": "ipython3",
   "version": "3.9.6"
  }
 },
 "nbformat": 4,
 "nbformat_minor": 2
}
