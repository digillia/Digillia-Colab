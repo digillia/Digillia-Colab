{
 "cells": [
  {
   "cell_type": "markdown",
   "metadata": {},
   "source": [
    "# Chroma\n",
    "\n",
    "[![Index](https://img.shields.io/badge/Index-blue)](../index.ipynb)\n",
    "[![Open in Colab](https://colab.research.google.com/assets/colab-badge.svg)](https://colab.research.google.com/github/digillia/Digillia-Colab/blob/main/tools/chroma.ipynb)\n",
    "\n",
    "Chroma est une base de données vectorielle:\n",
    "\n",
    "- https://www.trychroma.com/\n",
    "- https://github.com/chroma-core/chroma\n",
    "\n",
    "Ceci est une démonstration de l'usage de Chroma et de l'API Open AI pour poser des questions sur le Code Civil:\n",
    "\n",
    "1. Le Code Civil est d'abord décomposé en documents correspondant aux articles de code.\n",
    "2. Ces documents sont convertis en vecteurs selon le système de codage d'Open AI (embeddings).\n",
    "3. Ces vecteurs sont stockés dans la base vectorielle Chroma pour permettre des recherche sémantiques.\n",
    "4. La base est ensuite recherchée par similarité à une question pour retrouver les documens correspondant aux articles de code pertinents.\n",
    "5. Ces documents sont finalement soumis à ChatGPT avec la question pour y répondre."
   ]
  },
  {
   "cell_type": "code",
   "execution_count": 89,
   "metadata": {},
   "outputs": [],
   "source": [
    "from IPython import get_ipython\n",
    "\n",
    "# Supprimer les commentaires pour installer\n",
    "# !pip3 install -q -U tqdm\n",
    "\n",
    "# À installer dans tous les cas pour Google Colab\n",
    "if 'google.colab' in str(get_ipython()):\n",
    "  !pip3 install -q -U chromadb\n",
    "  !pip3 install -q -U openai\n",
    "  !pip3 install -q -U pypdf\n",
    "  !pip3 install -q -U tiktoken"
   ]
  },
  {
   "cell_type": "code",
   "execution_count": 90,
   "metadata": {},
   "outputs": [],
   "source": [
    "# Cette variable python est accessible depuis les commandes bash\n",
    "work_directory = './chroma'\n",
    "\n",
    "# Récupération des données pour Google Colab\n",
    "if 'google.colab' in str(get_ipython()):\n",
    "  !curl --create-dirs -O --output-dir $work_directory \"https://raw.githubusercontent.com/digillia/Digillia-Colab/main/tools/chroma/code_civil.pdf\""
   ]
  },
  {
   "cell_type": "code",
   "execution_count": 91,
   "metadata": {},
   "outputs": [],
   "source": [
    "# Fonction utilitaire pour afficher du texte sur plusieurs lignes\n",
    "def word_wrap(string, n_chars=72):\n",
    "    if len(string) < n_chars:\n",
    "        return string\n",
    "    else:\n",
    "        return string[:n_chars].rsplit(' ', 1)[0] + '\\n' + word_wrap(string[len(string[:n_chars].rsplit(' ', 1)[0])+1:], n_chars)"
   ]
  },
  {
   "cell_type": "markdown",
   "metadata": {},
   "source": [
    "## Chargement de la Clé pour OpenAI\n",
    "\n",
    "Il vous faut obtenir d'Open AI une clé pour exécuter ce notebook Jupyter. Vous pouvez consulter [Where do I find my API key?](https://help.openai.com/en/articles/4936850-where-do-i-find-my-api-key). Ensuite, le chargement se fait soit à partir de l'environnement (fichier `.env`), soit à partir des secrets de Google Colab."
   ]
  },
  {
   "cell_type": "code",
   "execution_count": 92,
   "metadata": {},
   "outputs": [],
   "source": [
    "import os\n",
    "\n",
    "openai_api_key = None\n",
    "if 'google.colab' in str(get_ipython()):\n",
    "  from google.colab import userdata\n",
    "  openai_api_key = userdata.get('OPENAI_API_KEY')\n",
    "else:\n",
    "  from dotenv import load_dotenv, find_dotenv\n",
    "  _ = load_dotenv(find_dotenv()) # read local .env file\n",
    "  openai_api_key  = os.environ['OPENAI_API_KEY']"
   ]
  },
  {
   "cell_type": "markdown",
   "metadata": {},
   "source": [
    "## Création d'une Base Vectorielle Chroma"
   ]
  },
  {
   "cell_type": "code",
   "execution_count": 93,
   "metadata": {},
   "outputs": [
    {
     "name": "stdout",
     "output_type": "stream",
     "text": [
      "Collection supprimée: code_civil\n"
     ]
    }
   ],
   "source": [
    "import chromadb\n",
    "from chromadb.utils.embedding_functions import OpenAIEmbeddingFunction #, SentenceTransformerEmbeddingFunction\n",
    "\n",
    "# Open AI\n",
    "embedding_function = OpenAIEmbeddingFunction(\n",
    "    api_key=openai_api_key,\n",
    "    # model_name='text-embedding-3-small',\n",
    "    model_name='text-embedding-ada-002',\n",
    "    # model_name='text-embedding-3-large',\n",
    ")\n",
    "\n",
    "# Camembert ne semble pas fonctionner et\n",
    "# all-MiniLM-L6-v2 n'est pas adapté au français\n",
    "# embedding_function = SentenceTransformerEmbeddingFunction(\n",
    "#   # model_name=\"sentence-transformers/all-MiniLM-L6-v2\",\n",
    "#   # model_name=\"dangvantuan/sentence-camembert-base\",\n",
    "#   model_name=\"dangvantuan/sentence-camembert-large\",\n",
    "# )\n",
    "\n",
    "# Exécuter chroma en mémoire\n",
    "client = chromadb.Client()\n",
    "# client = chromadb.PersistentClient(path=work_directory)\n",
    "\n",
    "# Création d'une collection\n",
    "collection_name = \"code_civil\"\n",
    "if collection_name in list(map(lambda col: col.name, client.list_collections())):\n",
    "    client.delete_collection(collection_name)\n",
    "    print(f\"Collection supprimée: {collection_name}\")\n",
    "collection = client.create_collection(collection_name, embedding_function=embedding_function)"
   ]
  },
  {
   "cell_type": "markdown",
   "metadata": {},
   "source": [
    "## Ajout de Documents à la Base Chroma\n",
    "\n",
    "Le fichier pdf est converti en chaînes de caractères."
   ]
  },
  {
   "cell_type": "code",
   "execution_count": 94,
   "metadata": {},
   "outputs": [
    {
     "name": "stdout",
     "output_type": "stream",
     "text": [
      "Chapitre III : De l'examen des caractéristiques génétiques\n",
      "d'une\n",
      "personne et de l'identification d'une personne par ses\n",
      "empreintes\n",
      "génétiques\n",
      "Article 16-10\n",
      " \n",
      "I.-L'examen des caractéristiques\n",
      "génétiques constitutionnelles d'une personne ne peut être entrepris\n",
      "qu'à\n",
      "des fins médicales ou de recherche scientifique. Il est subordonné\n",
      "au consentement exprès de la personne,\n",
      "recueilli par écrit\n",
      "préalablement à la réalisation de l'examen.  \n",
      "II.-Le consentement prévu\n",
      "au I est recueilli après que la personne a été dûment informée :  \n",
      "1°\n",
      "De la nature de l'examen ;  \n",
      "2° De l'indication de l'examen, s'il\n",
      "s'agit de finalités médicales, ou de son objectif, s'il s'agit de\n",
      "recherches\n",
      "scientifiques ;  \n",
      "3° Le cas échéant, de la possibilité que\n",
      "l'examen révèle incidemment des caractéristiques génétiques\n",
      "sans\n",
      "relation avec son indication initiale ou avec son objectif initial\n",
      "mais dont la connaissance permettrait à la\n",
      "personne ou aux membres de\n",
      "sa famille de bénéficier de mesures de prévention, y compris de conseil\n",
      "en\n",
      "génétique, ou de soins ;  \n",
      "4° De la possibilité de refuser la\n",
      "révélation des résultats de l'examen de caractéristiques génétiques\n",
      "sans\n",
      "relation avec l'indication initiale ou l'objectif initial de\n",
      "l'examen ainsi que des risques qu'un refus ferait courir\n",
      "aux membres de\n",
      "sa famille potentiellement concernés, dans le cas où une anomalie\n",
      "génétique pouvant être\n",
      "responsable d'une affection grave justifiant de\n",
      "mesures de prévention, y compris de conseil génétique, ou de\n",
      "soins\n",
      "serait diagnostiquée.  \n",
      "Le consentement mentionne l'indication ou\n",
      "l'objectif mentionné au 2° du présent II.  \n",
      "Le consentement est\n",
      "révocable en tout ou partie, sans forme et à tout moment.  \n",
      "La\n",
      "communication des résultats révélés incidemment, mentionnés au 4°, est\n",
      "assurée dans le respect des\n",
      "conditions fixées au titre II du livre Ier\n",
      "de la première partie du code de la santé publique, lorsque\n",
      "l'examen\n",
      "poursuit des finalités de recherche scientifique, ou au titre\n",
      "III du même livre Ier, lorsque les finalités de\n",
      "l'examen sont\n",
      "médicales.  \n",
      "III.-Par dérogation aux I et II, en cas d'examen des\n",
      "caractéristiques génétiques mentionné au I entrepris à des\n",
      "fins de\n",
      "recherche scientifique et réalisé à partir d'éléments du corps d'une\n",
      "personne prélevés à d'autres fins,\n",
      "l'article L. 1130-5 du code de la\n",
      "santé publique est applicable.\n",
      " \n",
      "III bis.-Par dérogation au I du\n",
      "présent article, l'examen des caractéristiques génétiques\n",
      "constitutionnelles\n",
      "d'une personne peut également être entrepris à des\n",
      "fins de lutte contre le dopage, dans les conditions prévues\n",
      "à l'article\n",
      "L. 232-12-2 du code du sport.  \n",
      "IV.-Tout démarchage à caractère\n",
      "publicitaire portant sur l'examen des caractéristiques\n",
      "génétiques\n",
      "constitutionnelles d'une personne est interdit.\n",
      " \n",
      "Article\n",
      "16-11\n",
      " \n",
      "L'identification d'une personne par ses empreintes génétiques\n",
      "ne peut être recherchée que :\n",
      " \n",
      "1° Dans le cadre de mesures d'enquête\n",
      "ou d'instruction diligentées lors d'une procédure judiciaire ;\n",
      "\n"
     ]
    }
   ],
   "source": [
    "import re\n",
    "from pypdf import PdfReader\n",
    "\n",
    "reader = PdfReader(f'{work_directory}/code_civil.pdf')\n",
    "pdf_texts = [p.extract_text().strip() for p in reader.pages]\n",
    "# Suppression des pages vides\n",
    "pdf_texts = [text for text in pdf_texts if text]\n",
    "# Suppression des pieds de pages 'Code civil - Dernière modification le 21 mai 2023 - Document généré le 08 janvier 2024'\n",
    "pdf_texts = [re.sub(r'Code\\scivil\\s-\\sDernière\\smodification\\sle\\s21\\smai\\s2023\\s-\\sDocument\\sgénéré\\sle\\s08\\sjanvier\\s2024', '', text) for text in pdf_texts]\n",
    "# Affichage de la page 6\n",
    "print(word_wrap(pdf_texts[6]))"
   ]
  },
  {
   "cell_type": "markdown",
   "metadata": {},
   "source": [
    "Le texte est ensuite divisé en articles de code."
   ]
  },
  {
   "cell_type": "code",
   "execution_count": 95,
   "metadata": {},
   "outputs": [
    {
     "name": "stdout",
     "output_type": "stream",
     "text": [
      "Total chunks: 3384\n",
      "Chunk max length: 5287\n",
      "\n",
      "\n",
      "Article 5\n",
      "\n",
      "Il est défendu aux juges de prononcer par voie de\n",
      "disposition générale et réglementaire sur les causes qui leur\n",
      "sont\n",
      "soumises.\n"
     ]
    }
   ],
   "source": [
    "import re\n",
    "\n",
    "single_text = '\\n'.join(pdf_texts)\n",
    "regex_patterns = [\n",
    "  re.compile(r'^Livre\\s'),\n",
    "  re.compile(r'^Section\\s'), \n",
    "  re.compile(r'^Titre\\s'), # Attention au Titre préliminaire\n",
    "  re.compile(r'^Chapitre\\s'),\n",
    "  re.compile(r'^Article\\s+\\d')\n",
    "]\n",
    "\n",
    "chunks = []\n",
    "current_chunk = ''\n",
    "max_length = 0\n",
    "\n",
    "for line in single_text.split('\\n'):\n",
    "  for pattern in regex_patterns:\n",
    "    if re.search(pattern, line):\n",
    "      current_chunk = current_chunk.strip()\n",
    "      current_length = len(current_chunk)\n",
    "      if current_length > max_length:\n",
    "        max_length = current_length\n",
    "      chunks.append(current_chunk)\n",
    "      current_chunk = ''\n",
    "      break\n",
    "  current_chunk += line + '\\n'\n",
    "chunks.append(current_chunk.strip())\n",
    "print(f\"Total chunks: {len(chunks)}\")\n",
    "print(f\"Chunk max length: {max_length}\")\n",
    "print('\\n\\n' + word_wrap(chunks[6]))"
   ]
  },
  {
   "cell_type": "markdown",
   "metadata": {},
   "source": [
    "Les articles de code sont convertis en embeddings."
   ]
  },
  {
   "cell_type": "code",
   "execution_count": 96,
   "metadata": {},
   "outputs": [
    {
     "name": "stderr",
     "output_type": "stream",
     "text": [
      "100%|██████████| 100/100 [00:25<00:00,  3.99it/s]\n"
     ]
    }
   ],
   "source": [
    "import tiktoken\n",
    "from tqdm import tqdm\n",
    "\n",
    "# Ces éléments sont adaptés à OpenAIEmbeddingFunction\n",
    "encoder = tiktoken.get_encoding(\"cl100k_base\")\n",
    "token_count_limit = 512\n",
    "char_count = 1000\n",
    "k=1.75\n",
    "\n",
    "# Commenter cette ligne pour intégrer tous les documents (compter une bonne heure)\n",
    "# documents = chunks\n",
    "documents = chunks[:100]\n",
    "\n",
    "# Réduction des documents trop longs (choix simplificateur pour un démo)\n",
    "def reduce_document(document):\n",
    "    # Rechercher le prochain . à partir de char_count\n",
    "    pos = document[char_count:].index('.') + char_count\n",
    "    return document[:pos]\n",
    "\n",
    "embeddings = []\n",
    "i = 0\n",
    "for document in tqdm(documents):\n",
    "    try:\n",
    "        token_count = len(encoder.encode(document))\n",
    "        if token_count > token_count_limit:\n",
    "            # Première tentative de réduction : on recherche le prochain . à partir de char_count\n",
    "            document = reduce_document(document)\n",
    "            token_count = len(encoder.encode(document))\n",
    "            if token_count > token_count_limit:\n",
    "                # Deuxième tentative de réduction: on coupe le document à k*char_count caractères\n",
    "                document = document[:round(k*char_count)]\n",
    "                token_count = len(encoder.encode(document))\n",
    "                if token_count > token_count_limit:\n",
    "                    raise Exception(f\"Après tentative de réduction, le document {i} est encore trop long.\")\n",
    "        # Commenter les deux lignes suivantes pour tester rapidement la réduction sur tous les documents\n",
    "        embedding = embedding_function([document])[0]\n",
    "        embeddings.append(embedding)\n",
    "    except Exception as e:\n",
    "        print(i, e)\n",
    "        continue\n",
    "    finally:\n",
    "        i+=1\n"
   ]
  },
  {
   "cell_type": "code",
   "execution_count": 97,
   "metadata": {},
   "outputs": [
    {
     "data": {
      "text/plain": [
       "100"
      ]
     },
     "execution_count": 97,
     "metadata": {},
     "output_type": "execute_result"
    }
   ],
   "source": [
    "ids = [str(i) for i in range(len(documents))]\n",
    "collection.add(\n",
    "    ids=ids,\n",
    "    documents=documents,\n",
    "    embeddings=embeddings,\n",
    "    # metadatas=metadatas, # Considérer les livres, sections, titres, chapitres et articles\n",
    ")\n",
    "collection.count()"
   ]
  },
  {
   "cell_type": "markdown",
   "metadata": {},
   "source": [
    "## Recherche Sémantique dans la Base Chroma"
   ]
  },
  {
   "cell_type": "code",
   "execution_count": 98,
   "metadata": {},
   "outputs": [
    {
     "name": "stdout",
     "output_type": "stream",
     "text": [
      "Article 16-13\n",
      " \n",
      "Nul ne peut faire l'objet de discriminations en raison\n",
      "de ses caractéristiques génétiques.\n",
      "106\n",
      "\n",
      "\n",
      "Article 16-4\n",
      " \n",
      "Nul ne peut porter atteinte à l'intégrité de l'espèce\n",
      "humaine.\n",
      " \n",
      "Toute pratique eugénique tendant à l'organisation de la\n",
      "sélection des personnes est interdite.\n",
      " \n",
      "Est interdite toute\n",
      "intervention ayant pour but de faire naître un enfant génétiquement\n",
      "identique à une autre\n",
      "personne vivante ou décédée.\n",
      " \n",
      "Sans préjudice des\n",
      "recherches tendant à la prévention, au diagnostic et au traitement des\n",
      "maladies, aucune\n",
      "transformation ne peut être apportée aux caractères\n",
      "génétiques dans le but de modifier la descendance de la\n",
      "personne.\n",
      "542\n",
      "\n",
      "\n",
      "Code civil\n",
      "10\n",
      "\n",
      "\n",
      "Chapitre III : De l'examen des caractéristiques génétiques\n",
      "d'une\n",
      "personne et de l'identification d'une personne par ses\n",
      "empreintes\n",
      "génétiques\n",
      "141\n",
      "\n",
      "\n",
      "Article 16-11\n",
      " \n",
      "L'identification d'une personne par ses empreintes\n",
      "génétiques ne peut être recherchée que :\n",
      " \n",
      "1° Dans le cadre de mesures\n",
      "d'enquête ou d'instruction diligentées lors d'une procédure judiciaire\n",
      ";\n",
      "\n",
      "2° A des fins médicales ou de recherche scientifique ;\n",
      " \n",
      "3° Aux fins\n",
      "d'établir, lorsqu'elle est inconnue, l'identité de personnes décédées\n",
      ";\n",
      " \n",
      "4° Dans les conditions prévues à l'article L. 2381-1 du code de la\n",
      "défense ;\n",
      " \n",
      "5° A des fins de lutte contre le dopage, dans les\n",
      "conditions prévues à l'article L. 232-12-2 du code du sport.\n",
      " \n",
      "En\n",
      "matière civile, cette identification ne peut être recherchée qu'en\n",
      "exécution d'une mesure d'instruction\n",
      "ordonnée par le juge saisi d'une\n",
      "action tendant soit à l'établissement ou la contestation d'un lien de\n",
      "filiation,\n",
      "soit à l'obtention ou la suppression de subsides. Le\n",
      "consentement de l'intéressé doit être préalablement et\n",
      "expressément\n",
      "recueilli. Sauf accord exprès de la personne manifesté de son vivant,\n",
      "aucune identification par\n",
      "empreintes génétiques ne peut être réalisée\n",
      "après sa mort.\n",
      " \n",
      "Lorsque l'identification est effectuée à des fins\n",
      "médicales ou de recherche scientifique, le consentement\n",
      "exprès de la\n",
      "personne doit être recueilli par écrit préalablement à la réalisation\n",
      "de l'identification, après\n",
      "qu'elle a été dûment informée de sa nature\n",
      "et de sa finalité. Le consentement mentionne la finalité\n",
      "de\n",
      "l'identification. Il est révocable sans forme et à tout moment.\n",
      "\n",
      "\n",
      "Lorsque la recherche d'identité mentionnée au 3° concerne soit un\n",
      "militaire décédé à l'occasion d'une\n",
      "opération conduite par les forces\n",
      "armées ou les formations rattachées, soit une victime de\n",
      "catastrophe\n",
      "naturelle, soit une personne faisant l'objet de recherches\n",
      "au titre de l'article 26 de la loi n° 95-73 du 21 janvier\n",
      "1995\n",
      "d'orientation et de programmation relative à la sécurité et dont la\n",
      "mort est supposée, des prélèvements\n",
      "destinés à recueillir les traces\n",
      "biologiques de cette personne peuvent être réalisés dans des lieux\n",
      "qu'elle est\n",
      "susceptible d'avoir habituellement fréquentés, avec\n",
      "l'accord du responsable des lieux ou, en cas de refus de\n",
      "celui-ci ou\n",
      "d'impossibilité de recueillir cet accord, avec l'autorisation du juge\n",
      "des libertés et de la détention\n",
      "du tribunal judiciaire. Des\n",
      "prélèvements aux mêmes fins sur les ascendants, descendants ou\n",
      "collatéraux\n",
      "supposés de cette personne peuvent être également réalisés.\n",
      "Le consentement exprès de chaque personne\n",
      "concernée est alors recueilli\n",
      "par écrit préalablement à la réalisation du prélèvement, après que\n",
      "celle-ci a\n",
      "été dûment informée de la nature de ce prélèvement, de sa\n",
      "finalité ainsi que du caractère à tout moment\n",
      "révocable de son\n",
      "consentement. Le consentement mentionne la finalité du prélèvement et\n",
      "de l'identification.\n",
      " \n",
      "Les modalités de mise en œuvre des recherches\n",
      "d'identification mentionnées au 3° du présent article sont\n",
      "précisées\n",
      "par décret en Conseil d'Etat.\n",
      "2868\n",
      "\n",
      "\n"
     ]
    }
   ],
   "source": [
    "query = \"Que dit le code sur la génétique?\"\n",
    "\n",
    "results = collection.query(query_texts=[query], n_results=5)\n",
    "retrieved_documents = results['documents'][0]\n",
    "\n",
    "for document in retrieved_documents:\n",
    "    print(word_wrap(document))\n",
    "    print(len(document))\n",
    "    print('\\n')"
   ]
  },
  {
   "cell_type": "markdown",
   "metadata": {},
   "source": [
    "# Extension RAG"
   ]
  },
  {
   "cell_type": "code",
   "execution_count": 99,
   "metadata": {},
   "outputs": [
    {
     "name": "stdout",
     "output_type": "stream",
     "text": [
      "Le Code civil interdit toute discrimination basée sur les\n",
      "caractéristiques génétiques et interdit toute pratique eugénique visant\n",
      "à sélectionner des personnes. Il est également interdit de créer un\n",
      "enfant génétiquement identique à une autre personne vivante ou décédée.\n",
      "En ce qui concerne l'identification par empreintes génétiques, celle-ci\n",
      "est autorisée dans le cadre d'enquêtes ou d'instructions judiciaires, à\n",
      "des fins médicales, de recherche scientifique, pour l'identification de\n",
      "personnes décédées inconnues et dans certains cas spécifiques prévus\n",
      "par la loi. Tout prélèvement ou identification génétique nécessite le\n",
      "consentement préalable et exprès de la personne concernée.\n"
     ]
    }
   ],
   "source": [
    "from openai import OpenAI\n",
    "\n",
    "def rag(query, retrieved_documents, model=\"gpt-3.5-turbo\"):\n",
    "    information = \"\\n\\n\".join(retrieved_documents)\n",
    "    messages = [\n",
    "        {\n",
    "            \"role\": \"system\",\n",
    "            \"content\": \"Vous êtes juriste. Vos utilisateurs vous posent des questions sur le droit français.\"\n",
    "            \"On vous montre la question et les informations pertinentes du code civil.\"\n",
    "            \"Répondez succintement à votre utilisateur en n'utilisant que ces informations.\"\n",
    "        },\n",
    "        {\"role\": \"user\", \"content\": f\"Question: {query}. \\n Information: {information}\"}\n",
    "    ]\n",
    "    api = OpenAI(api_key=openai_api_key)    \n",
    "    response = api.chat.completions.create(\n",
    "        model=model,\n",
    "        messages=messages,\n",
    "    )\n",
    "    content = response.choices[0].message.content\n",
    "    return content\n",
    "\n",
    "output = rag(query=query, retrieved_documents=retrieved_documents)\n",
    "print(word_wrap(output))"
   ]
  }
 ],
 "metadata": {
  "kernelspec": {
   "display_name": "Python 3",
   "language": "python",
   "name": "python3"
  },
  "language_info": {
   "codemirror_mode": {
    "name": "ipython",
    "version": 3
   },
   "file_extension": ".py",
   "mimetype": "text/x-python",
   "name": "python",
   "nbconvert_exporter": "python",
   "pygments_lexer": "ipython3",
   "version": "3.9.6"
  }
 },
 "nbformat": 4,
 "nbformat_minor": 2
}
