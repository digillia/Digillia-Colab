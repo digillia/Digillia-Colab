{
 "cells": [
  {
   "cell_type": "markdown",
   "metadata": {},
   "source": [
    "# LLamaIndex\n",
    "\n",
    "[![Index](https://img.shields.io/badge/Index-blue)](../index.ipynb)\n",
    "[![Open in Colab](https://colab.research.google.com/assets/colab-badge.svg)](https://colab.research.google.com/github/digillia/Digillia-Colab/blob/main/tools/llamaindex.ipynb)\n",
    "\n",
    "Ce bloc-nore Jupyter démontre une application de Génération Augmentée de Récupération (RAG) simple développée avec [LlamaIndex](https://github.com/run-llama/llama_index). Elle comporte les étapes essentielles de (i) chargement des documents, (ii) indexation des documents, (iii) récupération des documents en rapport avec la question, et (iv) soumission de la question et des documents pertinants au llm pour réponse.\n",
    "\n",
    "Docs:\n",
    "- https://github.com/run-llama/llama_index\n",
    "- https://docs.llamaindex.ai/"
   ]
  },
  {
   "cell_type": "code",
   "execution_count": 65,
   "metadata": {},
   "outputs": [],
   "source": [
    "import sys\n",
    "\n",
    "# Supprimer les commentaires pour installer\n",
    "\n",
    "if 'google.colab' in sys.modules:\n",
    "    !pip3 install -q -U gradio\n",
    "    !pip3 install -q -U llama-index\n",
    "    !pip3 install -q -U wikipedia\n",
    "    !pip3 install -q -U llama-index-readers-wikipedia"
   ]
  },
  {
   "cell_type": "code",
   "execution_count": 66,
   "metadata": {},
   "outputs": [],
   "source": [
    "import gradio as gr\n",
    "import wikipedia\n",
    "from llama_index.readers.wikipedia import WikipediaReader\n",
    "from llama_index.core import VectorStoreIndex\n",
    "from llama_index.core.memory import ChatMemoryBuffer"
   ]
  },
  {
   "cell_type": "markdown",
   "metadata": {},
   "source": [
    "## Chargement de la Clé pour OpenAI\n",
    "\n",
    "Il vous faut obtenir d'Open AI une clé pour exécuter ce notebook Jupyter. Vous pouvez consulter [Where do I find my API key?](https://help.openai.com/en/articles/4936850-where-do-i-find-my-api-key). Ensuite, le chargement se fait soit à partir de l'environnement (fichier `.env`), soit à partir des secrets de Google Colab."
   ]
  },
  {
   "cell_type": "code",
   "execution_count": 67,
   "metadata": {},
   "outputs": [],
   "source": [
    "import os\n",
    "\n",
    "openai_api_key = None\n",
    "if 'google.colab' in sys.modules:\n",
    "  from google.colab import userdata\n",
    "  openai_api_key = userdata.get('OPENAI_API_KEY')\n",
    "else:\n",
    "  from dotenv import load_dotenv, find_dotenv\n",
    "  _ = load_dotenv(find_dotenv()) # read local .env file\n",
    "  openai_api_key  = os.environ['OPENAI_API_KEY']"
   ]
  },
  {
   "cell_type": "markdown",
   "metadata": {},
   "source": [
    "## Lecture des documents"
   ]
  },
  {
   "cell_type": "code",
   "execution_count": 68,
   "metadata": {},
   "outputs": [
    {
     "data": {
      "text/plain": [
       "3"
      ]
     },
     "execution_count": 68,
     "metadata": {},
     "output_type": "execute_result"
    }
   ],
   "source": [
    "wikipedia.set_lang('fr')\n",
    "# wikipedia.search('Marie-Louise d\\'Autriche')\n",
    "# wikipedia.page('Marie-Louise d\\'Autriche').content\n",
    "\n",
    "reader=WikipediaReader()\n",
    "documents = reader.load_data(['Napoléon_Ier', 'Joséphine_de_Beauharnais', 'Marie-Louise d\\'Autriche'])\n",
    "len(documents)"
   ]
  },
  {
   "cell_type": "markdown",
   "metadata": {},
   "source": [
    "## Indexation des documents"
   ]
  },
  {
   "cell_type": "code",
   "execution_count": 69,
   "metadata": {},
   "outputs": [],
   "source": [
    "index = VectorStoreIndex.from_documents(documents, insert_batch_size=512)"
   ]
  },
  {
   "cell_type": "markdown",
   "metadata": {},
   "source": [
    "## Question sur les documents"
   ]
  },
  {
   "cell_type": "code",
   "execution_count": 70,
   "metadata": {},
   "outputs": [
    {
     "name": "stdout",
     "output_type": "stream",
     "text": [
      "Napoléon 1er est né le 15 août 1769.\n"
     ]
    }
   ],
   "source": [
    "query_engine = index.as_query_engine()\n",
    "response = query_engine.query('Quand Napoléon 1er est-il né?')\n",
    "print(response)"
   ]
  },
  {
   "cell_type": "markdown",
   "metadata": {},
   "source": [
    "## Création d'une application Chat"
   ]
  },
  {
   "cell_type": "code",
   "execution_count": 71,
   "metadata": {},
   "outputs": [
    {
     "data": {
      "text/plain": [
       "'Napoléon 1er est né le 15 août 1769 à Ajaccio.'"
      ]
     },
     "execution_count": 71,
     "metadata": {},
     "output_type": "execute_result"
    }
   ],
   "source": [
    "memory = ChatMemoryBuffer.from_defaults(token_limit=3000)\n",
    "chat_engine = index.as_chat_engine(\n",
    "    chat_mode=\"context\",\n",
    "    memory=memory,\n",
    "    system_prompt=(\n",
    "        \"Tu es un professeur d'histoire. Tu réponds en Français aux questions sur le seul fondement des documents qui te sont fournis.\"\n",
    "        \"Quand tu ne trouves pas la répone dans ces documents, tu réponds que tu ne sais pas, même après plusieurs essais.\"\n",
    "    ),\n",
    ")\n",
    "\n",
    "def simple_chat(message, history=[]):\n",
    "    return chat_engine.chat(message).response\n",
    "\n",
    "def stream_chat(message, history=[]):\n",
    "    response = ''\n",
    "    stream = chat_engine.stream_chat(message)\n",
    "    for token in stream.response_gen:\n",
    "        response += token\n",
    "        yield response\n",
    "\n",
    "simple_chat(\"Quand Napoléon 1er est-il né?\")"
   ]
  },
  {
   "cell_type": "code",
   "execution_count": 72,
   "metadata": {},
   "outputs": [
    {
     "name": "stdout",
     "output_type": "stream",
     "text": [
      "Running on local URL:  http://127.0.0.1:7879\n",
      "\n",
      "To create a public link, set `share=True` in `launch()`.\n"
     ]
    },
    {
     "data": {
      "text/html": [
       "<div><iframe src=\"http://127.0.0.1:7879/\" width=\"100%\" height=\"500\" allow=\"autoplay; camera; microphone; clipboard-read; clipboard-write;\" frameborder=\"0\" allowfullscreen></iframe></div>"
      ],
      "text/plain": [
       "<IPython.core.display.HTML object>"
      ]
     },
     "metadata": {},
     "output_type": "display_data"
    },
    {
     "data": {
      "text/plain": []
     },
     "execution_count": 72,
     "metadata": {},
     "output_type": "execute_result"
    }
   ],
   "source": [
    "demo = gr.ChatInterface(\n",
    "    fn=stream_chat,\n",
    "    examples=[\n",
    "        \"Quand Napoléon 1er est-il né?\",\n",
    "        \"Quand Napoléon 1er est-il mort?\",\n",
    "        \"Où ça?\",\n",
    "        \"Quand Jeanne d'Arc est-elle née?\"\n",
    "        ],\n",
    "    title=\"Démo LlamaIndex\"\n",
    ").queue()\n",
    "demo.launch()"
   ]
  }
 ],
 "metadata": {
  "kernelspec": {
   "display_name": "Python 3",
   "language": "python",
   "name": "python3"
  },
  "language_info": {
   "codemirror_mode": {
    "name": "ipython",
    "version": 3
   },
   "file_extension": ".py",
   "mimetype": "text/x-python",
   "name": "python",
   "nbconvert_exporter": "python",
   "pygments_lexer": "ipython3",
   "version": "3.9.6"
  }
 },
 "nbformat": 4,
 "nbformat_minor": 2
}
