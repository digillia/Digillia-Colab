{
 "cells": [
  {
   "cell_type": "markdown",
   "metadata": {},
   "source": [
    "# FastAPI\n",
    "\n",
    "[![Index](https://img.shields.io/badge/Index-blue)](../index.ipynb)\n",
    "[![Open in Colab](https://colab.research.google.com/assets/colab-badge.svg)](https://colab.research.google.com/github/digillia/Digillia-Colab/blob/main/tools/fastapi.ipynb)\n",
    "\n",
    "FastAPI est une library de code Python pour construire des API json RestFul, notamment pour déployer des modèles d'intelligence artificielle dans les architectures cloud.\n",
    "\n",
    "- https://github.com/tiangolo/fastapi\n",
    "\n",
    "On préfère FastAPI aux alternatives suivantes :\n",
    "\n",
    "- https://github.com/django/django\n",
    "- https://github.com/pallets/flask/\n",
    "- https://github.com/tornadoweb/tornado\n",
    "\n",
    "L'exemple qui suit implémente l'accès à un modèle de régression linéaire par une API json RESTful."
   ]
  },
  {
   "cell_type": "code",
   "execution_count": 15,
   "metadata": {},
   "outputs": [],
   "source": [
    "import os\n",
    "import sys\n",
    "\n",
    "# Supprimer les commentaires pour installer (requirements.txt)\n",
    "# !pip3 install -q -U scikit-learn\n",
    "# !pip3 install -q -U pydantic\n",
    "\n",
    "# À installer dans tous les cas pour Google Colab et GitHub\n",
    "if ('google.colab' in sys.modules) or ('CI' in os.environ):\n",
    "    !pip3 install -q -U \"fastapi[all]\"\n",
    "    !pip3 install -q -U \"uvicorn[standard]\""
   ]
  },
  {
   "cell_type": "code",
   "execution_count": 18,
   "metadata": {},
   "outputs": [],
   "source": [
    "# Les variables python sont accessibles depuis les commandes shell\n",
    "work_directory = './fastapi'\n",
    "app_directory = work_directory + '/app'\n",
    "\n",
    "!mkdir -p $app_directory\n",
    "\n",
    "# Supprimer le commentaire pour créer le fichier de requirements\n",
    "# !pip3 freeze > $work_directory/requirements.txt"
   ]
  },
  {
   "cell_type": "markdown",
   "metadata": {},
   "source": [
    "## Création et sérialisation d'un modèle SciKit-Learn"
   ]
  },
  {
   "cell_type": "code",
   "execution_count": 19,
   "metadata": {},
   "outputs": [
    {
     "data": {
      "text/html": [
       "<style>#sk-container-id-2 {color: black;background-color: white;}#sk-container-id-2 pre{padding: 0;}#sk-container-id-2 div.sk-toggleable {background-color: white;}#sk-container-id-2 label.sk-toggleable__label {cursor: pointer;display: block;width: 100%;margin-bottom: 0;padding: 0.3em;box-sizing: border-box;text-align: center;}#sk-container-id-2 label.sk-toggleable__label-arrow:before {content: \"▸\";float: left;margin-right: 0.25em;color: #696969;}#sk-container-id-2 label.sk-toggleable__label-arrow:hover:before {color: black;}#sk-container-id-2 div.sk-estimator:hover label.sk-toggleable__label-arrow:before {color: black;}#sk-container-id-2 div.sk-toggleable__content {max-height: 0;max-width: 0;overflow: hidden;text-align: left;background-color: #f0f8ff;}#sk-container-id-2 div.sk-toggleable__content pre {margin: 0.2em;color: black;border-radius: 0.25em;background-color: #f0f8ff;}#sk-container-id-2 input.sk-toggleable__control:checked~div.sk-toggleable__content {max-height: 200px;max-width: 100%;overflow: auto;}#sk-container-id-2 input.sk-toggleable__control:checked~label.sk-toggleable__label-arrow:before {content: \"▾\";}#sk-container-id-2 div.sk-estimator input.sk-toggleable__control:checked~label.sk-toggleable__label {background-color: #d4ebff;}#sk-container-id-2 div.sk-label input.sk-toggleable__control:checked~label.sk-toggleable__label {background-color: #d4ebff;}#sk-container-id-2 input.sk-hidden--visually {border: 0;clip: rect(1px 1px 1px 1px);clip: rect(1px, 1px, 1px, 1px);height: 1px;margin: -1px;overflow: hidden;padding: 0;position: absolute;width: 1px;}#sk-container-id-2 div.sk-estimator {font-family: monospace;background-color: #f0f8ff;border: 1px dotted black;border-radius: 0.25em;box-sizing: border-box;margin-bottom: 0.5em;}#sk-container-id-2 div.sk-estimator:hover {background-color: #d4ebff;}#sk-container-id-2 div.sk-parallel-item::after {content: \"\";width: 100%;border-bottom: 1px solid gray;flex-grow: 1;}#sk-container-id-2 div.sk-label:hover label.sk-toggleable__label {background-color: #d4ebff;}#sk-container-id-2 div.sk-serial::before {content: \"\";position: absolute;border-left: 1px solid gray;box-sizing: border-box;top: 0;bottom: 0;left: 50%;z-index: 0;}#sk-container-id-2 div.sk-serial {display: flex;flex-direction: column;align-items: center;background-color: white;padding-right: 0.2em;padding-left: 0.2em;position: relative;}#sk-container-id-2 div.sk-item {position: relative;z-index: 1;}#sk-container-id-2 div.sk-parallel {display: flex;align-items: stretch;justify-content: center;background-color: white;position: relative;}#sk-container-id-2 div.sk-item::before, #sk-container-id-2 div.sk-parallel-item::before {content: \"\";position: absolute;border-left: 1px solid gray;box-sizing: border-box;top: 0;bottom: 0;left: 50%;z-index: -1;}#sk-container-id-2 div.sk-parallel-item {display: flex;flex-direction: column;z-index: 1;position: relative;background-color: white;}#sk-container-id-2 div.sk-parallel-item:first-child::after {align-self: flex-end;width: 50%;}#sk-container-id-2 div.sk-parallel-item:last-child::after {align-self: flex-start;width: 50%;}#sk-container-id-2 div.sk-parallel-item:only-child::after {width: 0;}#sk-container-id-2 div.sk-dashed-wrapped {border: 1px dashed gray;margin: 0 0.4em 0.5em 0.4em;box-sizing: border-box;padding-bottom: 0.4em;background-color: white;}#sk-container-id-2 div.sk-label label {font-family: monospace;font-weight: bold;display: inline-block;line-height: 1.2em;}#sk-container-id-2 div.sk-label-container {text-align: center;}#sk-container-id-2 div.sk-container {/* jupyter's `normalize.less` sets `[hidden] { display: none; }` but bootstrap.min.css set `[hidden] { display: none !important; }` so we also need the `!important` here to be able to override the default hidden behavior on the sphinx rendered scikit-learn.org. See: https://github.com/scikit-learn/scikit-learn/issues/21755 */display: inline-block !important;position: relative;}#sk-container-id-2 div.sk-text-repr-fallback {display: none;}</style><div id=\"sk-container-id-2\" class=\"sk-top-container\"><div class=\"sk-text-repr-fallback\"><pre>LinearRegression()</pre><b>In a Jupyter environment, please rerun this cell to show the HTML representation or trust the notebook. <br />On GitHub, the HTML representation is unable to render, please try loading this page with nbviewer.org.</b></div><div class=\"sk-container\" hidden><div class=\"sk-item\"><div class=\"sk-estimator sk-toggleable\"><input class=\"sk-toggleable__control sk-hidden--visually\" id=\"sk-estimator-id-2\" type=\"checkbox\" checked><label for=\"sk-estimator-id-2\" class=\"sk-toggleable__label sk-toggleable__label-arrow\">LinearRegression</label><div class=\"sk-toggleable__content\"><pre>LinearRegression()</pre></div></div></div></div></div>"
      ],
      "text/plain": [
       "LinearRegression()"
      ]
     },
     "execution_count": 19,
     "metadata": {},
     "output_type": "execute_result"
    }
   ],
   "source": [
    "from sklearn.datasets import make_regression\n",
    "from sklearn.linear_model import LinearRegression\n",
    "\n",
    "# Création de données synthétiques\n",
    "X, y = make_regression(n_samples=100, n_features=1, random_state=123)\n",
    "\n",
    "# Entrainement d'un modèle de régression linéaire avec scikit-learn\n",
    "model = LinearRegression()\n",
    "model.fit(X, y)"
   ]
  },
  {
   "cell_type": "code",
   "execution_count": 20,
   "metadata": {},
   "outputs": [],
   "source": [
    "import pickle\n",
    "pickle.dump(model, open(f'{app_directory}/model.pkl','wb'))\n",
    "\n",
    "# alternativement\n",
    "# import joblib\n",
    "# joblib.dump(model, f'{app_directory}/model.joblib')"
   ]
  },
  {
   "cell_type": "markdown",
   "metadata": {},
   "source": [
    "## Codage de l'application FastAPI"
   ]
  },
  {
   "cell_type": "code",
   "execution_count": 28,
   "metadata": {},
   "outputs": [
    {
     "name": "stdout",
     "output_type": "stream",
     "text": [
      "Overwriting ./fastapi/app/__init__.py\n"
     ]
    }
   ],
   "source": [
    "#%%writefile $app_directory/__init__.py\n",
    "# Application FastAPI (writefile a besoin de contenu pour écrire)"
   ]
  },
  {
   "cell_type": "code",
   "execution_count": 23,
   "metadata": {},
   "outputs": [],
   "source": [
    "#%%writefile $app_directory/main.py\n",
    "import pickle\n",
    "from contextlib import asynccontextmanager\n",
    "from fastapi import FastAPI\n",
    "from pydantic import BaseModel\n",
    "\n",
    "# app_directory = '.' # enlever le commentaire dans main.py\n",
    "models = {} # au cas où l'API nécessite plusieurs modèles \n",
    "\n",
    "@asynccontextmanager\n",
    "async def lifespan(app: FastAPI):\n",
    "    # Ne pas oublier de livrer le(s) fichier(s) de modèle(s) avec l'application FastAPI\n",
    "    models['linear'] = pickle.load(open(f'{app_directory}/model.pkl', 'rb'))\n",
    "    print('Linear model loaded')\n",
    "    # alternativement\n",
    "    # models['linear'] = joblib.load(f'{app_directory}/model.joblib')\n",
    "    yield\n",
    "    # libérer les ressources si nécessaire\n",
    "\n",
    "app = FastAPI(title=\"Application FastAPI\", lifespan=lifespan)\n",
    "\n",
    "# Définition de la classe Item pour le schéma json de la requête POST /predict\n",
    "class Item(BaseModel):\n",
    "    x: float\n",
    "    # x2: float\n",
    "    # x3: float\n",
    "\n",
    "# requête POST /predict pour prédire la valeur de y à partir de la valeur de x\n",
    "# en utilisant le modèle linéaire chargé dans le dictionnaire models    \n",
    "@app.post(\"/predict\")\n",
    "async def predict(item:Item):\n",
    "    y_pred = models['linear'].predict([[item.x]])\n",
    "    return {'y_pred': y_pred[0]}"
   ]
  },
  {
   "cell_type": "markdown",
   "metadata": {},
   "source": [
    "Voir aussi [Pydantic](./pydantic.ipynb)."
   ]
  },
  {
   "cell_type": "markdown",
   "metadata": {},
   "source": [
    "## Lancement de l'application FastAPI\n",
    "\n",
    "Dans un bloc-note Jupyter, l'application FastAPI codée ci-dessus peut être lancée par le code ci-dessous, en notant que le serveur reste actif tant que le code de la cellule n'est pas manuellement interrompu:"
   ]
  },
  {
   "cell_type": "code",
   "execution_count": 24,
   "metadata": {},
   "outputs": [
    {
     "name": "stderr",
     "output_type": "stream",
     "text": [
      "INFO:     Started server process [2977]\n",
      "INFO:     Waiting for application startup.\n",
      "INFO:     Application startup complete.\n",
      "INFO:     Uvicorn running on http://127.0.0.1:8000 (Press CTRL+C to quit)\n"
     ]
    },
    {
     "name": "stdout",
     "output_type": "stream",
     "text": [
      "Linear model loaded\n"
     ]
    },
    {
     "name": "stderr",
     "output_type": "stream",
     "text": [
      "INFO:     Shutting down\n",
      "INFO:     Waiting for application shutdown.\n",
      "INFO:     Application shutdown complete.\n",
      "INFO:     Finished server process [2977]\n"
     ]
    }
   ],
   "source": [
    "import uvicorn\n",
    "\n",
    "config = uvicorn.Config(app)\n",
    "server = uvicorn.Server(config)\n",
    "await server.serve()"
   ]
  },
  {
   "cell_type": "markdown",
   "metadata": {},
   "source": [
    "Vous pouvez tester manuellement l'API tant que le serveur reste actif (jusqu'à ce que vous stoppiez l'exécution de la cellule ci-dessus):\n",
    "\n",
    "- soit en ouvrant un navigateur à l'adresse http://127.0.0.1:8000/docs,\n",
    "- soit en exécutant la commande suivante dans un terminal:\n",
    "\n",
    "```shell\n",
    "curl -X POST http://127.0.0.1:8000/predict -H 'Content-Type: application/json' -d '{\"x\":1.0}'\n",
    "```\n",
    "\n",
    "Dans un environnement de production, il est recommandé de \"containeriser\" l'application FastAPI avec [Docker](https://fastapi.tiangolo.com/deployment/docker). Pour cela, utilisez le fichier Dockerfile produit par la cellule ci-dessous , en supposant l'organisation de fichiers suivante, dans laquelle `__init__.py` est un fichier vide:\n",
    "\n",
    "```cmd\n",
    ".\n",
    "├── app\n",
    "│   ├── __init__.py\n",
    "│   ├── main.py\n",
    "│   └── model.pkl\n",
    "├── Dockerfile\n",
    "└── requirements.txt\n",
    "```\n",
    "\n",
    "Alternativement vous pouvez aussi considérer les architectures sans serveur (serverless) fournies par [Amazon Web Services](./aws.ipynb), [Google Cloud](./google.ipynb) et [Microsoft Azure](./azure.ipynb)"
   ]
  },
  {
   "cell_type": "code",
   "execution_count": 16,
   "metadata": {},
   "outputs": [
    {
     "name": "stdout",
     "output_type": "stream",
     "text": [
      "Writing ./fastapi/Dockerfile\n"
     ]
    }
   ],
   "source": [
    "%%writefile $work_directory/Dockerfile\n",
    "FROM python:3.12-slim\n",
    "\n",
    "# Mise à jour de système linux (à considérer)\n",
    "RUN apt -y update\n",
    "\n",
    "# Répertoire de travail dans l'environnement Docker\n",
    "WORKDIR /code\n",
    "\n",
    "# Fichier requirements.txt obtenu par pip freeze > requirements.txt\n",
    "COPY ./requirements.txt /code/requirements.txt\n",
    "\n",
    "# Installation des dépendances depuis le fichier requirements.txt\n",
    "RUN pip install --no-cache-dir --upgrade -r /code/requirements.txt\n",
    "\n",
    "# Copie du code source dans le répertoire de travail, notamment\n",
    "# - l'application fastAPI ./app/main.py \n",
    "COPY ./app /code/app\n",
    "\n",
    "# Expose le port 80 pour l'application (préférer un port non attribué et l'usage d'un proxy comme nginx)\n",
    "EXPOSE 80\n",
    "\n",
    "# Exécution de l'application avec uvicorn\n",
    "CMD [\"uvicorn\", \"app.main:app\", \"--host\", \"0.0.0.0\", \"--port\", \"80\", \"--reload\"]"
   ]
  },
  {
   "cell_type": "markdown",
   "metadata": {},
   "source": [
    "## Test de l'application FastAPI\n",
    "\n",
    "> <span style='color:red'>Pensez à stopper manuellement l'exécution de la cellule contenant la ligne `await server.serve()` pour exécuter le test ci-dessous.</span>"
   ]
  },
  {
   "cell_type": "code",
   "execution_count": 25,
   "metadata": {},
   "outputs": [
    {
     "name": "stdout",
     "output_type": "stream",
     "text": [
      "y_pred: 33.86708459143267\n"
     ]
    }
   ],
   "source": [
    "from fastapi.testclient import TestClient\n",
    "\n",
    "client = TestClient(app)\n",
    "\n",
    "response = client.post(\"/predict\", json={\"x\": 1.0})\n",
    "assert response.status_code == 200\n",
    "y_pred = response.json()['y_pred']\n",
    "assert type(y_pred) == float\n",
    "print('y_pred:', y_pred)"
   ]
  },
  {
   "cell_type": "code",
   "execution_count": 29,
   "metadata": {},
   "outputs": [],
   "source": [
    "# Ménage\n",
    "!rm -rf $work_directory"
   ]
  },
  {
   "cell_type": "code",
   "execution_count": null,
   "metadata": {},
   "outputs": [],
   "source": [
    "import random\n",
    "# test unitaire avec testbook\n",
    "def nb_completion():\n",
    "    return random.randint(1, 10)"
   ]
  }
 ],
 "metadata": {
  "kernelspec": {
   "display_name": "Python 3",
   "language": "python",
   "name": "python3"
  },
  "language_info": {
   "codemirror_mode": {
    "name": "ipython",
    "version": 3
   },
   "file_extension": ".py",
   "mimetype": "text/x-python",
   "name": "python",
   "nbconvert_exporter": "python",
   "pygments_lexer": "ipython3",
   "version": "3.9.6"
  }
 },
 "nbformat": 4,
 "nbformat_minor": 2
}
