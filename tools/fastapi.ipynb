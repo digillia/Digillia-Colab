{
 "cells": [
  {
   "cell_type": "markdown",
   "metadata": {},
   "source": [
    "# FastAPI\n",
    "\n",
    "- https://github.com/tiangolo/fastapi\n",
    "\n",
    "And also:\n",
    "- https://github.com/django/django\n",
    "- https://github.com/pallets/flask/\n",
    "- https://github.com/tornadoweb/tornado"
   ]
  },
  {
   "cell_type": "code",
   "execution_count": null,
   "metadata": {},
   "outputs": [],
   "source": []
  }
 ],
 "metadata": {
  "language_info": {
   "name": "python"
  }
 },
 "nbformat": 4,
 "nbformat_minor": 2
}
