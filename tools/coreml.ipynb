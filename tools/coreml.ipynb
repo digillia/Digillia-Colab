{
 "cells": [
  {
   "cell_type": "markdown",
   "metadata": {},
   "source": [
    "# Core ML\n",
    "\n",
    "- https://developer.apple.com/documentation/coreml\n",
    "- https://apple.github.io/coremltools/"
   ]
  },
  {
   "cell_type": "code",
   "execution_count": null,
   "metadata": {},
   "outputs": [],
   "source": [
    "from sklearn.linear_model import LinearRegression\n",
    "import pandas as pd\n",
    "\n",
    "# Load data\n",
    "data = pd.read_csv('houses.csv')\n",
    "\n",
    "# Train a model\n",
    "model = LinearRegression()\n",
    "model.fit(data[[\"bedroom\", \"bath\", \"size\"]], data[\"price\"])\n",
    "\n",
    " # Convert and save the scikit-learn model\n",
    "import coremltools\n",
    "coreml_model = coremltools.converters.sklearn.convert(model,\n",
    "                                                         [\"bedroom\", \"bath\", \"size\"],\n",
    "                                                         \"price\")\n",
    "coreml_model.save('HousePricer.mlmodel')"
   ]
  }
 ],
 "metadata": {
  "language_info": {
   "name": "python"
  }
 },
 "nbformat": 4,
 "nbformat_minor": 2
}
