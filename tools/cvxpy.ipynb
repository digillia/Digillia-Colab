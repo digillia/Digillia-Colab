{
 "cells": [
  {
   "cell_type": "markdown",
   "metadata": {},
   "source": [
    "# CVXPY\n",
    "\n",
    "[![Index](https://img.shields.io/badge/Index-blue)](../index.ipynb)\n",
    "[![Open in Colab](https://colab.research.google.com/assets/colab-badge.svg)](https://colab.research.google.com/github/digillia/Digillia-Colab/blob/main/tools/cvxpy.ipynb)\n",
    "\n",
    "CVXPY est une bibliothèque Python dédiée à la modélisation et à la résolution de problèmes d’optimisation convexes. Elle permet de formuler des problèmes d’optimisation en utilisant une syntaxe mathématique intuitive et naturelle, ce qui la rend accessible pour des utilisateurs sans expertise approfondie en optimisation. CVXPY prend en charge différents types de problèmes, tels que la programmation linéaire, quadratique, et semi-définie positive. Une fois le problème modélisé, la bibliothèque choisit automatiquement un solveur adapté pour trouver la solution optimale tout en gérant les contraintes et objectifs complexes.\n",
    "\n",
    "Docs:\n",
    "- https://github.com/cvxpy/cvxpy\n",
    "- https://www.cvxpy.org/"
   ]
  },
  {
   "cell_type": "code",
   "execution_count": 23,
   "metadata": {},
   "outputs": [
    {
     "name": "stdout",
     "output_type": "stream",
     "text": [
      "\u001b[33mWarning:\u001b[0m Treating cmake as a formula. For the cask, use homebrew/cask/cmake or specify the `--cask` flag. To silence this message, use the `--formula` flag.\n",
      "\u001b[34m==>\u001b[0m \u001b[1mDownloading https://ghcr.io/v2/homebrew/core/cmake/manifests/3.30.5\u001b[0m\n",
      "Already downloaded: /Users/jlchereau/Library/Caches/Homebrew/downloads/8ab8d3df0588546d97c0c109b22526e4a1841811d7939fc717ecfe13c6144add--cmake-3.30.5.bottle_manifest.json\n",
      "\u001b[32m==>\u001b[0m \u001b[1mFetching \u001b[32mcmake\u001b[39m\u001b[0m\n",
      "\u001b[34m==>\u001b[0m \u001b[1mDownloading https://ghcr.io/v2/homebrew/core/cmake/blobs/sha256:127ba44c5c05\u001b[0m\n",
      "Already downloaded: /Users/jlchereau/Library/Caches/Homebrew/downloads/952d30ad486088b5cfff033c873d088db50660c3ad71f38a85781710d3b05b3d--cmake--3.30.5.arm64_sequoia.bottle.tar.gz\n",
      "\u001b[32m==>\u001b[0m \u001b[1mReinstalling \u001b[32mcmake\u001b[39m \u001b[0m\n",
      "\u001b[34m==>\u001b[0m \u001b[1mPouring cmake--3.30.5.arm64_sequoia.bottle.tar.gz\u001b[0m\n",
      "\u001b[34m==>\u001b[0m \u001b[1mCaveats\u001b[0m\n",
      "To install the CMake documentation, run:\n",
      "  brew install cmake-docs\n",
      "\n",
      "Emacs Lisp files have been installed to:\n",
      "  /opt/homebrew/share/emacs/site-lisp/cmake\n",
      "\u001b[34m==>\u001b[0m \u001b[1mSummary\u001b[0m\n",
      "🍺  /opt/homebrew/Cellar/cmake/3.30.5: 3,424 files, 54.7MB\n",
      "\u001b[34m==>\u001b[0m \u001b[1mRunning `brew cleanup cmake`...\u001b[0m\n",
      "Disable this behaviour by setting HOMEBREW_NO_INSTALL_CLEANUP.\n",
      "Hide these hints with HOMEBREW_NO_ENV_HINTS (see `man brew`).\n"
     ]
    }
   ],
   "source": [
    "import os\n",
    "import sys\n",
    "\n",
    "# Supprimer les commentaires pour installer (requirements.txt)\n",
    "\n",
    "if sys.platform == 'darwin':\n",
    "    !brew install cmake\n",
    "\n",
    "# À installer dans tous les cas pour Google Colab et Github\n",
    "if 'google.colab' in sys.modules or 'CI' in os.environ:\n",
    "    # !pip3 install -q -U cvxopt\n",
    "    !pip3 install -q -U cvxpy"
   ]
  },
  {
   "cell_type": "code",
   "execution_count": 20,
   "metadata": {},
   "outputs": [],
   "source": [
    "import cvxpy as cp"
   ]
  },
  {
   "cell_type": "markdown",
   "metadata": {},
   "source": [
    "## Problème simple d'optimisation linéaire\n",
    "\n",
    "Minimisation de la fonction: $3x_1 + 2x_2$\n",
    "\n",
    "Avec les contraintes:\n",
    "- $x_1 + x_2 \\geq 1$\n",
    "- $x_1 \\geq 0$\n",
    "- $x_2 \\geq 0$ "
   ]
  },
  {
   "cell_type": "code",
   "execution_count": 21,
   "metadata": {},
   "outputs": [
    {
     "name": "stdout",
     "output_type": "stream",
     "text": [
      "x1: 2.159879239888374e-09\n",
      "x2: 0.9999999960818362\n",
      "Minimum f(x1, x2): 1.9999999986433101\n"
     ]
    }
   ],
   "source": [
    "# Definition des variables\n",
    "x1 = cp.Variable()\n",
    "x2 = cp.Variable()\n",
    "\n",
    "# Definition de la fonction à minimiser\n",
    "objective = cp.Minimize(3 * x1 + 2 * x2)\n",
    "\n",
    "# Definition des contraintes\n",
    "constraints = [\n",
    "    x1 + x2 >= 1,\n",
    "    x1 >= 0,\n",
    "    x2 >= 0\n",
    "]\n",
    "\n",
    "# Création du problème\n",
    "problem = cp.Problem(objective, constraints)\n",
    "\n",
    "# Résolution\n",
    "problem.solve()\n",
    "\n",
    "# Affichage des resultats de l'optimisation\n",
    "print(\"x1:\", x1.value)\n",
    "print(\"x2:\", x2.value)\n",
    "print(\"Minimum f(x1, x2):\", problem.value)"
   ]
  },
  {
   "cell_type": "markdown",
   "metadata": {},
   "source": [
    "## Problème simple d'optimisation quadratique\n",
    "\n",
    "Maximiser la fonction avec les mêmes contraintes : $x_1 + x_2 - 0.5x_1^2 - 0.5x_2^2$\n",
    "\n",
    "Soit avec les contraintes:\n",
    "- $x_1 + x_2 \\geq 1$\n",
    "- $x_1 \\geq 0$\n",
    "- $x_2 \\geq 0$ "
   ]
  },
  {
   "cell_type": "code",
   "execution_count": 22,
   "metadata": {},
   "outputs": [
    {
     "name": "stdout",
     "output_type": "stream",
     "text": [
      "x1: 1.0\n",
      "x2: 1.0\n",
      "Maximum f(x1, x2): 1.0\n"
     ]
    }
   ],
   "source": [
    "# Définition des variables\n",
    "x1 = cp.Variable()\n",
    "x2 = cp.Variable()\n",
    "\n",
    "# Définition de la fonction à maximiser\n",
    "objective = cp.Maximize(x1 + x2 - 0.5 * cp.square(x1) - 0.5 * cp.square(x2))\n",
    "\n",
    "# Définition des contraintes\n",
    "constraints = [\n",
    "    x1 + 2 * x2 >= 1,\n",
    "    x1 >= 0,\n",
    "    x2 >= 0\n",
    "]\n",
    "\n",
    "# Création du problème\n",
    "problem = cp.Problem(objective, constraints)\n",
    "\n",
    "# Résolution\n",
    "problem.solve()\n",
    "\n",
    "# Affichage des resultats de l'optimisation\n",
    "print(\"x1:\", x1.value)\n",
    "print(\"x2:\", x2.value)\n",
    "print(\"Maximum f(x1, x2):\", problem.value)"
   ]
  }
 ],
 "metadata": {
  "kernelspec": {
   "display_name": "Python 3",
   "language": "python",
   "name": "python3"
  },
  "language_info": {
   "codemirror_mode": {
    "name": "ipython",
    "version": 3
   },
   "file_extension": ".py",
   "mimetype": "text/x-python",
   "name": "python",
   "nbconvert_exporter": "python",
   "pygments_lexer": "ipython3",
   "version": "3.9.6"
  }
 },
 "nbformat": 4,
 "nbformat_minor": 2
}
