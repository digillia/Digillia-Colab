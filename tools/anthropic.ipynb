{
 "cells": [
  {
   "cell_type": "markdown",
   "metadata": {},
   "source": [
    "# Anthropic\n",
    "\n",
    "[![Index](https://img.shields.io/badge/Index-blue)](../index.ipynb)\n",
    "[![Open in Colab](https://colab.research.google.com/assets/colab-badge.svg)](https://colab.research.google.com/github/digillia/Digillia-Colab/blob/main/tools/anthropic.ipynb)\n",
    "\n",
    "Comme [OpenAI](./openai.ipynb), Anthropic fournit un LLM en tant que service accessible via une API RESTful et plusieurs SDKs. Bien que cela ne soit pas démontré dans ce bloc-note Jupyter, [Anthropic supporte le SDK d'OpenAI](https://docs.anthropic.com/en/api/openai-sdk).\n",
    "\n",
    "Docs:\n",
    "- https://console.anthropic.com/dashboard\n",
    "- https://docs.anthropic.com/en/home"
   ]
  },
  {
   "cell_type": "markdown",
   "metadata": {},
   "source": [
    "## Installation du SDK"
   ]
  },
  {
   "cell_type": "code",
   "execution_count": 1,
   "metadata": {},
   "outputs": [],
   "source": [
    "import os\n",
    "import sys\n",
    "\n",
    "# Supprimer les commentaires pour installer (requirements.txt)\n",
    "# !pip3 install -qU -r ../requirements.txt\n",
    "\n",
    "# À installer dans tous les cas pour Google Colab et Github\n",
    "if 'google.colab' in sys.modules or 'CI' in os.environ:\n",
    "    !pip3 install -qU anthropic"
   ]
  },
  {
   "cell_type": "markdown",
   "metadata": {},
   "source": [
    "## Chargement de la Clé pour Anthropic\n",
    "\n",
    "Il vous faut obtenir d'Anthropic une clé pour exécuter ce bloc-note Jupyter. Vous pouvez consulter [Account Settings](https://console.anthropic.com/account/keys). Ensuite, le chargement se fait soit à partir de l'environnement (fichier `.env`), soit à partir des secrets de Google Colab."
   ]
  },
  {
   "cell_type": "code",
   "execution_count": 2,
   "metadata": {},
   "outputs": [],
   "source": [
    "if 'google.colab' in sys.modules:\n",
    "  from google.colab import userdata\n",
    "  anthropic_api_key = userdata.get('ANTHROPIC_API_KEY')\n",
    "else:\n",
    "  from dotenv import load_dotenv, find_dotenv\n",
    "  _ = load_dotenv(find_dotenv()) # lire le fichier .env local\n",
    "  anthropic_api_key  = os.environ['ANTHROPIC_API_KEY']"
   ]
  },
  {
   "cell_type": "markdown",
   "metadata": {},
   "source": [
    "## Liste des modèles disponibles"
   ]
  },
  {
   "cell_type": "code",
   "execution_count": 3,
   "metadata": {},
   "outputs": [
    {
     "name": "stdout",
     "output_type": "stream",
     "text": [
      "claude-3-7-sonnet-20250219 Claude 3.7 Sonnet\n",
      "claude-3-5-sonnet-20241022 Claude 3.5 Sonnet (New)\n",
      "claude-3-5-haiku-20241022 Claude 3.5 Haiku\n",
      "claude-3-5-sonnet-20240620 Claude 3.5 Sonnet (Old)\n",
      "claude-3-haiku-20240307 Claude 3 Haiku\n",
      "claude-3-opus-20240229 Claude 3 Opus\n"
     ]
    }
   ],
   "source": [
    "import anthropic\n",
    "\n",
    "client = anthropic.Anthropic(\n",
    "    # defaults to os.environ.get(\"ANTHROPIC_API_KEY\")\n",
    "    api_key=anthropic_api_key,\n",
    ")\n",
    "\n",
    "models=client.models.list(limit=20)\n",
    "for model in models:\n",
    "    print(model.id, model.display_name)"
   ]
  },
  {
   "cell_type": "markdown",
   "metadata": {},
   "source": [
    "## Intéraction avec le modèle"
   ]
  },
  {
   "cell_type": "code",
   "execution_count": 5,
   "metadata": {},
   "outputs": [
    {
     "name": "stdout",
     "output_type": "stream",
     "text": [
      "Hmm, the tale of young Skywalker, tell you I will.\n",
      "\n",
      "Begun in innocence his journey was, but consumed by fear and anger he became. From a gifted Padawan to the feared Darth Vader he fell, mmm yes. Seduced by the dark side he was, until by his son's love, redeemed he was at the end. Tragic his story is, yet balance to the Force, ultimately he brought.\n"
     ]
    }
   ],
   "source": [
    "message = client.messages.create(\n",
    "    model=models.data[0].id,\n",
    "    max_tokens=1024,\n",
    "    messages=[\n",
    "        {\"role\": \"user\", \"content\": \"Speak like Yoda from Star Wars\"},\n",
    "        {\"role\": \"assistant\", \"content\": \"Sure, I can help with that. What would you like me to say?\"},\n",
    "        {\"role\": \"user\", \"content\": \"Please tell me the story of Anakin Skywalker in a couple of sentences.\"}\n",
    "    ]\n",
    ")\n",
    "print(message.content[0].text)"
   ]
  }
 ],
 "metadata": {
  "kernelspec": {
   "display_name": ".venv",
   "language": "python",
   "name": "python3"
  },
  "language_info": {
   "codemirror_mode": {
    "name": "ipython",
    "version": 3
   },
   "file_extension": ".py",
   "mimetype": "text/x-python",
   "name": "python",
   "nbconvert_exporter": "python",
   "pygments_lexer": "ipython3",
   "version": "3.12.9"
  }
 },
 "nbformat": 4,
 "nbformat_minor": 2
}
