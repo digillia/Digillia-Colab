{
 "cells": [
  {
   "cell_type": "markdown",
   "metadata": {},
   "source": [
    "# Gradio\n",
    "\n",
    "[![Index](https://img.shields.io/badge/Index-blue)](../index.ipynb)\n",
    "[![Open in Colab](https://colab.research.google.com/assets/colab-badge.svg)](https://colab.research.google.com/github/digillia/Digillia-Colab/blob/main/tools/gradio.ipynb)\n",
    "\n",
    "[Gradio](https://www.gradio.app/) permet de produire rapidement une interface, executable à la fois dans un bloc-note jupyter et dans un navigateur web, qui produit un output en appliquant une fonction à un input. Gradio permet de construire des prototypes simples d'évaluation de modèles d'apprentissage machine. Pour des prototypes plus complexes, considérez [Streamlit](https://streamlit.io/)."
   ]
  },
  {
   "cell_type": "code",
   "execution_count": 1,
   "metadata": {},
   "outputs": [],
   "source": [
    "import sys\n",
    "\n",
    "# Supprimer les commentaires pour installer\n",
    "# !pip3 install -q -U pandas\n",
    "# !pip3 install -q -U scikit-learn\n",
    "# !pip3 install -q -U matplotlib\n",
    "\n",
    "if 'google.colab' in sys.modules:\n",
    "    !pip3 install -q -U gradio"
   ]
  },
  {
   "cell_type": "markdown",
   "metadata": {},
   "source": [
    "## Interface simple"
   ]
  },
  {
   "cell_type": "markdown",
   "metadata": {},
   "source": [
    "### Champs textuels\n",
    "\n",
    "Dans cet exemple, l'output est simplement la conversion en majuscules de l'input. "
   ]
  },
  {
   "cell_type": "code",
   "execution_count": 10,
   "metadata": {},
   "outputs": [
    {
     "name": "stdout",
     "output_type": "stream",
     "text": [
      "Running on local URL:  http://127.0.0.1:7867\n",
      "\n",
      "To create a public link, set `share=True` in `launch()`.\n"
     ]
    },
    {
     "data": {
      "text/html": [
       "<div><iframe src=\"http://127.0.0.1:7867/\" width=\"100%\" height=\"500\" allow=\"autoplay; camera; microphone; clipboard-read; clipboard-write;\" frameborder=\"0\" allowfullscreen></iframe></div>"
      ],
      "text/plain": [
       "<IPython.core.display.HTML object>"
      ]
     },
     "metadata": {},
     "output_type": "display_data"
    },
    {
     "data": {
      "text/plain": []
     },
     "execution_count": 10,
     "metadata": {},
     "output_type": "execute_result"
    }
   ],
   "source": [
    "import gradio as gr\n",
    "\n",
    "def onSubmit(input):\n",
    "    output = str.upper(input)\n",
    "    return output\n",
    "\n",
    "ui = gr.Interface(\n",
    "    title=\"Champs textuels\",\n",
    "    description=\"Saisissez une input, puis cliquez le bouton Submit.\",\n",
    "    fn=onSubmit,\n",
    "    inputs=\"text\",\n",
    "    outputs=\"text\"\n",
    "    )\n",
    "\n",
    "ui.launch()"
   ]
  },
  {
   "cell_type": "markdown",
   "metadata": {},
   "source": [
    "### Champs numériques\n",
    "\n",
    "Dans cet exemple, l'input est nommée `x` et a une valeur par défaut, l'output est nommée `y=2x`, et la fonction de calcul de l'output, multiplie l'input par deux."
   ]
  },
  {
   "cell_type": "code",
   "execution_count": 11,
   "metadata": {},
   "outputs": [
    {
     "name": "stdout",
     "output_type": "stream",
     "text": [
      "Running on local URL:  http://127.0.0.1:7868\n",
      "\n",
      "To create a public link, set `share=True` in `launch()`.\n"
     ]
    },
    {
     "data": {
      "text/html": [
       "<div><iframe src=\"http://127.0.0.1:7868/\" width=\"100%\" height=\"500\" allow=\"autoplay; camera; microphone; clipboard-read; clipboard-write;\" frameborder=\"0\" allowfullscreen></iframe></div>"
      ],
      "text/plain": [
       "<IPython.core.display.HTML object>"
      ]
     },
     "metadata": {},
     "output_type": "display_data"
    },
    {
     "data": {
      "text/plain": []
     },
     "execution_count": 11,
     "metadata": {},
     "output_type": "execute_result"
    }
   ],
   "source": [
    "import gradio as gr\n",
    "\n",
    "def onSubmit(x1, x2):\n",
    "    y = 2 * x1 + x2\n",
    "    return y\n",
    "\n",
    "ui = gr.Interface(\n",
    "    title=\"Champs numériques\",\n",
    "    description=\"Saisissez x1 et x2, puis cliquez sur le bouton Submit.\",\n",
    "    fn=onSubmit,\n",
    "    inputs=[\n",
    "        gr.Number(value=5, label='x1'),\n",
    "        gr.Number(value=5, label='x2')\n",
    "    ],\n",
    "    outputs=gr.Number(label='y = 2*x1 + x2')\n",
    "    )\n",
    "\n",
    "ui.launch()"
   ]
  },
  {
   "cell_type": "markdown",
   "metadata": {},
   "source": [
    "## Interface d'un modèle d'apprentissage machine\n",
    "\n",
    "Gradio est vraiment intéressant pour créer des prototypes permettant de mettre des modèles d'apprentissage machine aux mains des utilisateurs, sur un modèle d'interface entrée/sortie, où la sortie est la prédiction faite par le modèle pour la ou les entrées."
   ]
  },
  {
   "cell_type": "markdown",
   "metadata": {},
   "source": [
    "### Régression linéaire"
   ]
  },
  {
   "cell_type": "code",
   "execution_count": 22,
   "metadata": {},
   "outputs": [
    {
     "name": "stdout",
     "output_type": "stream",
     "text": [
      "Running on local URL:  http://127.0.0.1:7872\n",
      "\n",
      "To create a public link, set `share=True` in `launch()`.\n"
     ]
    },
    {
     "data": {
      "text/html": [
       "<div><iframe src=\"http://127.0.0.1:7872/\" width=\"100%\" height=\"500\" allow=\"autoplay; camera; microphone; clipboard-read; clipboard-write;\" frameborder=\"0\" allowfullscreen></iframe></div>"
      ],
      "text/plain": [
       "<IPython.core.display.HTML object>"
      ]
     },
     "metadata": {},
     "output_type": "display_data"
    },
    {
     "data": {
      "text/plain": []
     },
     "execution_count": 22,
     "metadata": {},
     "output_type": "execute_result"
    }
   ],
   "source": [
    "import pandas as pd\n",
    "from sklearn.datasets import make_regression\n",
    "from sklearn.linear_model import LinearRegression\n",
    "import matplotlib.pyplot as plt\n",
    "import gradio as gr\n",
    "\n",
    "n_samples = 5\n",
    "random_state = 42\n",
    "\n",
    "# Création des données par défaut\n",
    "X, y = make_regression(n_samples=n_samples, n_features=1, n_targets=1, noise=2.0, random_state=random_state)\n",
    "\n",
    "def onSubmit(df):\n",
    "    X_train = df[\"x\"].values.reshape(-1, 1)\n",
    "    y_train = df[\"y\"]\n",
    "    model = LinearRegression().fit(X_train, y_train)\n",
    "    y_pred = model.predict(X_train)\n",
    "    fig = plt.figure()\n",
    "    plt.scatter(X_train, y_train)\n",
    "    plt.plot(X_train, y_pred)\n",
    "    plt.title(\"Régression linéaire\")\n",
    "    plt.ylabel(\"y\")\n",
    "    plt.xlabel(\"x\")\n",
    "    return fig\n",
    "\n",
    "ui = gr.Interface(\n",
    "    title=\"Régression linéaire\",\n",
    "    description=\"Saisissez des valeurs, puis cliquez sur le bouton Submit.\",\n",
    "    fn=onSubmit,\n",
    "    inputs=gr.Dataframe(\n",
    "        value=pd.DataFrame({'x': X.ravel(), 'y': y}),\n",
    "        headers=[\"x\", \"y\"],\n",
    "        datatype=[\"number\", \"number\"],\n",
    "        row_count=n_samples,\n",
    "        col_count=(2, \"fixed\"),\n",
    "    ),\n",
    "    outputs=gr.Plot(label='predictions')\n",
    "    )\n",
    "\n",
    "ui.launch()"
   ]
  }
 ],
 "metadata": {
  "kernelspec": {
   "display_name": "Python 3",
   "language": "python",
   "name": "python3"
  },
  "language_info": {
   "codemirror_mode": {
    "name": "ipython",
    "version": 3
   },
   "file_extension": ".py",
   "mimetype": "text/x-python",
   "name": "python",
   "nbconvert_exporter": "python",
   "pygments_lexer": "ipython3",
   "version": "3.9.6"
  }
 },
 "nbformat": 4,
 "nbformat_minor": 2
}
