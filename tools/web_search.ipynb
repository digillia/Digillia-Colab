{
 "cells": [
  {
   "cell_type": "markdown",
   "metadata": {},
   "source": [
    "# Web Search APIs\n",
    "\n",
    "[![Index](https://img.shields.io/badge/Index-blue)](../index.ipynb)\n",
    "[![Open in Colab](https://colab.research.google.com/assets/colab-badge.svg)](https://colab.research.google.com/github/digillia/Digillia-Colab/blob/main/tools/web_search.ipynb)\n",
    "\n",
    "Various web search APIs to use with AI agents."
   ]
  },
  {
   "cell_type": "markdown",
   "metadata": {},
   "source": [
    "## Installation des SDKs"
   ]
  },
  {
   "cell_type": "code",
   "execution_count": 1,
   "metadata": {},
   "outputs": [],
   "source": [
    "import os\n",
    "import sys\n",
    "\n",
    "# Supprimer les commentaires pour installer\n",
    "# !pip3 install -qU -r ../requirements.txt\n",
    "\n",
    "# À installer dans tous les cas pour Google Colab et Github\n",
    "if ('google.colab' in sys.modules) or ('CI' in os.environ):\n",
    "    !pip3 install -qU duckduckgo-search\n",
    "    !pip3 install -qU llama-index\n",
    "    !pip3 install -qU tavily-python"
   ]
  },
  {
   "cell_type": "markdown",
   "metadata": {},
   "source": [
    "## Chargement des clés API"
   ]
  },
  {
   "cell_type": "code",
   "execution_count": 5,
   "metadata": {},
   "outputs": [],
   "source": [
    "if 'google.colab' in sys.modules:\n",
    "  from google.colab import userdata\n",
    "  brave_api_key = userdata.get('BRAVE_API_KEY')\n",
    "  openai_api_key = userdata.get('OPENAI_API_KEY')\n",
    "  serper_api_key = userdata.get('SERPER_API_KEY')\n",
    "  tavily_api_key = userdata.get('TAVILY_API_KEY')\n",
    "else:\n",
    "  from dotenv import load_dotenv, find_dotenv\n",
    "  _ = load_dotenv(find_dotenv()) # lire le fichier .env local\n",
    "  brave_api_key = os.environ['BRAVE_API_KEY']\n",
    "  openai_api_key = os.environ['OPENAI_API_KEY']\n",
    "  serper_api_key  = os.environ['SERPER_API_KEY']\n",
    "  tavily_api_key  = os.environ['TAVILY_API_KEY']"
   ]
  },
  {
   "cell_type": "code",
   "execution_count": 6,
   "metadata": {},
   "outputs": [],
   "source": [
    "import pandas as pd\n",
    "\n",
    "question = 'Qui est Napoléon Bonaparte ?'"
   ]
  },
  {
   "cell_type": "markdown",
   "metadata": {},
   "source": [
    "## Brave\n",
    "\n",
    "Docs:\n",
    "- https://brave.com/search/api/\n",
    "- https://python.langchain.com/docs/integrations/tools/brave_search/\n",
    "- https://docs.llamaindex.ai/en/stable/api_reference/tools/brave_search/"
   ]
  },
  {
   "cell_type": "code",
   "execution_count": 10,
   "metadata": {},
   "outputs": [
    {
     "data": {
      "application/vnd.microsoft.datawrangler.viewer.v0+json": {
       "columns": [
        {
         "name": "index",
         "rawType": "int64",
         "type": "integer"
        },
        {
         "name": "title",
         "rawType": "object",
         "type": "string"
        },
        {
         "name": "url",
         "rawType": "object",
         "type": "string"
        },
        {
         "name": "is_source_local",
         "rawType": "bool",
         "type": "boolean"
        },
        {
         "name": "is_source_both",
         "rawType": "bool",
         "type": "boolean"
        },
        {
         "name": "description",
         "rawType": "object",
         "type": "string"
        },
        {
         "name": "page_age",
         "rawType": "object",
         "type": "unknown"
        },
        {
         "name": "profile",
         "rawType": "object",
         "type": "unknown"
        },
        {
         "name": "language",
         "rawType": "object",
         "type": "string"
        },
        {
         "name": "family_friendly",
         "rawType": "bool",
         "type": "boolean"
        },
        {
         "name": "type",
         "rawType": "object",
         "type": "string"
        },
        {
         "name": "subtype",
         "rawType": "object",
         "type": "string"
        },
        {
         "name": "is_live",
         "rawType": "bool",
         "type": "boolean"
        },
        {
         "name": "meta_url",
         "rawType": "object",
         "type": "unknown"
        },
        {
         "name": "age",
         "rawType": "object",
         "type": "unknown"
        },
        {
         "name": "thumbnail",
         "rawType": "object",
         "type": "unknown"
        }
       ],
       "conversionMethod": "pd.DataFrame",
       "ref": "9e18d64e-6429-46d1-b647-3885711b816c",
       "rows": [
        [
         "0",
         "Napoléon Ier — Wikipédia",
         "https://fr.wikipedia.org/wiki/Napol%C3%A9on_Ier",
         "False",
         "False",
         "Ondoyé à domicile, il a pour nom de baptême Napoleone Buonaparte (prénom donné en mémoire d&#x27;un oncle décédé à Corte en 1767), et n&#x27;est baptisé à la cathédrale Notre-Dame-de-l&#x27;Assomption d&#x27;Ajaccio que le 21 juillet 1771. La famille <strong>Bonaparte</strong> <strong>est</strong> d&#x27;origine italienne et passée en ...",
         "2025-03-12T15:06:38",
         "{'name': 'Wikipedia', 'url': 'https://fr.wikipedia.org/wiki/Napol%C3%A9on_Ier', 'long_name': 'fr.wikipedia.org', 'img': 'https://imgs.search.brave.com/9hcXszQtxFqKhmv5bxBm9G2EFNIcGvLx34pvPEqARmw/rs:fit:32:32:1:0/g:ce/aHR0cDovL2Zhdmlj/b25zLnNlYXJjaC5i/cmF2ZS5jb20vaWNv/bnMvZTMzMDhhNDdi/YjBhOTk2ZTM1MTBm/ODZlNjc3Y2Q5ZjBj/MTFmOTQ5ZWIzNmRh/NjI4ZTI0NGRhZDgx/MmE4ZTJjNi9mci53/aWtpcGVkaWEub3Jn/Lw'}",
         "fr",
         "True",
         "search_result",
         "generic",
         "False",
         "{'scheme': 'https', 'netloc': 'fr.wikipedia.org', 'hostname': 'fr.wikipedia.org', 'favicon': 'https://imgs.search.brave.com/9hcXszQtxFqKhmv5bxBm9G2EFNIcGvLx34pvPEqARmw/rs:fit:32:32:1:0/g:ce/aHR0cDovL2Zhdmlj/b25zLnNlYXJjaC5i/cmF2ZS5jb20vaWNv/bnMvZTMzMDhhNDdi/YjBhOTk2ZTM1MTBm/ODZlNjc3Y2Q5ZjBj/MTFmOTQ5ZWIzNmRh/NjI4ZTI0NGRhZDgx/MmE4ZTJjNi9mci53/aWtpcGVkaWEub3Jn/Lw', 'path': '› wiki  › Napoléon_Ier'}",
         "1 week ago",
         null
        ],
        [
         "1",
         "Qui est Napoléon Bonaparte",
         "https://www.lemonde.fr/memorable/blog/napoleon",
         "False",
         "False",
         "Qui était <strong>Napoléon</strong> <strong>Bonaparte</strong> ? Comment est-il mort ? Quand <strong>Napoléon</strong> accède-t-il au pouvoir ? Prenez dix minutes pour connaître l’essentiel à son sujet, avec la leçon de Mémorable, l’application de culture générale créée par les journalistes du Monde.",
         null,
         "{'name': 'Le Monde', 'url': 'https://www.lemonde.fr/memorable/blog/napoleon', 'long_name': 'lemonde.fr', 'img': 'https://imgs.search.brave.com/XrjVKYGyjr5PA_j6q5d8QLJeWTIPyQfDNe_Nr6hG_K4/rs:fit:32:32:1:0/g:ce/aHR0cDovL2Zhdmlj/b25zLnNlYXJjaC5i/cmF2ZS5jb20vaWNv/bnMvYjE3NTU1MTNl/NTAwM2M2ZWZlY2M4/OWJkNWViZGMyNWJl/NmI3ODhiZDNiYTVl/YjczMzdmMzQ1ODQ2/NTNlNmQ1Mi93d3cu/bGVtb25kZS5mci8'}",
         "fr",
         "True",
         "search_result",
         "generic",
         "False",
         "{'scheme': 'https', 'netloc': 'lemonde.fr', 'hostname': 'www.lemonde.fr', 'favicon': 'https://imgs.search.brave.com/XrjVKYGyjr5PA_j6q5d8QLJeWTIPyQfDNe_Nr6hG_K4/rs:fit:32:32:1:0/g:ce/aHR0cDovL2Zhdmlj/b25zLnNlYXJjaC5i/cmF2ZS5jb20vaWNv/bnMvYjE3NTU1MTNl/NTAwM2M2ZWZlY2M4/OWJkNWViZGMyNWJl/NmI3ODhiZDNiYTVl/YjczMzdmMzQ1ODQ2/NTNlNmQ1Mi93d3cu/bGVtb25kZS5mci8', 'path': '› memorable  › blog  › napoleon'}",
         null,
         null
        ],
        [
         "2",
         "Biographie de Napoléon Bonaparte, du général à l'Empereur des Français (1769-1821) > cours, documents à télécharger, liens web, texte à trous - napoleon.org",
         "https://www.napoleon.org/enseignants/documents/biographie-de-napoleon-bonaparte-du-general-a-lempereur-des-francais-1769-1821-documents-a-telecharger-liens-web/",
         "False",
         "False",
         "Le général Bonaparte au pont ... n’est pas qu’un militaire, il réfléchit aussi à la façon de gérer un état : c’est un <strong>homme politique ambitieux</strong>....",
         "2024-08-22T09:26:57",
         "{'name': 'Napoleon', 'url': 'https://www.napoleon.org/enseignants/documents/biographie-de-napoleon-bonaparte-du-general-a-lempereur-des-francais-1769-1821-documents-a-telecharger-liens-web/', 'long_name': 'napoleon.org', 'img': 'https://imgs.search.brave.com/mMW3L6FECI2nwyFJsfYxErodgCWwDkaHVVdmBmuYbmw/rs:fit:32:32:1:0/g:ce/aHR0cDovL2Zhdmlj/b25zLnNlYXJjaC5i/cmF2ZS5jb20vaWNv/bnMvZDQ5OTcwZWZl/ZDUxNzQ3Y2RiYTdj/ZmI1YjM1ZjI4YTky/MDA2ZmQ4NTEzOGUy/Yzk0NjQ1YWEwOGQ3/MmY1NWI2ZS93d3cu/bmFwb2xlb24ub3Jn/Lw'}",
         "fr",
         "True",
         "search_result",
         "article",
         "False",
         "{'scheme': 'https', 'netloc': 'napoleon.org', 'hostname': 'www.napoleon.org', 'favicon': 'https://imgs.search.brave.com/mMW3L6FECI2nwyFJsfYxErodgCWwDkaHVVdmBmuYbmw/rs:fit:32:32:1:0/g:ce/aHR0cDovL2Zhdmlj/b25zLnNlYXJjaC5i/cmF2ZS5jb20vaWNv/bnMvZDQ5OTcwZWZl/ZDUxNzQ3Y2RiYTdj/ZmI1YjM1ZjI4YTky/MDA2ZmQ4NTEzOGUy/Yzk0NjQ1YWEwOGQ3/MmY1NWI2ZS93d3cu/bmFwb2xlb24ub3Jn/Lw', 'path': '› enseignants  › documents  › biographie-de-napoleon-bonaparte-du-general-a-lempereur-des-francais-1769-1821-documents-a-telecharger-liens-web'}",
         "August 22, 2024",
         "{'src': 'https://imgs.search.brave.com/fC86crJeDGAldn8fKe83w7foPE_iX6fEFDYTIKszY48/rs:fit:200:200:1:0/g:ce/aHR0cHM6Ly93d3cu/bmFwb2xlb24ub3Jn/L3dwLWNvbnRlbnQv/dGh1bWJuYWlscy91/cGxvYWRzLzIwMTYv/MDQvR2VuZXJhbEJv/bmFwYXJ0ZV9EYXZp/ZExvdXZyZS10dC13/aWR0aC01MjQtaGVp/Z2h0LTY1MC1maWxs/LTAtY3JvcC0wLWJn/Y29sb3ItZWVlZWVl/LWxhenlsb2FkLTAu/anBn', 'original': 'https://www.napoleon.org/wp-content/thumbnails/uploads/2016/04/GeneralBonaparte_DavidLouvre-tt-width-524-height-650-fill-0-crop-0-bgcolor-eeeeee-lazyload-0.jpg', 'logo': False}"
        ],
        [
         "3",
         "C’est qui, Napoléon Bonaparte ? - 1jour1actu.com",
         "https://www.1jour1actu.com/culture/cest-qui-napoleon-bonaparte",
         "False",
         "False",
         "Mercredi 22 novembre un film sur <strong>Napoléon</strong> <strong>est</strong> sorti au cinéma. <strong>Napoléon</strong> <strong>Bonaparte</strong> <strong>est</strong> un célèbre personnage de l’histoire de France. Il est mort il y a un peu plus de 200 ans. 1jour1actu te raconte en vidéo le destin extraordinaire de cet homme, qui a été empereur sous le nom de <strong>Napoléon</strong> ...",
         "2023-11-29T07:47:21",
         "{'name': '1jour1actu', 'url': 'https://www.1jour1actu.com/culture/cest-qui-napoleon-bonaparte', 'long_name': '1jour1actu.com', 'img': 'https://imgs.search.brave.com/Ki4xeCPzdqi6imQXq56_C0Z_3tBvS-7GxVZTsMmut6A/rs:fit:32:32:1:0/g:ce/aHR0cDovL2Zhdmlj/b25zLnNlYXJjaC5i/cmF2ZS5jb20vaWNv/bnMvZjUwYzVhMDE5/M2ZhZGVmZmI5Y2Vm/MjU1MGQxNjgyY2Q0/MTgwNWJhNDRkYjA4/NmJmMjI4ZjYyY2Q0/MDBiM2RhOC93d3cu/MWpvdXIxYWN0dS5j/b20v'}",
         "fr",
         "True",
         "search_result",
         "article",
         "False",
         "{'scheme': 'https', 'netloc': '1jour1actu.com', 'hostname': 'www.1jour1actu.com', 'favicon': 'https://imgs.search.brave.com/Ki4xeCPzdqi6imQXq56_C0Z_3tBvS-7GxVZTsMmut6A/rs:fit:32:32:1:0/g:ce/aHR0cDovL2Zhdmlj/b25zLnNlYXJjaC5i/cmF2ZS5jb20vaWNv/bnMvZjUwYzVhMDE5/M2ZhZGVmZmI5Y2Vm/MjU1MGQxNjgyY2Q0/MTgwNWJhNDRkYjA4/NmJmMjI4ZjYyY2Q0/MDBiM2RhOC93d3cu/MWpvdXIxYWN0dS5j/b20v', 'path': '  › accueil  › vidéos  › culture  › c’est qui, napoléon bonaparte ?'}",
         "November 29, 2023",
         "{'src': 'https://imgs.search.brave.com/XKsZer6Bcz6iH67nM4Ouu_MRFNrH2weuRWwEfYPs17A/rs:fit:200:200:1:0/g:ce/aHR0cHM6Ly93d3cu/MWpvdXIxYWN0dS5j/b20vd3AtY29udGVu/dC91cGxvYWRzLzIw/MjEvMDUvSlE5MDhf/TkFQT0xFT04uanBn', 'original': 'https://www.1jour1actu.com/wp-content/uploads/2021/05/JQ908_NAPOLEON.jpg', 'logo': False}"
        ],
        [
         "4",
         "Napoléon Ier | Château de Versailles",
         "https://www.chateauversailles.fr/decouvrir/histoire/grands-personnages/napoleon-ier",
         "False",
         "False",
         "Officier d’artillerie en 1785, général en 1793, il devint Premier consul à la faveur du coup d’État de Brumaire (novembre 1799). <strong>Empereur des Français en mai 1804</strong>, sous le nom de Napoléon Ier, il fut l’artisan du redressement de la France après la Révolution, avant d’être le ...",
         "2021-09-07T08:56:08",
         "{'name': 'Chateauversailles', 'url': 'https://www.chateauversailles.fr/decouvrir/histoire/grands-personnages/napoleon-ier', 'long_name': 'chateauversailles.fr', 'img': 'https://imgs.search.brave.com/oH23YuxMYDq3lIwqPpliyyAOui0KAzWTQjEII_veciI/rs:fit:32:32:1:0/g:ce/aHR0cDovL2Zhdmlj/b25zLnNlYXJjaC5i/cmF2ZS5jb20vaWNv/bnMvMWI0Y2UyOGZl/ZDEzODgxZjg4M2Ji/OWFkMDUzYzZkNTlj/MzEwNzNhNTI4ZDRm/OWNiODdjOWRkYzUx/MDA5ZTNjYi93d3cu/Y2hhdGVhdXZlcnNh/aWxsZXMuZnIv'}",
         "fr",
         "True",
         "search_result",
         "generic",
         "False",
         "{'scheme': 'https', 'netloc': 'chateauversailles.fr', 'hostname': 'www.chateauversailles.fr', 'favicon': 'https://imgs.search.brave.com/oH23YuxMYDq3lIwqPpliyyAOui0KAzWTQjEII_veciI/rs:fit:32:32:1:0/g:ce/aHR0cDovL2Zhdmlj/b25zLnNlYXJjaC5i/cmF2ZS5jb20vaWNv/bnMvMWI0Y2UyOGZl/ZDEzODgxZjg4M2Ji/OWFkMDUzYzZkNTlj/MzEwNzNhNTI4ZDRm/OWNiODdjOWRkYzUx/MDA5ZTNjYi93d3cu/Y2hhdGVhdXZlcnNh/aWxsZXMuZnIv', 'path': '› decouvrir  › histoire  › grands-personnages  › napoleon-ier'}",
         "September 7, 2021",
         "{'src': 'https://imgs.search.brave.com/G6FrkcuPFpLmbPM46yQTmUDOu-8hIsJ2YH8VtSO-_Y4/rs:fit:200:200:1:0/g:ce/aHR0cHM6Ly93d3cu/Y2hhdGVhdXZlcnNh/aWxsZXMuZnIvc2l0/ZXMvZGVmYXVsdC9m/aWxlcy9zdHlsZXMv/cmVzZWF1eF9zb2Np/YXV4L3B1YmxpYy92/aXN1ZWxzX3ByaW5j/aXBhdXgvcGVyc29u/bmFnZXMvMTUtNTMx/NzIzb2suanBnP2l0/b2s9THZJQ0EwNHQ', 'original': 'https://www.chateauversailles.fr/sites/default/files/styles/reseaux_sociaux/public/visuels_principaux/personnages/15-531723ok.jpg?itok=LvICA04t', 'logo': False}"
        ]
       ],
       "shape": {
        "columns": 15,
        "rows": 5
       }
      },
      "text/html": [
       "<div>\n",
       "<style scoped>\n",
       "    .dataframe tbody tr th:only-of-type {\n",
       "        vertical-align: middle;\n",
       "    }\n",
       "\n",
       "    .dataframe tbody tr th {\n",
       "        vertical-align: top;\n",
       "    }\n",
       "\n",
       "    .dataframe thead th {\n",
       "        text-align: right;\n",
       "    }\n",
       "</style>\n",
       "<table border=\"1\" class=\"dataframe\">\n",
       "  <thead>\n",
       "    <tr style=\"text-align: right;\">\n",
       "      <th></th>\n",
       "      <th>title</th>\n",
       "      <th>url</th>\n",
       "      <th>is_source_local</th>\n",
       "      <th>is_source_both</th>\n",
       "      <th>description</th>\n",
       "      <th>page_age</th>\n",
       "      <th>profile</th>\n",
       "      <th>language</th>\n",
       "      <th>family_friendly</th>\n",
       "      <th>type</th>\n",
       "      <th>subtype</th>\n",
       "      <th>is_live</th>\n",
       "      <th>meta_url</th>\n",
       "      <th>age</th>\n",
       "      <th>thumbnail</th>\n",
       "    </tr>\n",
       "  </thead>\n",
       "  <tbody>\n",
       "    <tr>\n",
       "      <th>0</th>\n",
       "      <td>Napoléon Ier — Wikipédia</td>\n",
       "      <td>https://fr.wikipedia.org/wiki/Napol%C3%A9on_Ier</td>\n",
       "      <td>False</td>\n",
       "      <td>False</td>\n",
       "      <td>Ondoyé à domicile, il a pour nom de baptême Na...</td>\n",
       "      <td>2025-03-12T15:06:38</td>\n",
       "      <td>{'name': 'Wikipedia', 'url': 'https://fr.wikip...</td>\n",
       "      <td>fr</td>\n",
       "      <td>True</td>\n",
       "      <td>search_result</td>\n",
       "      <td>generic</td>\n",
       "      <td>False</td>\n",
       "      <td>{'scheme': 'https', 'netloc': 'fr.wikipedia.or...</td>\n",
       "      <td>1 week ago</td>\n",
       "      <td>NaN</td>\n",
       "    </tr>\n",
       "    <tr>\n",
       "      <th>1</th>\n",
       "      <td>Qui est Napoléon Bonaparte</td>\n",
       "      <td>https://www.lemonde.fr/memorable/blog/napoleon</td>\n",
       "      <td>False</td>\n",
       "      <td>False</td>\n",
       "      <td>Qui était &lt;strong&gt;Napoléon&lt;/strong&gt; &lt;strong&gt;Bo...</td>\n",
       "      <td>NaN</td>\n",
       "      <td>{'name': 'Le Monde', 'url': 'https://www.lemon...</td>\n",
       "      <td>fr</td>\n",
       "      <td>True</td>\n",
       "      <td>search_result</td>\n",
       "      <td>generic</td>\n",
       "      <td>False</td>\n",
       "      <td>{'scheme': 'https', 'netloc': 'lemonde.fr', 'h...</td>\n",
       "      <td>NaN</td>\n",
       "      <td>NaN</td>\n",
       "    </tr>\n",
       "    <tr>\n",
       "      <th>2</th>\n",
       "      <td>Biographie de Napoléon Bonaparte, du général à...</td>\n",
       "      <td>https://www.napoleon.org/enseignants/documents...</td>\n",
       "      <td>False</td>\n",
       "      <td>False</td>\n",
       "      <td>Le général Bonaparte au pont ... n’est pas qu’...</td>\n",
       "      <td>2024-08-22T09:26:57</td>\n",
       "      <td>{'name': 'Napoleon', 'url': 'https://www.napol...</td>\n",
       "      <td>fr</td>\n",
       "      <td>True</td>\n",
       "      <td>search_result</td>\n",
       "      <td>article</td>\n",
       "      <td>False</td>\n",
       "      <td>{'scheme': 'https', 'netloc': 'napoleon.org', ...</td>\n",
       "      <td>August 22, 2024</td>\n",
       "      <td>{'src': 'https://imgs.search.brave.com/fC86crJ...</td>\n",
       "    </tr>\n",
       "    <tr>\n",
       "      <th>3</th>\n",
       "      <td>C’est qui, Napoléon Bonaparte ? - 1jour1actu.com</td>\n",
       "      <td>https://www.1jour1actu.com/culture/cest-qui-na...</td>\n",
       "      <td>False</td>\n",
       "      <td>False</td>\n",
       "      <td>Mercredi 22 novembre un film sur &lt;strong&gt;Napol...</td>\n",
       "      <td>2023-11-29T07:47:21</td>\n",
       "      <td>{'name': '1jour1actu', 'url': 'https://www.1jo...</td>\n",
       "      <td>fr</td>\n",
       "      <td>True</td>\n",
       "      <td>search_result</td>\n",
       "      <td>article</td>\n",
       "      <td>False</td>\n",
       "      <td>{'scheme': 'https', 'netloc': '1jour1actu.com'...</td>\n",
       "      <td>November 29, 2023</td>\n",
       "      <td>{'src': 'https://imgs.search.brave.com/XKsZer6...</td>\n",
       "    </tr>\n",
       "    <tr>\n",
       "      <th>4</th>\n",
       "      <td>Napoléon Ier | Château de Versailles</td>\n",
       "      <td>https://www.chateauversailles.fr/decouvrir/his...</td>\n",
       "      <td>False</td>\n",
       "      <td>False</td>\n",
       "      <td>Officier d’artillerie en 1785, général en 1793...</td>\n",
       "      <td>2021-09-07T08:56:08</td>\n",
       "      <td>{'name': 'Chateauversailles', 'url': 'https://...</td>\n",
       "      <td>fr</td>\n",
       "      <td>True</td>\n",
       "      <td>search_result</td>\n",
       "      <td>generic</td>\n",
       "      <td>False</td>\n",
       "      <td>{'scheme': 'https', 'netloc': 'chateauversaill...</td>\n",
       "      <td>September 7, 2021</td>\n",
       "      <td>{'src': 'https://imgs.search.brave.com/G6Frkcu...</td>\n",
       "    </tr>\n",
       "  </tbody>\n",
       "</table>\n",
       "</div>"
      ],
      "text/plain": [
       "                                               title  \\\n",
       "0                           Napoléon Ier — Wikipédia   \n",
       "1                         Qui est Napoléon Bonaparte   \n",
       "2  Biographie de Napoléon Bonaparte, du général à...   \n",
       "3   C’est qui, Napoléon Bonaparte ? - 1jour1actu.com   \n",
       "4               Napoléon Ier | Château de Versailles   \n",
       "\n",
       "                                                 url  is_source_local  \\\n",
       "0    https://fr.wikipedia.org/wiki/Napol%C3%A9on_Ier            False   \n",
       "1     https://www.lemonde.fr/memorable/blog/napoleon            False   \n",
       "2  https://www.napoleon.org/enseignants/documents...            False   \n",
       "3  https://www.1jour1actu.com/culture/cest-qui-na...            False   \n",
       "4  https://www.chateauversailles.fr/decouvrir/his...            False   \n",
       "\n",
       "   is_source_both                                        description  \\\n",
       "0           False  Ondoyé à domicile, il a pour nom de baptême Na...   \n",
       "1           False  Qui était <strong>Napoléon</strong> <strong>Bo...   \n",
       "2           False  Le général Bonaparte au pont ... n’est pas qu’...   \n",
       "3           False  Mercredi 22 novembre un film sur <strong>Napol...   \n",
       "4           False  Officier d’artillerie en 1785, général en 1793...   \n",
       "\n",
       "              page_age                                            profile  \\\n",
       "0  2025-03-12T15:06:38  {'name': 'Wikipedia', 'url': 'https://fr.wikip...   \n",
       "1                  NaN  {'name': 'Le Monde', 'url': 'https://www.lemon...   \n",
       "2  2024-08-22T09:26:57  {'name': 'Napoleon', 'url': 'https://www.napol...   \n",
       "3  2023-11-29T07:47:21  {'name': '1jour1actu', 'url': 'https://www.1jo...   \n",
       "4  2021-09-07T08:56:08  {'name': 'Chateauversailles', 'url': 'https://...   \n",
       "\n",
       "  language  family_friendly           type  subtype  is_live  \\\n",
       "0       fr             True  search_result  generic    False   \n",
       "1       fr             True  search_result  generic    False   \n",
       "2       fr             True  search_result  article    False   \n",
       "3       fr             True  search_result  article    False   \n",
       "4       fr             True  search_result  generic    False   \n",
       "\n",
       "                                            meta_url                age  \\\n",
       "0  {'scheme': 'https', 'netloc': 'fr.wikipedia.or...         1 week ago   \n",
       "1  {'scheme': 'https', 'netloc': 'lemonde.fr', 'h...                NaN   \n",
       "2  {'scheme': 'https', 'netloc': 'napoleon.org', ...    August 22, 2024   \n",
       "3  {'scheme': 'https', 'netloc': '1jour1actu.com'...  November 29, 2023   \n",
       "4  {'scheme': 'https', 'netloc': 'chateauversaill...  September 7, 2021   \n",
       "\n",
       "                                           thumbnail  \n",
       "0                                                NaN  \n",
       "1                                                NaN  \n",
       "2  {'src': 'https://imgs.search.brave.com/fC86crJ...  \n",
       "3  {'src': 'https://imgs.search.brave.com/XKsZer6...  \n",
       "4  {'src': 'https://imgs.search.brave.com/G6Frkcu...  "
      ]
     },
     "execution_count": 10,
     "metadata": {},
     "output_type": "execute_result"
    }
   ],
   "source": [
    "import requests\n",
    "\n",
    "url = \"https://api.search.brave.com/res/v1/web/search\"\n",
    "headers = {\n",
    "    \"Accept\": \"application/json\",\n",
    "    \"Accept-Encoding\": \"gzip\",\n",
    "    \"X-Subscription-Token\": brave_api_key,\n",
    "}\n",
    "params = { \"q\": question, \"count\": 5}\n",
    "response = requests.get(url, headers=headers, params=params)\n",
    "results = response.json().get(\"web\", {}).get(\"results\", [])\n",
    "df = pd.DataFrame(results)\n",
    "df"
   ]
  },
  {
   "cell_type": "markdown",
   "metadata": {},
   "source": [
    "## DuckDuckGo\n",
    "\n",
    "Docs:\n",
    "- https://github.com/deedy5/duckduckgo_search\n",
    "- https://python.langchain.com/docs/integrations/providers/duckduckgo_search/\n",
    "- https://docs.llamaindex.ai/en/stable/api_reference/tools/duckduckgo/"
   ]
  },
  {
   "cell_type": "code",
   "execution_count": null,
   "metadata": {},
   "outputs": [
    {
     "data": {
      "application/vnd.microsoft.datawrangler.viewer.v0+json": {
       "columns": [
        {
         "name": "index",
         "rawType": "int64",
         "type": "integer"
        },
        {
         "name": "title",
         "rawType": "object",
         "type": "string"
        },
        {
         "name": "href",
         "rawType": "object",
         "type": "string"
        },
        {
         "name": "body",
         "rawType": "object",
         "type": "string"
        }
       ],
       "conversionMethod": "pd.DataFrame",
       "ref": "b87990ac-624d-4552-8d52-1810a9d18a9f",
       "rows": [
        [
         "0",
         "Napoléon Ier — Wikipédia",
         "https://fr.wikipedia.org/wiki/Napoléon_Ier",
         "Napoléon Bonaparte, né le 15 août 1769 à Ajaccio en Corse et mort le 5 mai 1821 à Longwood sur l'île de Sainte-Hélène, est un militaire et homme d'État français. Il est le premier empereur des Français du 18 mai 1804 au 6 avril 1814 et du 20 mars au 22 juin 1815, sous le nom de Napoléon Ier."
        ],
        [
         "1",
         "Napoléon : la biographie de l'empereur - L'Internaute",
         "https://www.linternaute.fr/actualite/biographie/1776032-napoleon-la-biographie-de-l-empereur/",
         "Biographie courte de Napoléon Bonaparte - Né le 15 août 1769 à Ajaccio en France, Napoléon, militaire et premier Empereur français, dérange et fascine en sa qualité de figure historique majeure, incontournable et comme chef militaire conquérant. Nommé à la tête de l'armée d'Italie, il remporte plusieurs batailles."
        ],
        [
         "2",
         "Biographie de Napoléon Bonaparte, du général à l ... - napoleon.org",
         "https://www.napoleon.org/enseignants/documents/biographie-de-napoleon-bonaparte-du-general-a-lempereur-des-francais-1769-1821-documents-a-telecharger-liens-web/",
         "Devenu général en 1793, Napoléon Bonaparte est envoyé commander l'armée en Italie en 1796. Il sait motiver ses soldats avec des discours et il étudie bien le terrain où doivent se dérouler les batailles."
        ],
        [
         "3",
         "Napoléon Bonaparte, général et empereur des français",
         "https://www.histoire-pour-tous.fr/histoire-de-france/3436-napoleon-ier-empereur-1769-1821.html",
         "Napoléon Bonaparte (1769-1821) a été un général français durant la Révolution, puis s'est proclamé Premier consul de 1800 à 1804, avant de devenir empereur des Français de 1804 à 1815, sous le nom de Napoléon Ier. Devenu très populaire après ses campagnes en Italie et en Égypte, il met un terme à la Révolution par ..."
        ],
        [
         "4",
         "Napoléon Bonaparte - Encyclopédie de l'Histoire du Monde",
         "https://www.worldhistory.org/trans/fr/1-21844/napoleon-bonaparte/",
         "Napoléon Bonaparte (1769-1821) était un général et homme politique français d'origine corse qui régna en tant qu'empereur des Français sous le nom de Napoléon Ier de 1804 à 1814, puis brièvement en 1815."
        ]
       ],
       "shape": {
        "columns": 3,
        "rows": 5
       }
      },
      "text/html": [
       "<div>\n",
       "<style scoped>\n",
       "    .dataframe tbody tr th:only-of-type {\n",
       "        vertical-align: middle;\n",
       "    }\n",
       "\n",
       "    .dataframe tbody tr th {\n",
       "        vertical-align: top;\n",
       "    }\n",
       "\n",
       "    .dataframe thead th {\n",
       "        text-align: right;\n",
       "    }\n",
       "</style>\n",
       "<table border=\"1\" class=\"dataframe\">\n",
       "  <thead>\n",
       "    <tr style=\"text-align: right;\">\n",
       "      <th></th>\n",
       "      <th>title</th>\n",
       "      <th>href</th>\n",
       "      <th>body</th>\n",
       "    </tr>\n",
       "  </thead>\n",
       "  <tbody>\n",
       "    <tr>\n",
       "      <th>0</th>\n",
       "      <td>Napoléon Ier — Wikipédia</td>\n",
       "      <td>https://fr.wikipedia.org/wiki/Napoléon_Ier</td>\n",
       "      <td>Napoléon Bonaparte, né le 15 août 1769 à Ajacc...</td>\n",
       "    </tr>\n",
       "    <tr>\n",
       "      <th>1</th>\n",
       "      <td>Napoléon : la biographie de l'empereur - L'Int...</td>\n",
       "      <td>https://www.linternaute.fr/actualite/biographi...</td>\n",
       "      <td>Biographie courte de Napoléon Bonaparte - Né l...</td>\n",
       "    </tr>\n",
       "    <tr>\n",
       "      <th>2</th>\n",
       "      <td>Biographie de Napoléon Bonaparte, du général à...</td>\n",
       "      <td>https://www.napoleon.org/enseignants/documents...</td>\n",
       "      <td>Devenu général en 1793, Napoléon Bonaparte est...</td>\n",
       "    </tr>\n",
       "    <tr>\n",
       "      <th>3</th>\n",
       "      <td>Napoléon Bonaparte, général et empereur des fr...</td>\n",
       "      <td>https://www.histoire-pour-tous.fr/histoire-de-...</td>\n",
       "      <td>Napoléon Bonaparte (1769-1821) a été un généra...</td>\n",
       "    </tr>\n",
       "    <tr>\n",
       "      <th>4</th>\n",
       "      <td>Napoléon Bonaparte - Encyclopédie de l'Histoir...</td>\n",
       "      <td>https://www.worldhistory.org/trans/fr/1-21844/...</td>\n",
       "      <td>Napoléon Bonaparte (1769-1821) était un généra...</td>\n",
       "    </tr>\n",
       "  </tbody>\n",
       "</table>\n",
       "</div>"
      ],
      "text/plain": [
       "                                               title  \\\n",
       "0                           Napoléon Ier — Wikipédia   \n",
       "1  Napoléon : la biographie de l'empereur - L'Int...   \n",
       "2  Biographie de Napoléon Bonaparte, du général à...   \n",
       "3  Napoléon Bonaparte, général et empereur des fr...   \n",
       "4  Napoléon Bonaparte - Encyclopédie de l'Histoir...   \n",
       "\n",
       "                                                href  \\\n",
       "0         https://fr.wikipedia.org/wiki/Napoléon_Ier   \n",
       "1  https://www.linternaute.fr/actualite/biographi...   \n",
       "2  https://www.napoleon.org/enseignants/documents...   \n",
       "3  https://www.histoire-pour-tous.fr/histoire-de-...   \n",
       "4  https://www.worldhistory.org/trans/fr/1-21844/...   \n",
       "\n",
       "                                                body  \n",
       "0  Napoléon Bonaparte, né le 15 août 1769 à Ajacc...  \n",
       "1  Biographie courte de Napoléon Bonaparte - Né l...  \n",
       "2  Devenu général en 1793, Napoléon Bonaparte est...  \n",
       "3  Napoléon Bonaparte (1769-1821) a été un généra...  \n",
       "4  Napoléon Bonaparte (1769-1821) était un généra...  "
      ]
     },
     "execution_count": 6,
     "metadata": {},
     "output_type": "execute_result"
    }
   ],
   "source": [
    "from duckduckgo_search import DDGS\n",
    "\n",
    "results = DDGS().text(question, max_results=5)\n",
    "df = pd.DataFrame(results)\n",
    "df"
   ]
  },
  {
   "cell_type": "markdown",
   "metadata": {},
   "source": [
    "## Serper\n",
    "\n",
    "Docs:\n",
    "- https://serper.dev/\n",
    "- https://python.langchain.com/docs/integrations/providers/serpapi/"
   ]
  },
  {
   "cell_type": "code",
   "execution_count": null,
   "metadata": {},
   "outputs": [
    {
     "data": {
      "application/vnd.microsoft.datawrangler.viewer.v0+json": {
       "columns": [
        {
         "name": "index",
         "rawType": "int64",
         "type": "integer"
        },
        {
         "name": "title",
         "rawType": "object",
         "type": "string"
        },
        {
         "name": "link",
         "rawType": "object",
         "type": "string"
        },
        {
         "name": "snippet",
         "rawType": "object",
         "type": "string"
        },
        {
         "name": "sitelinks",
         "rawType": "object",
         "type": "unknown"
        },
        {
         "name": "position",
         "rawType": "int64",
         "type": "integer"
        }
       ],
       "conversionMethod": "pd.DataFrame",
       "ref": "a0eaff63-962b-4d88-871b-1d5f6c8b1a48",
       "rows": [
        [
         "0",
         "Napoléon Ier - Wikipédia",
         "https://fr.wikipedia.org/wiki/Napol%C3%A9on_Ier",
         "Napoléon Bonaparte, né le 15 août 1769 à Ajaccio en Corse et mort le 5 mai 1821 à Longwood sur l'île de Sainte-Hélène, est un militaire et homme d'État franç ...",
         "[{'title': 'Napoléon II', 'link': 'https://fr.wikipedia.org/wiki/Napol%C3%A9on_II'}, {'title': 'Charles Bonaparte', 'link': 'https://fr.wikipedia.org/wiki/Charles_Bonaparte'}, {'title': 'Letizia Bonaparte', 'link': 'https://fr.wikipedia.org/wiki/Letizia_Bonaparte'}, {'title': 'Joseph Bonaparte', 'link': 'https://fr.wikipedia.org/wiki/Joseph_Bonaparte'}]",
         "1"
        ],
        [
         "1",
         "Biographie de Napoléon Bonaparte, du général à l'Empereur des ...",
         "https://www.napoleon.org/enseignants/documents/biographie-de-napoleon-bonaparte-du-general-a-lempereur-des-francais-1769-1821-documents-a-telecharger-liens-web/",
         "Napoléon Bonaparte ? Un général toujours victorieux (enfin, presque...), devenu Empereur des Français, qui porte un drôle de chapeau et glisse sa main.",
         null,
         "2"
        ],
        [
         "2",
         "Napoleon - Wikipedia",
         "https://en.wikipedia.org/wiki/Napoleon",
         "Napoleon Bonaparte later known by his regnal name Napoleon I, was a French general and statesman who rose to prominence during the French Revolution and led ...",
         "[{'title': 'Military career of Napoleon', 'link': 'https://en.wikipedia.org/wiki/Military_career_of_Napoleon'}, {'title': 'Napoleon III', 'link': 'https://en.wikipedia.org/wiki/Napoleon_III'}, {'title': 'Napoleon II', 'link': 'https://en.wikipedia.org/wiki/Napoleon_II'}, {'title': 'Napoleonic era', 'link': 'https://en.wikipedia.org/wiki/Napoleonic_era'}]",
         "3"
        ],
        [
         "3",
         "Napoléon, père de l'Empire - Le Monde",
         "https://www.lemonde.fr/memorable/blog/napoleon",
         "Il est le fils d'un des frères de l'empereur, Louis Bonaparte, alors roi de Hollande. Aux débuts de la IIe République, en 1848, il devient le premier président ...",
         null,
         "4"
        ]
       ],
       "shape": {
        "columns": 5,
        "rows": 4
       }
      },
      "text/html": [
       "<div>\n",
       "<style scoped>\n",
       "    .dataframe tbody tr th:only-of-type {\n",
       "        vertical-align: middle;\n",
       "    }\n",
       "\n",
       "    .dataframe tbody tr th {\n",
       "        vertical-align: top;\n",
       "    }\n",
       "\n",
       "    .dataframe thead th {\n",
       "        text-align: right;\n",
       "    }\n",
       "</style>\n",
       "<table border=\"1\" class=\"dataframe\">\n",
       "  <thead>\n",
       "    <tr style=\"text-align: right;\">\n",
       "      <th></th>\n",
       "      <th>title</th>\n",
       "      <th>link</th>\n",
       "      <th>snippet</th>\n",
       "      <th>sitelinks</th>\n",
       "      <th>position</th>\n",
       "    </tr>\n",
       "  </thead>\n",
       "  <tbody>\n",
       "    <tr>\n",
       "      <th>0</th>\n",
       "      <td>Napoléon Ier - Wikipédia</td>\n",
       "      <td>https://fr.wikipedia.org/wiki/Napol%C3%A9on_Ier</td>\n",
       "      <td>Napoléon Bonaparte, né le 15 août 1769 à Ajacc...</td>\n",
       "      <td>[{'title': 'Napoléon II', 'link': 'https://fr....</td>\n",
       "      <td>1</td>\n",
       "    </tr>\n",
       "    <tr>\n",
       "      <th>1</th>\n",
       "      <td>Biographie de Napoléon Bonaparte, du général à...</td>\n",
       "      <td>https://www.napoleon.org/enseignants/documents...</td>\n",
       "      <td>Napoléon Bonaparte ? Un général toujours victo...</td>\n",
       "      <td>NaN</td>\n",
       "      <td>2</td>\n",
       "    </tr>\n",
       "    <tr>\n",
       "      <th>2</th>\n",
       "      <td>Napoleon - Wikipedia</td>\n",
       "      <td>https://en.wikipedia.org/wiki/Napoleon</td>\n",
       "      <td>Napoleon Bonaparte later known by his regnal n...</td>\n",
       "      <td>[{'title': 'Military career of Napoleon', 'lin...</td>\n",
       "      <td>3</td>\n",
       "    </tr>\n",
       "    <tr>\n",
       "      <th>3</th>\n",
       "      <td>Napoléon, père de l'Empire - Le Monde</td>\n",
       "      <td>https://www.lemonde.fr/memorable/blog/napoleon</td>\n",
       "      <td>Il est le fils d'un des frères de l'empereur, ...</td>\n",
       "      <td>NaN</td>\n",
       "      <td>4</td>\n",
       "    </tr>\n",
       "  </tbody>\n",
       "</table>\n",
       "</div>"
      ],
      "text/plain": [
       "                                               title  \\\n",
       "0                           Napoléon Ier - Wikipédia   \n",
       "1  Biographie de Napoléon Bonaparte, du général à...   \n",
       "2                               Napoleon - Wikipedia   \n",
       "3              Napoléon, père de l'Empire - Le Monde   \n",
       "\n",
       "                                                link  \\\n",
       "0    https://fr.wikipedia.org/wiki/Napol%C3%A9on_Ier   \n",
       "1  https://www.napoleon.org/enseignants/documents...   \n",
       "2             https://en.wikipedia.org/wiki/Napoleon   \n",
       "3     https://www.lemonde.fr/memorable/blog/napoleon   \n",
       "\n",
       "                                             snippet  \\\n",
       "0  Napoléon Bonaparte, né le 15 août 1769 à Ajacc...   \n",
       "1  Napoléon Bonaparte ? Un général toujours victo...   \n",
       "2  Napoleon Bonaparte later known by his regnal n...   \n",
       "3  Il est le fils d'un des frères de l'empereur, ...   \n",
       "\n",
       "                                           sitelinks  position  \n",
       "0  [{'title': 'Napoléon II', 'link': 'https://fr....         1  \n",
       "1                                                NaN         2  \n",
       "2  [{'title': 'Military career of Napoleon', 'lin...         3  \n",
       "3                                                NaN         4  "
      ]
     },
     "execution_count": 23,
     "metadata": {},
     "output_type": "execute_result"
    }
   ],
   "source": [
    "import requests\n",
    "import json\n",
    "\n",
    "url = \"https://google.serper.dev/search\"\n",
    "headers = {\n",
    "  \"X-API-KEY\": serper_api_key,\n",
    "  \"Content-Type\": \"application/json\"\n",
    "}\n",
    "params = { \"q\": question, \"num\": 5 }\n",
    "response = requests.request(\"POST\", url, headers=headers, data=json.dumps(params))\n",
    "df = pd.DataFrame(response.json()[\"organic\"])\n",
    "df\n"
   ]
  },
  {
   "cell_type": "markdown",
   "metadata": {},
   "source": [
    "## Tavily\n",
    "\n",
    "Docs:\n",
    "- https://tavily.com/\n",
    "- https://docs.tavily.com/documentation/\n",
    "- https://python.langchain.com/docs/integrations/providers/tavily/\n",
    "- https://docs.llamaindex.ai/en/stable/api_reference/tools/tavily_research/"
   ]
  },
  {
   "cell_type": "code",
   "execution_count": null,
   "metadata": {},
   "outputs": [
    {
     "data": {
      "application/vnd.microsoft.datawrangler.viewer.v0+json": {
       "columns": [
        {
         "name": "index",
         "rawType": "int64",
         "type": "integer"
        },
        {
         "name": "title",
         "rawType": "object",
         "type": "string"
        },
        {
         "name": "url",
         "rawType": "object",
         "type": "string"
        },
        {
         "name": "content",
         "rawType": "object",
         "type": "string"
        },
        {
         "name": "score",
         "rawType": "float64",
         "type": "float"
        },
        {
         "name": "raw_content",
         "rawType": "object",
         "type": "unknown"
        }
       ],
       "conversionMethod": "pd.DataFrame",
       "ref": "0a497230-dec9-46b4-a653-5c4ee8e2ef22",
       "rows": [
        [
         "0",
         "Napoléon Bonaparte - Encyclopédie de l'Histoire du Monde",
         "https://www.worldhistory.org/trans/fr/1-21844/napoleon-bonaparte/",
         "Napoléon Bonaparte (1769-1821) était un général et homme politique français d'origine corse qui régna en tant qu'empereur des Français sous le nom de Napoléon Ier de 1804 à 1814, puis brièvement en 1815. Il établit le plus grand empire d'Europe continentale depuis Charlemagne et apporta des réformes libérales aux pays qu'il conquit au prix des destructives guerres napoléoniennes",
         "0.9446333",
         null
        ],
        [
         "1",
         "C'est qui, Napoléon Bonaparte - 1jour1actu.com",
         "https://www.1jour1actu.com/culture/cest-qui-napoleon-bonaparte",
         "Mercredi 22 novembre un film sur Napoléon est sorti au cinéma. Napoléon Bonaparte est un célèbre personnage de l'histoire de France. Il est mort il y a un peu plus de 200 ans. 1jour1actu te raconte en vidéo le destin extraordinaire de cet homme, qui a été empereur sous le nom de Napoléon Ier.",
         "0.9104262",
         null
        ],
        [
         "2",
         "1804-1815 > l'Empereur des Français Napoléon Ier - napoleon.org",
         "https://www.napoleon.org/enseignants/documents/biographie-de-napoleon-bonaparte-du-general-a-lempereur-des-francais-1769-1821-documents-a-telecharger-liens-web/",
         "Napoléon Bonaparte est né en Corse, à Ajaccio, le 15 août 1769. Son père Charles-Marie est avocat. Avec sa femme Letizia, ils ont déjà un fils : Joseph a un an de plus que Napoléon. EN IMAGE > voir une vidéo sur la maison des Bonaparte à Ajaccio (Tema Napoléon, France 3) // Voir sur une carte (Google Map).",
         "0.8016413",
         null
        ],
        [
         "3",
         "Napoléon : la biographie de l'empereur - L'Internaute",
         "https://www.linternaute.fr/actualite/biographie/1776032-napoleon-la-biographie-de-l-empereur/",
         "A 35 ans, le premier Consul, le général Napoléon Bonaparte, est sacré empereur des Français par le Pape Pie VII et devient Napoléon Ier. A l'issue de la cérémonie religieuse, qui se déroule en la cathédrale Notre-Dame, le nouveau souverain se couronne lui-même et couronne également son épouse Joséphine de Beauharnais.",
         "0.7900289",
         null
        ],
        [
         "4",
         "Napoléon Ier — Wikipédia",
         "https://fr.wikipedia.org/wiki/Napoléon_Ier",
         "Bonaparte est alors contraint de quitter l'assemblée. Mais il prend rapidement la situation en main avec l'aide de son frère Lucien qui préside les Cinq-Cents. Lucien évite que Napoléon soit mis en cause par les députés qui veulent voter pour mettre hors-la-loi Bonaparte.",
         "0.37511167",
         null
        ]
       ],
       "shape": {
        "columns": 5,
        "rows": 5
       }
      },
      "text/html": [
       "<div>\n",
       "<style scoped>\n",
       "    .dataframe tbody tr th:only-of-type {\n",
       "        vertical-align: middle;\n",
       "    }\n",
       "\n",
       "    .dataframe tbody tr th {\n",
       "        vertical-align: top;\n",
       "    }\n",
       "\n",
       "    .dataframe thead th {\n",
       "        text-align: right;\n",
       "    }\n",
       "</style>\n",
       "<table border=\"1\" class=\"dataframe\">\n",
       "  <thead>\n",
       "    <tr style=\"text-align: right;\">\n",
       "      <th></th>\n",
       "      <th>title</th>\n",
       "      <th>url</th>\n",
       "      <th>content</th>\n",
       "      <th>score</th>\n",
       "      <th>raw_content</th>\n",
       "    </tr>\n",
       "  </thead>\n",
       "  <tbody>\n",
       "    <tr>\n",
       "      <th>0</th>\n",
       "      <td>Napoléon Bonaparte - Encyclopédie de l'Histoir...</td>\n",
       "      <td>https://www.worldhistory.org/trans/fr/1-21844/...</td>\n",
       "      <td>Napoléon Bonaparte (1769-1821) était un généra...</td>\n",
       "      <td>0.944633</td>\n",
       "      <td>None</td>\n",
       "    </tr>\n",
       "    <tr>\n",
       "      <th>1</th>\n",
       "      <td>C'est qui, Napoléon Bonaparte - 1jour1actu.com</td>\n",
       "      <td>https://www.1jour1actu.com/culture/cest-qui-na...</td>\n",
       "      <td>Mercredi 22 novembre un film sur Napoléon est ...</td>\n",
       "      <td>0.910426</td>\n",
       "      <td>None</td>\n",
       "    </tr>\n",
       "    <tr>\n",
       "      <th>2</th>\n",
       "      <td>1804-1815 &gt; l'Empereur des Français Napoléon I...</td>\n",
       "      <td>https://www.napoleon.org/enseignants/documents...</td>\n",
       "      <td>Napoléon Bonaparte est né en Corse, à Ajaccio,...</td>\n",
       "      <td>0.801641</td>\n",
       "      <td>None</td>\n",
       "    </tr>\n",
       "    <tr>\n",
       "      <th>3</th>\n",
       "      <td>Napoléon : la biographie de l'empereur - L'Int...</td>\n",
       "      <td>https://www.linternaute.fr/actualite/biographi...</td>\n",
       "      <td>A 35 ans, le premier Consul, le général Napolé...</td>\n",
       "      <td>0.790029</td>\n",
       "      <td>None</td>\n",
       "    </tr>\n",
       "    <tr>\n",
       "      <th>4</th>\n",
       "      <td>Napoléon Ier — Wikipédia</td>\n",
       "      <td>https://fr.wikipedia.org/wiki/Napoléon_Ier</td>\n",
       "      <td>Bonaparte est alors contraint de quitter l'ass...</td>\n",
       "      <td>0.375112</td>\n",
       "      <td>None</td>\n",
       "    </tr>\n",
       "  </tbody>\n",
       "</table>\n",
       "</div>"
      ],
      "text/plain": [
       "                                               title  \\\n",
       "0  Napoléon Bonaparte - Encyclopédie de l'Histoir...   \n",
       "1     C'est qui, Napoléon Bonaparte - 1jour1actu.com   \n",
       "2  1804-1815 > l'Empereur des Français Napoléon I...   \n",
       "3  Napoléon : la biographie de l'empereur - L'Int...   \n",
       "4                           Napoléon Ier — Wikipédia   \n",
       "\n",
       "                                                 url  \\\n",
       "0  https://www.worldhistory.org/trans/fr/1-21844/...   \n",
       "1  https://www.1jour1actu.com/culture/cest-qui-na...   \n",
       "2  https://www.napoleon.org/enseignants/documents...   \n",
       "3  https://www.linternaute.fr/actualite/biographi...   \n",
       "4         https://fr.wikipedia.org/wiki/Napoléon_Ier   \n",
       "\n",
       "                                             content     score raw_content  \n",
       "0  Napoléon Bonaparte (1769-1821) était un généra...  0.944633        None  \n",
       "1  Mercredi 22 novembre un film sur Napoléon est ...  0.910426        None  \n",
       "2  Napoléon Bonaparte est né en Corse, à Ajaccio,...  0.801641        None  \n",
       "3  A 35 ans, le premier Consul, le général Napolé...  0.790029        None  \n",
       "4  Bonaparte est alors contraint de quitter l'ass...  0.375112        None  "
      ]
     },
     "execution_count": 18,
     "metadata": {},
     "output_type": "execute_result"
    }
   ],
   "source": [
    "from tavily import TavilyClient\n",
    "\n",
    "response = TavilyClient(api_key=tavily_api_key).search(question)\n",
    "df = pd.DataFrame(response['results'])\n",
    "df"
   ]
  },
  {
   "cell_type": "markdown",
   "metadata": {},
   "source": [
    "## Utilisation avec LlamaIndex"
   ]
  },
  {
   "cell_type": "code",
   "execution_count": null,
   "metadata": {},
   "outputs": [],
   "source": [
    "from tavily import AsyncTavilyClient\n",
    "\n",
    "async def search_web(query: str) -> str:\n",
    "    \"\"\"Un outil de recherche internet pour répondre aux questions.\"\"\"\n",
    "    client = AsyncTavilyClient(api_key=tavily_api_key)\n",
    "    return str(await client.search(query))"
   ]
  },
  {
   "cell_type": "code",
   "execution_count": null,
   "metadata": {},
   "outputs": [
    {
     "name": "stdout",
     "output_type": "stream",
     "text": [
      "Napoléon Bonaparte, né le 15 août 1769 à Ajaccio en Corse et mort le 5 mai 1821 sur l'île de Sainte-Hélène, était un militaire et homme d'État français. Il est surtout connu pour avoir été l'empereur des Français et pour son rôle central dans les guerres napoléoniennes.\n",
      "\n",
      "Voici quelques points clés sur sa vie et son impact :\n",
      "\n",
      "1. **Ascension au pouvoir** : Napoléon a commencé sa carrière militaire pendant la Révolution française. Il a rapidement gravi les échelons grâce à ses talents stratégiques et à ses succès sur le champ de bataille.\n",
      "\n",
      "2. **Coup d'État** : En 1799, il a réalisé un coup d'État qui lui a permis de prendre le pouvoir en tant que Premier Consul, puis il s'est couronné empereur en 1804.\n",
      "\n",
      "3. **Réformes** : Napoléon a introduit de nombreuses réformes en France, notamment le Code civil (ou Code Napoléon), qui a influencé les systèmes juridiques de nombreux pays.\n",
      "\n",
      "4. **Guerres napoléoniennes** : Il a mené plusieurs campagnes militaires à travers l'Europe, étendant l'influence française, mais a également subi des défaites majeures, notamment lors de l'invasion de la Russie en 1812.\n",
      "\n",
      "5. **Exil et retour** : Après sa première abdication en 1814, il a été exilé sur l'île d'Elbe, mais il est revenu au pouvoir pendant une période connue sous le nom des \"Cent-Jours\". Il a été finalement vaincu à la bataille de Waterloo en 1815 et exilé sur l'île de Sainte-Hélène.\n",
      "\n",
      "6. **Héritage** : Napoléon est une figure controversée, admirée pour ses réformes et ses capacités militaires, mais critiquée pour son ambition et les guerres qu'il a provoquées. Son héritage perdure dans de nombreux aspects de la société moderne, y compris le droit, l'administration et la culture.\n"
     ]
    }
   ],
   "source": [
    "from llama_index.core.agent.workflow import AgentWorkflow\n",
    "from llama_index.llms.openai import OpenAI\n",
    "\n",
    "workflow = AgentWorkflow.from_tools_or_functions(\n",
    "    [search_web],\n",
    "    llm=OpenAI(model='gpt-4o-mini', api_key=openai_api_key),\n",
    "    system_prompt='Tu es un assistant virtuel qui aide à répondre aux questions à partir de recherches sur internet.',\n",
    ")\n",
    "\n",
    "response = await workflow.run(user_msg=question)\n",
    "print(str(response))"
   ]
  }
 ],
 "metadata": {
  "kernelspec": {
   "display_name": ".venv",
   "language": "python",
   "name": "python3"
  },
  "language_info": {
   "codemirror_mode": {
    "name": "ipython",
    "version": 3
   },
   "file_extension": ".py",
   "mimetype": "text/x-python",
   "name": "python",
   "nbconvert_exporter": "python",
   "pygments_lexer": "ipython3",
   "version": "3.12.9"
  }
 },
 "nbformat": 4,
 "nbformat_minor": 2
}
