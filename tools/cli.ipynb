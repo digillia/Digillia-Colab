{
 "cells": [
  {
   "cell_type": "markdown",
   "metadata": {},
   "source": [
    "# Outils de ligne de commande\n",
    "\n",
    "[![Index](https://img.shields.io/badge/Index-blue)](../index.ipynb)\n",
    "[![Open in Colab](https://colab.research.google.com/assets/colab-badge.svg)](https://colab.research.google.com/github/digillia/Digillia-Colab/blob/main/tools/cli.ipynb)\n",
    "\n",
    "Ce block note jupyter explore différentes manières de construire une interface de ligne de commande en Python.\n",
    "\n",
    "Docs:\n",
    "- https://docs.python.org/3/library/argparse.html\n",
    "- https://github.com/google/python-fire\n",
    "- https://github.com/pallets/click/\n",
    "\n",
    "On recommandera l'usage de [setuptools](https://setuptools.pypa.io/en/latest/userguide/quickstart.html) pour rendre l'interface installable."
   ]
  },
  {
   "cell_type": "code",
   "execution_count": 96,
   "metadata": {},
   "outputs": [],
   "source": [
    "!pip3 install -qU click\n",
    "!pip3 install -qU fire"
   ]
  },
  {
   "cell_type": "markdown",
   "metadata": {},
   "source": [
    "## ArgParse"
   ]
  },
  {
   "cell_type": "code",
   "execution_count": 97,
   "metadata": {},
   "outputs": [
    {
     "name": "stdout",
     "output_type": "stream",
     "text": [
      "Writing argparse_calculator.py\n"
     ]
    }
   ],
   "source": [
    "%%writefile argparse_calculator.py\n",
    "import argparse\n",
    "import sys\n",
    "\n",
    "def add(a: float, b: float) -> str:\n",
    "    return f'{a}+{b}={a + b}'\n",
    "\n",
    "def subtract(a: float, b: float) -> str:\n",
    "    return f'{a}-{b}={a - b}'\n",
    "\n",
    "def multiply(a: float, b: float) -> str:\n",
    "    return f'{a}*{b}={a * b}'\n",
    "\n",
    "def divide(a: float, b: float) -> str:\n",
    "    return f'{a}/{b}={a / b}'\n",
    "\n",
    "def main(argv):\n",
    "    parser = argparse.ArgumentParser(prog='argparse_calculator.py')\n",
    "    parser.add_argument('operation', choices=['add', 'subtract', 'multiply', 'divide'])\n",
    "    parser.add_argument('a', type=float)\n",
    "    parser.add_argument('b', type=float)\n",
    "    args = parser.parse_args(argv)\n",
    "    if args.operation == 'add':\n",
    "        print(add(args.a, args.b))\n",
    "    elif args.operation == 'subtract':\n",
    "        print(subtract(args.a, args.b))\n",
    "    elif args.operation == 'multiply':\n",
    "        print(multiply(args.a, args.b))\n",
    "    elif args.operation == 'divide':\n",
    "        print(divide(args.a, args.b))\n",
    "\n",
    "if __name__ == '__main__':\n",
    "    main(sys.argv[1:])"
   ]
  },
  {
   "cell_type": "code",
   "execution_count": 98,
   "metadata": {},
   "outputs": [
    {
     "name": "stdout",
     "output_type": "stream",
     "text": [
      "usage: argparse_calculator.py [-h] {add,subtract,multiply,divide} a b\n",
      "\n",
      "positional arguments:\n",
      "  {add,subtract,multiply,divide}\n",
      "  a\n",
      "  b\n",
      "\n",
      "options:\n",
      "  -h, --help            show this help message and exit\n"
     ]
    }
   ],
   "source": [
    "!python argparse_calculator.py --help"
   ]
  },
  {
   "cell_type": "code",
   "execution_count": 99,
   "metadata": {},
   "outputs": [
    {
     "name": "stdout",
     "output_type": "stream",
     "text": [
      "2.0+5.0=7.0\n"
     ]
    }
   ],
   "source": [
    "!python argparse_calculator.py add 2 5"
   ]
  },
  {
   "cell_type": "markdown",
   "metadata": {},
   "source": [
    "## Fire"
   ]
  },
  {
   "cell_type": "code",
   "execution_count": 100,
   "metadata": {},
   "outputs": [
    {
     "name": "stdout",
     "output_type": "stream",
     "text": [
      "Writing fire_calculator.py\n"
     ]
    }
   ],
   "source": [
    "%%writefile fire_calculator.py\n",
    "import fire\n",
    "\n",
    "def add(a: float, b: float) -> str:\n",
    "    return f'{a}+{b}={a + b}'\n",
    "\n",
    "def subtract(a: float, b: float) -> str:\n",
    "    return f'{a}-{b}={a - b}'\n",
    "\n",
    "def multiply(a: float, b: float) -> str:\n",
    "    return f'{a}*{b}={a * b}'\n",
    "\n",
    "def divide(a: float, b: float) -> str:\n",
    "    return f'{a}/{b}={a / b}'\n",
    "\n",
    "if __name__ == '__main__':\n",
    "    fire.Fire({\n",
    "        'add': add,\n",
    "        'subtract': subtract,\n",
    "        'multiply': multiply,\n",
    "        'divide': divide\n",
    "    })"
   ]
  },
  {
   "cell_type": "code",
   "execution_count": 101,
   "metadata": {},
   "outputs": [
    {
     "name": "stdout",
     "output_type": "stream",
     "text": [
      "INFO: Showing help with the command 'fire_calculator.py -- --help'.\n",
      "\n",
      "\u001b[1mNAME\u001b[0m\n",
      "    fire_calculator.py\n",
      "\n",
      "\u001b[1mSYNOPSIS\u001b[0m\n",
      "    fire_calculator.py \u001b[4mCOMMAND\u001b[0m\n",
      "\n",
      "\u001b[1mCOMMANDS\u001b[0m\n",
      "    \u001b[1m\u001b[4mCOMMAND\u001b[0m\u001b[0m is one of the following:\n",
      "\n",
      "     add\n",
      "\n",
      "     subtract\n",
      "\n",
      "     multiply\n",
      "\n",
      "     divide\n"
     ]
    }
   ],
   "source": [
    "!python fire_calculator.py --help"
   ]
  },
  {
   "cell_type": "code",
   "execution_count": 102,
   "metadata": {},
   "outputs": [
    {
     "name": "stdout",
     "output_type": "stream",
     "text": [
      "2+5=7\n"
     ]
    }
   ],
   "source": [
    "!python fire_calculator.py add 2 5"
   ]
  },
  {
   "cell_type": "markdown",
   "metadata": {
    "vscode": {
     "languageId": "plaintext"
    }
   },
   "source": [
    "## Click"
   ]
  },
  {
   "cell_type": "code",
   "execution_count": 103,
   "metadata": {},
   "outputs": [
    {
     "name": "stdout",
     "output_type": "stream",
     "text": [
      "Writing click_calculator.py\n"
     ]
    }
   ],
   "source": [
    "%%writefile click_calculator.py\n",
    "import click\n",
    "\n",
    "@click.command()\n",
    "@click.argument('a', type=float)\n",
    "@click.argument('b', type=float)\n",
    "def add(a: float, b: float):\n",
    "    click.echo(f'{a}+{b}={a + b}')\n",
    "\n",
    "@click.command()\n",
    "@click.argument('a', type=float)\n",
    "@click.argument('b', type=float)\n",
    "def subtract(a: float, b: float):\n",
    "    click.echo(f'{a}-{b}={a - b}')\n",
    "\n",
    "@click.command()\n",
    "@click.argument('a', type=float)\n",
    "@click.argument('b', type=float)\n",
    "def multiply(a: float, b: float):\n",
    "    click.echo(f'{a}*{b}={a * b}')\n",
    "\n",
    "@click.command()\n",
    "@click.argument('a', type=float)\n",
    "@click.argument('b', type=float)\n",
    "def divide(a: float, b: float):\n",
    "    click.echo(f'{a}/{b}={a / b}')\n",
    "\n",
    "@click.group()\n",
    "def main():\n",
    "    pass\n",
    "\n",
    "main.add_command(add)\n",
    "main.add_command(subtract)\n",
    "main.add_command(multiply)\n",
    "main.add_command(divide)\n",
    "\n",
    "if __name__ == '__main__':\n",
    "    main()"
   ]
  },
  {
   "cell_type": "code",
   "execution_count": 104,
   "metadata": {},
   "outputs": [
    {
     "name": "stdout",
     "output_type": "stream",
     "text": [
      "Usage: click_calculator.py [OPTIONS] COMMAND [ARGS]...\n",
      "\n",
      "Options:\n",
      "  --help  Show this message and exit.\n",
      "\n",
      "Commands:\n",
      "  add\n",
      "  divide\n",
      "  multiply\n",
      "  subtract\n"
     ]
    }
   ],
   "source": [
    "!python click_calculator.py --help"
   ]
  },
  {
   "cell_type": "code",
   "execution_count": 105,
   "metadata": {},
   "outputs": [
    {
     "name": "stdout",
     "output_type": "stream",
     "text": [
      "2.0+5.0=7.0\n"
     ]
    }
   ],
   "source": [
    "!python click_calculator.py add 2 5"
   ]
  },
  {
   "cell_type": "markdown",
   "metadata": {},
   "source": [
    "## Ménage"
   ]
  },
  {
   "cell_type": "code",
   "execution_count": 106,
   "metadata": {},
   "outputs": [],
   "source": [
    "!rm argparse_calculator.py\n",
    "!rm fire_calculator.py\n",
    "!rm click_calculator.py"
   ]
  }
 ],
 "metadata": {
  "kernelspec": {
   "display_name": ".venv",
   "language": "python",
   "name": "python3"
  },
  "language_info": {
   "codemirror_mode": {
    "name": "ipython",
    "version": 3
   },
   "file_extension": ".py",
   "mimetype": "text/x-python",
   "name": "python",
   "nbconvert_exporter": "python",
   "pygments_lexer": "ipython3",
   "version": "3.12.7"
  }
 },
 "nbformat": 4,
 "nbformat_minor": 2
}
