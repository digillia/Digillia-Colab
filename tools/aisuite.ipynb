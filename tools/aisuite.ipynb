{
 "cells": [
  {
   "cell_type": "markdown",
   "metadata": {},
   "source": [
    "# AI Suite\n",
    "\n",
    "[![Index](https://img.shields.io/badge/Index-blue)](../index.ipynb)\n",
    "[![Open in Colab](https://colab.research.google.com/assets/colab-badge.svg)](https://colab.research.google.com/github/digillia/Digillia-Colab/blob/main/tools/aisuite.ipynb)\n",
    "\n",
    "Simple, unified api to multiple Generative AI providers.\n",
    "\n",
    "Docs:\n",
    "- https://github.com/andrewyng/aisuite"
   ]
  },
  {
   "cell_type": "code",
   "execution_count": 4,
   "metadata": {},
   "outputs": [],
   "source": [
    "import os\n",
    "import sys\n",
    "\n",
    "# Supprimer les commentaires pour installer (requirements.txt)\n",
    "# !pip3 install -qU -r requirements.txt\n",
    "\n",
    "# À installer dans tous les cas pour Google Colab et Github\n",
    "if ('google.colab' in sys.modules) or ('CI' in os.environ):\n",
    "    !pip3 install -qU docstring-parser # https://github.com/andrewyng/aisuite/issues/202\n",
    "    !pip3 install -qU \"aisuite[all]\""
   ]
  },
  {
   "cell_type": "code",
   "execution_count": null,
   "metadata": {},
   "outputs": [],
   "source": [
    "if 'google.colab' in sys.modules:\n",
    "  from google.colab import userdata\n",
    "  os.environ['ANTHROPIC_API_KEY'] = userdata.get('ANTHROPIC_API_KEY')\n",
    "  os.environ['OPENAI_API_KEY'] = userdata.get('OPENAI_API_KEY')\n",
    "else:\n",
    "  from dotenv import load_dotenv, find_dotenv\n",
    "  _ = load_dotenv(find_dotenv()) # lire le fichier .env local"
   ]
  },
  {
   "cell_type": "code",
   "execution_count": 5,
   "metadata": {},
   "outputs": [
    {
     "name": "stdout",
     "output_type": "stream",
     "text": [
      "Why did the pirate go to school?\n",
      "\n",
      "To improve his arrrrrrticulation! Har har har!\n",
      "Arrr, ye be wantin' a joke, do ye? Well, hoist yer ears and listen close, ye scurvy dog!\n",
      "\n",
      "Why don't pirates shower before they walk the plank?\n",
      "\n",
      "They just wash up on shore! Har har har!\n",
      "\n",
      "Shiver me timbers, that be a knee-slapper if I ever heard one! If ye didn't find that amusin', may Davy Jones take ye to his locker!\n"
     ]
    }
   ],
   "source": [
    "import aisuite as ai\n",
    "client = ai.Client()\n",
    "\n",
    "models = [\"openai:gpt-4o\", \"anthropic:claude-3-5-sonnet-20240620\"]\n",
    "\n",
    "messages = [\n",
    "    {\"role\": \"system\", \"content\": \"Respond in Pirate English.\"},\n",
    "    {\"role\": \"user\", \"content\": \"Tell me a joke.\"},\n",
    "]\n",
    "\n",
    "for model in models:\n",
    "    response = client.chat.completions.create(\n",
    "        model=model,\n",
    "        messages=messages,\n",
    "        temperature=0.75\n",
    "    )\n",
    "    print(response.choices[0].message.content)"
   ]
  }
 ],
 "metadata": {
  "kernelspec": {
   "display_name": ".venv",
   "language": "python",
   "name": "python3"
  },
  "language_info": {
   "codemirror_mode": {
    "name": "ipython",
    "version": 3
   },
   "file_extension": ".py",
   "mimetype": "text/x-python",
   "name": "python",
   "nbconvert_exporter": "python",
   "pygments_lexer": "ipython3",
   "version": "3.12.9"
  }
 },
 "nbformat": 4,
 "nbformat_minor": 2
}
