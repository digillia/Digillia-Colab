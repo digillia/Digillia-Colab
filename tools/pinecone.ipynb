{
 "cells": [
  {
   "cell_type": "markdown",
   "metadata": {},
   "source": [
    "# Pinecone\n",
    "\n",
    "[![Index](https://img.shields.io/badge/Index-blue)](../index.ipynb)\n",
    "[![Open in Colab](https://colab.research.google.com/assets/colab-badge.svg)](https://colab.research.google.com/github/digillia/Digillia-Colab/blob/main/tools/pinecone.ipynb)\n",
    "\n",
    "> <span style='color:red'>ATTENTION: notebook en cours d'élaboration!</span>"
   ]
  },
  {
   "cell_type": "code",
   "execution_count": 1,
   "metadata": {},
   "outputs": [],
   "source": [
    "import os\n",
    "import sys\n",
    "\n",
    "# Supprimer les commentaires pour installer (requirements.txt)\n",
    "# !pip3 install -q -u pandas\n",
    "# !pip3 install -q -u tqdm\n",
    "\n",
    "# À installer dans tous les cas pour Google Colab et Github\n",
    "if 'google.colab' in sys.modules or 'CI' in os.environ:\n",
    "  !pip3 install -q -U langchain\n",
    "  !pip3 install -q -U pinecone\n",
    "  !pip3 install -q -U openai"
   ]
  },
  {
   "cell_type": "code",
   "execution_count": 2,
   "metadata": {},
   "outputs": [
    {
     "name": "stderr",
     "output_type": "stream",
     "text": [
      "/Users/jlchereau/Library/Python/3.9/lib/python/site-packages/urllib3/__init__.py:35: NotOpenSSLWarning: urllib3 v2 only supports OpenSSL 1.1.1+, currently the 'ssl' module is compiled with 'LibreSSL 2.8.3'. See: https://github.com/urllib3/urllib3/issues/3020\n",
      "  warnings.warn(\n"
     ]
    }
   ],
   "source": [
    "from langchain.text_splitter import RecursiveCharacterTextSplitter\n",
    "from openai import OpenAI\n",
    "#from pinecone import Pinecone, ServerlessSpec\n",
    "from tqdm.auto import tqdm, trange\n",
    "#from DLAIUtils import Utils\n",
    "\n",
    "import pandas as pd\n",
    "import time\n",
    "import os"
   ]
  },
  {
   "cell_type": "markdown",
   "metadata": {},
   "source": [
    "## Clés"
   ]
  },
  {
   "cell_type": "code",
   "execution_count": null,
   "metadata": {},
   "outputs": [],
   "source": []
  },
  {
   "cell_type": "markdown",
   "metadata": {},
   "source": [
    "## Pinecone setup"
   ]
  },
  {
   "cell_type": "code",
   "execution_count": 3,
   "metadata": {},
   "outputs": [],
   "source": [
    "#openai_client = OpenAI(api_key=OPENAI_API_KEY)\n",
    "#util = Utils()\n",
    "#INDEX_NAME = utils.create_dlai_index_name('dl-ai')\n",
    "#pinecone = Pinecone(api_key=PINECONE_API_KEY)\n",
    "\n",
    "#if INDEX_NAME in [index.name for index in pinecone.list_indexes()]:\n",
    "#  pinecone.delete_index(INDEX_NAME)\n",
    "\n",
    "#pinecone.create_index(name=INDEX_NAME, dimension=1536, metric='cosine',\n",
    "#  spec=ServerlessSpec(cloud='aws', region='us-west-2'))\n",
    "\n",
    "#index = pinecone.Index(INDEX_NAME)"
   ]
  },
  {
   "cell_type": "markdown",
   "metadata": {},
   "source": [
    "## Creation d'embeddings"
   ]
  },
  {
   "cell_type": "code",
   "execution_count": 4,
   "metadata": {},
   "outputs": [],
   "source": [
    "#def get_embeddings(articles, model=\"text-embedding-ada-002\"):\n",
    "#   return openai_client.embeddings.create(input = articles, model=model)"
   ]
  },
  {
   "cell_type": "code",
   "execution_count": 5,
   "metadata": {},
   "outputs": [],
   "source": [
    "#CHUNK_SIZE=400\n",
    "#TOTAL_ROWS=10000\n",
    "#progress_bar = tqdm(total=TOTAL_ROWS)\n",
    "#chunks = pd.read_csv('./data/all-the-news-3.csv', chunksize=CHUNK_SIZE, \n",
    "#                     nrows=TOTAL_ROWS)\n",
    "#chunk_num = 0\n",
    "#for chunk in chunks:\n",
    "#    titles = chunk['title'].tolist()\n",
    "#    embeddings = get_embeddings(titles)\n",
    "#    prepped = [{'id':str(chunk_num*CHUNK_SIZE+i), 'values':embeddings.data[i].embedding,\n",
    "#                'metadata':{'title':titles[i]},} for i in range(0,len(titles))]\n",
    "#    chunk_num = chunk_num + 1\n",
    "#    if len(prepped) >= 200:\n",
    "#      index.upsert(prepped)\n",
    "#      prepped = []\n",
    "#    progress_bar.update(len(chunk))"
   ]
  },
  {
   "cell_type": "code",
   "execution_count": 6,
   "metadata": {},
   "outputs": [],
   "source": [
    "#articles_index.describe_index_stats()"
   ]
  }
 ],
 "metadata": {
  "kernelspec": {
   "display_name": "Python 3",
   "language": "python",
   "name": "python3"
  },
  "language_info": {
   "codemirror_mode": {
    "name": "ipython",
    "version": 3
   },
   "file_extension": ".py",
   "mimetype": "text/x-python",
   "name": "python",
   "nbconvert_exporter": "python",
   "pygments_lexer": "ipython3",
   "version": "3.9.6"
  }
 },
 "nbformat": 4,
 "nbformat_minor": 2
}
