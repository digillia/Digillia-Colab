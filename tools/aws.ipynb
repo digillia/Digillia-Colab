{
 "cells": [
  {
   "cell_type": "markdown",
   "metadata": {},
   "source": [
    "# Amazon Web Services"
   ]
  },
  {
   "cell_type": "code",
   "execution_count": 1,
   "metadata": {},
   "outputs": [],
   "source": [
    "import os\n",
    "import sys\n",
    "\n",
    "# Supprimer les commentaires pour installer (requirements.txt)\n",
    "\n",
    "# À installer dans tous les cas pour Google Colab et Github\n",
    "if ('google.colab' in sys.modules) or ('CI' in os.environ):\n",
    "    !pip3 install -q -U boto3"
   ]
  },
  {
   "cell_type": "markdown",
   "metadata": {},
   "source": [
    "## Comprehend"
   ]
  },
  {
   "cell_type": "code",
   "execution_count": 2,
   "metadata": {},
   "outputs": [
    {
     "name": "stdout",
     "output_type": "stream",
     "text": [
      "Text sentiment: POSITIVE\n"
     ]
    }
   ],
   "source": [
    "import boto3\n",
    "\n",
    "comprehend = boto3.client('comprehend')\n",
    "text = 'J\\'aime aller au cinéma' \n",
    "sentiment = comprehend.detect_sentiment(Text=text, LanguageCode='fr')\n",
    "print(f\"Text sentiment: {sentiment['Sentiment']}\")"
   ]
  }
 ],
 "metadata": {
  "kernelspec": {
   "display_name": ".venv",
   "language": "python",
   "name": "python3"
  },
  "language_info": {
   "codemirror_mode": {
    "name": "ipython",
    "version": 3
   },
   "file_extension": ".py",
   "mimetype": "text/x-python",
   "name": "python",
   "nbconvert_exporter": "python",
   "pygments_lexer": "ipython3",
   "version": "3.12.8"
  }
 },
 "nbformat": 4,
 "nbformat_minor": 2
}
