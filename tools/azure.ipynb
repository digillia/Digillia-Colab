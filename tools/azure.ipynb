{
 "cells": [
  {
   "cell_type": "markdown",
   "metadata": {},
   "source": [
    "# Microsoft Azure\n",
    "\n",
    "[![Index](https://img.shields.io/badge/Index-blue)](../index.ipynb)\n",
    "[![Open in Colab](https://colab.research.google.com/assets/colab-badge.svg)](https://colab.research.google.com/github/digillia/Digillia-Colab/blob/main/tools/azure.ipynb)\n",
    "\n",
    "> <span style='color:red'>ATTENTION: notebook en cours d'élaboration!</span>\n",
    "\n",
    "Le code ci-après requiert un compte avec Microsoft Azure.\n",
    "\n",
    "https://portal.azure.com"
   ]
  },
  {
   "cell_type": "markdown",
   "metadata": {},
   "source": [
    "TODO: https://learn.microsoft.com/en-us/azure/machine-learning/tutorial-azure-ml-in-a-day?view=azureml-api-2&WT.mc_id=academic-0000-alfredodeza"
   ]
  },
  {
   "cell_type": "code",
   "execution_count": null,
   "metadata": {},
   "outputs": [],
   "source": [
    "# from azureml.core import Workspace\n",
    "\n",
    "# Connect to Azure Machine Learning Studio \n",
    "# ws = Workspace.from_config() \n",
    "\n",
    "# print(ws.name)"
   ]
  },
  {
   "cell_type": "code",
   "execution_count": null,
   "metadata": {},
   "outputs": [],
   "source": [
    "# from azureml.train.automl import AutoMLConfig\n",
    "\n",
    "# Set up automated ML experiment\n",
    "# automl_config = AutoMLConfig(task='regression')\n",
    "\n",
    "# experiment = Experiment(ws, \"auto-ml-experiment\")\n",
    "# local_run = experiment.submit(automl_config)\n",
    "\n",
    "# print(local_run.get_status())"
   ]
  }
 ],
 "metadata": {
  "kernelspec": {
   "display_name": "Python 3",
   "language": "python",
   "name": "python3"
  },
  "language_info": {
   "codemirror_mode": {
    "name": "ipython",
    "version": 3
   },
   "file_extension": ".py",
   "mimetype": "text/x-python",
   "name": "python",
   "nbconvert_exporter": "python",
   "pygments_lexer": "ipython3",
   "version": "3.9.6"
  }
 },
 "nbformat": 4,
 "nbformat_minor": 2
}
