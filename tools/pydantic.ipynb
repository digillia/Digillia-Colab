{
 "cells": [
  {
   "cell_type": "markdown",
   "metadata": {},
   "source": [
    "# Pydantic\n",
    "\n",
    "[![Index](https://img.shields.io/badge/Index-blue)](../index.ipynb)\n",
    "[![Open in Colab](https://colab.research.google.com/assets/colab-badge.svg)](https://colab.research.google.com/github/digillia/Digillia-Colab/blob/main/tools/pydantic.ipynb)\n",
    "\n",
    "Pydantic n'est pas une librairie de code pour l'intelligence artificielle, mais c'est une fabrique de classes souvent utilisée en python, pour vérifier les données en entrée, notamment avec [FastAPI](./fastapi.ipynb).\n",
    "\n",
    "- https://github.com/pydantic/pydantic"
   ]
  },
  {
   "cell_type": "code",
   "execution_count": 1,
   "metadata": {},
   "outputs": [],
   "source": [
    "# Supprimer les commentaires pour installer\n",
    "# !pip3 install -q -U pydantic"
   ]
  },
  {
   "cell_type": "markdown",
   "metadata": {},
   "source": [
    "## A Python Class and SubClass"
   ]
  },
  {
   "cell_type": "code",
   "execution_count": 2,
   "metadata": {},
   "outputs": [
    {
     "name": "stdout",
     "output_type": "stream",
     "text": [
      "Fido marche\n",
      "Fido aboie\n"
     ]
    }
   ],
   "source": [
    "# Mammal\n",
    "class Mammal:\n",
    "  def __init__(self, name):\n",
    "    self.name = name\n",
    "\n",
    "  def walk(self):\n",
    "    print(f\"{self.name} marche\")\n",
    "\n",
    "# Dog inherits from Mammal\n",
    "class Dog(Mammal):\n",
    "  def bark(self):\n",
    "    print(f\"{self.name} aboie\")\n",
    "\n",
    "fido = Dog(\"Fido\")\n",
    "fido.walk() \n",
    "fido.bark()"
   ]
  },
  {
   "cell_type": "markdown",
   "metadata": {},
   "source": [
    "Problème: sans pydantic, pas de vérification de type"
   ]
  },
  {
   "cell_type": "code",
   "execution_count": 3,
   "metadata": {},
   "outputs": [
    {
     "name": "stdout",
     "output_type": "stream",
     "text": [
      "1.0 marche\n",
      "1.0 aboie\n"
     ]
    }
   ],
   "source": [
    "rex = Dog(1.0)\n",
    "rex.walk()\n",
    "rex.bark()"
   ]
  },
  {
   "cell_type": "markdown",
   "metadata": {},
   "source": [
    "## The Same Implemented with Pydantic"
   ]
  },
  {
   "cell_type": "code",
   "execution_count": 4,
   "metadata": {},
   "outputs": [
    {
     "name": "stdout",
     "output_type": "stream",
     "text": [
      "Rex marche\n",
      "Rex aboie\n"
     ]
    },
    {
     "data": {
      "text/plain": [
       "{'name': 'Rex'}"
      ]
     },
     "execution_count": 4,
     "metadata": {},
     "output_type": "execute_result"
    }
   ],
   "source": [
    "from pydantic import BaseModel\n",
    "\n",
    "class Mammal(BaseModel):\n",
    "  name: str\n",
    "\n",
    "  def walk(self):\n",
    "    print(f\"{self.name} marche\")\n",
    "\n",
    "class Dog(Mammal):\n",
    "  def bark(self):\n",
    "    print(f\"{self.name} aboie\")\n",
    "\n",
    "data = {\n",
    "  'name': 'Rex'\n",
    "}\n",
    "rex = Dog(**data)\n",
    "rex.walk()\n",
    "rex.bark()\n",
    "rex.model_dump()"
   ]
  },
  {
   "cell_type": "markdown",
   "metadata": {},
   "source": [
    "Solution: avec pydantic, le type de donnée est vérifié."
   ]
  },
  {
   "cell_type": "code",
   "execution_count": 5,
   "metadata": {},
   "outputs": [
    {
     "name": "stdout",
     "output_type": "stream",
     "text": [
      "Input should be a valid string\n"
     ]
    }
   ],
   "source": [
    "from pydantic import ValidationError\n",
    "\n",
    "try:\n",
    "    data = {\n",
    "        'name': 1.0\n",
    "    }\n",
    "    rex = Dog(**data)\n",
    "except ValidationError as e:\n",
    "    print(e.errors()[0]['msg'])"
   ]
  },
  {
   "cell_type": "markdown",
   "metadata": {},
   "source": [
    "... et plus: valeurs par défauts, contraintes, etc. "
   ]
  },
  {
   "cell_type": "code",
   "execution_count": 6,
   "metadata": {},
   "outputs": [
    {
     "name": "stdout",
     "output_type": "stream",
     "text": [
      "Tom, le chat noir, miaule\n"
     ]
    }
   ],
   "source": [
    "from pydantic import Field\n",
    "\n",
    "class Cat(Mammal):\n",
    "  color: str = Field(default=\"noir\", max_length=10)\n",
    "\n",
    "  def meow(self):\n",
    "    print(f\"{self.name}, le chat {self.color}, miaule\")\n",
    "\n",
    "try:\n",
    "    data = {\n",
    "        'name': 'Tom'\n",
    "    }\n",
    "    tom = Cat(**data)\n",
    "    tom.meow()\n",
    "except ValidationError as e:\n",
    "    print(e.errors()[0]['msg'])"
   ]
  },
  {
   "cell_type": "code",
   "execution_count": 7,
   "metadata": {},
   "outputs": [],
   "source": [
    "import random\n",
    "# test unitaire avec testbook\n",
    "def nb_completion():\n",
    "    return random.randint(1, 10)"
   ]
  }
 ],
 "metadata": {
  "kernelspec": {
   "display_name": "Python 3",
   "language": "python",
   "name": "python3"
  },
  "language_info": {
   "codemirror_mode": {
    "name": "ipython",
    "version": 3
   },
   "file_extension": ".py",
   "mimetype": "text/x-python",
   "name": "python",
   "nbconvert_exporter": "python",
   "pygments_lexer": "ipython3",
   "version": "3.9.6"
  }
 },
 "nbformat": 4,
 "nbformat_minor": 2
}
