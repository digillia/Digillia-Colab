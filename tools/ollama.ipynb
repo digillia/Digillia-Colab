{
 "cells": [
  {
   "cell_type": "markdown",
   "id": "561de6bb",
   "metadata": {},
   "source": [
    "# ollama\n",
    "\n",
    "[![Index](https://img.shields.io/badge/Index-blue)](../index.ipynb)\n",
    "[![Open in Colab](https://colab.research.google.com/assets/colab-badge.svg)](https://colab.research.google.com/github/digillia/Digillia-Colab/blob/main/tools/ollama.ipynb)\n",
    "\n",
    "Like [vLLM](./vllm.ipynb), ollama is a fast and easy-to-use library for LLM inference and serving.\n",
    "\n",
    "Docs:\n",
    "- https://github.com/ollama/ollama\n",
    "- https://ollama.com/"
   ]
  },
  {
   "cell_type": "markdown",
   "id": "5e7a47f1",
   "metadata": {},
   "source": [
    "> <p style=\"color:red;\">ollama should be installed and running.<p>\n",
    "\n",
    "Download and install from https://ollama.com/download."
   ]
  },
  {
   "cell_type": "code",
   "execution_count": 2,
   "id": "8019eb70",
   "metadata": {},
   "outputs": [
    {
     "name": "stdout",
     "output_type": "stream",
     "text": [
      "ollama version is 0.9.6\n"
     ]
    }
   ],
   "source": [
    "!ollama --version"
   ]
  },
  {
   "cell_type": "code",
   "execution_count": 3,
   "id": "1d3cd3f3",
   "metadata": {},
   "outputs": [
    {
     "name": "stdout",
     "output_type": "stream",
     "text": [
      "Collecting ollama\n",
      "  Using cached ollama-0.5.1-py3-none-any.whl.metadata (4.3 kB)\n",
      "Requirement already satisfied: httpx>=0.27 in /Users/jlchereau/Projects/Digillia/Digillia-Colab/.venv/lib/python3.12/site-packages (from ollama) (0.28.1)\n",
      "Requirement already satisfied: pydantic>=2.9 in /Users/jlchereau/Projects/Digillia/Digillia-Colab/.venv/lib/python3.12/site-packages (from ollama) (2.10.3)\n",
      "Requirement already satisfied: anyio in /Users/jlchereau/Projects/Digillia/Digillia-Colab/.venv/lib/python3.12/site-packages (from httpx>=0.27->ollama) (4.9.0)\n",
      "Requirement already satisfied: certifi in /Users/jlchereau/Projects/Digillia/Digillia-Colab/.venv/lib/python3.12/site-packages (from httpx>=0.27->ollama) (2024.8.30)\n",
      "Requirement already satisfied: httpcore==1.* in /Users/jlchereau/Projects/Digillia/Digillia-Colab/.venv/lib/python3.12/site-packages (from httpx>=0.27->ollama) (1.0.7)\n",
      "Requirement already satisfied: idna in /Users/jlchereau/Projects/Digillia/Digillia-Colab/.venv/lib/python3.12/site-packages (from httpx>=0.27->ollama) (3.10)\n",
      "Requirement already satisfied: h11<0.15,>=0.13 in /Users/jlchereau/Projects/Digillia/Digillia-Colab/.venv/lib/python3.12/site-packages (from httpcore==1.*->httpx>=0.27->ollama) (0.14.0)\n",
      "Requirement already satisfied: annotated-types>=0.6.0 in /Users/jlchereau/Projects/Digillia/Digillia-Colab/.venv/lib/python3.12/site-packages (from pydantic>=2.9->ollama) (0.7.0)\n",
      "Requirement already satisfied: pydantic-core==2.27.1 in /Users/jlchereau/Projects/Digillia/Digillia-Colab/.venv/lib/python3.12/site-packages (from pydantic>=2.9->ollama) (2.27.1)\n",
      "Requirement already satisfied: typing-extensions>=4.12.2 in /Users/jlchereau/Projects/Digillia/Digillia-Colab/.venv/lib/python3.12/site-packages (from pydantic>=2.9->ollama) (4.12.2)\n",
      "Requirement already satisfied: sniffio>=1.1 in /Users/jlchereau/Projects/Digillia/Digillia-Colab/.venv/lib/python3.12/site-packages (from anyio->httpx>=0.27->ollama) (1.3.1)\n",
      "Using cached ollama-0.5.1-py3-none-any.whl (13 kB)\n",
      "Installing collected packages: ollama\n",
      "Successfully installed ollama-0.5.1\n"
     ]
    }
   ],
   "source": [
    "!pip3 install -U ollama"
   ]
  },
  {
   "cell_type": "code",
   "execution_count": 10,
   "id": "359e435a",
   "metadata": {},
   "outputs": [],
   "source": [
    "import ollama"
   ]
  },
  {
   "cell_type": "code",
   "execution_count": 6,
   "id": "84e00389",
   "metadata": {},
   "outputs": [
    {
     "data": {
      "text/plain": [
       "ListResponse(models=[])"
      ]
     },
     "execution_count": 6,
     "metadata": {},
     "output_type": "execute_result"
    }
   ],
   "source": [
    "ollama.list()"
   ]
  },
  {
   "cell_type": "code",
   "execution_count": 7,
   "id": "2b2a6581",
   "metadata": {},
   "outputs": [
    {
     "data": {
      "text/plain": [
       "ProgressResponse(status='success', completed=None, total=None, digest=None)"
      ]
     },
     "execution_count": 7,
     "metadata": {},
     "output_type": "execute_result"
    }
   ],
   "source": [
    "# Pull the Gemma3n model\n",
    "# https://ollama.com/search\n",
    "ollama.pull('gemma3n:latest')"
   ]
  },
  {
   "cell_type": "code",
   "execution_count": 11,
   "id": "b84170bc",
   "metadata": {},
   "outputs": [
    {
     "data": {
      "text/plain": [
       "ListResponse(models=[Model(model='gemma3n:latest', modified_at=datetime.datetime(2025, 7, 27, 11, 40, 47, 619716, tzinfo=TzInfo(+02:00)), digest='15cb39fd9394fd2549f6df9081cfc84dd134ecf2c9c5be911e5629920489ac32', size=7547589116, details=ModelDetails(parent_model='', format='gguf', family='gemma3n', families=['gemma3n'], parameter_size='6.9B', quantization_level='Q4_K_M'))])"
      ]
     },
     "execution_count": 11,
     "metadata": {},
     "output_type": "execute_result"
    }
   ],
   "source": [
    "ollama.list()"
   ]
  },
  {
   "cell_type": "code",
   "execution_count": 12,
   "id": "a19bb166",
   "metadata": {},
   "outputs": [
    {
     "name": "stdout",
     "output_type": "stream",
     "text": [
      "La France a gagné la Coupe du Monde de football pour la première fois en **1998**. \n",
      "\n",
      "Ils ont battu l'équipe du Brésil en finale, sur le score de 3-0, lors du tournoi qui s'est déroulé en France.\n",
      "\n"
     ]
    }
   ],
   "source": [
    "import nest_asyncio\n",
    "nest_asyncio.apply()\n",
    "\n",
    "class Client:\n",
    "    def __init__(self, model=\"gemma3n:latest\"):\n",
    "        self.client = ollama.AsyncClient()\n",
    "        self.model = model\n",
    "        self.messages = []\n",
    "\n",
    "    async def chat(self, content: str):\n",
    "        self.messages.append({\"role\": \"user\", \"content\": content})\n",
    "        response = await self.client.chat(self.model, messages=self.messages)\n",
    "        msg = response.message.model_dump() # pydantic\n",
    "        self.messages.append(msg)\n",
    "        return msg[\"content\"]\n",
    "\n",
    "client = Client()\n",
    "response = await client.chat(\"Quand la France a-t-elle gagné la Coupe du Monde de football pour la première fois ?\")\n",
    "print(response)"
   ]
  },
  {
   "cell_type": "code",
   "execution_count": 13,
   "id": "b72b2b65",
   "metadata": {},
   "outputs": [
    {
     "name": "stdout",
     "output_type": "stream",
     "text": [
      "[{'role': 'user',\n",
      "  'content': 'Quand la France a-t-elle gagné la Coupe du Monde de football '\n",
      "             'pour la première fois ?'},\n",
      " {'role': 'assistant',\n",
      "  'content': 'La France a gagné la Coupe du Monde de football pour la première '\n",
      "             'fois en **1998**. \\n'\n",
      "             '\\n'\n",
      "             \"Ils ont battu l'équipe du Brésil en finale, sur le score de 3-0, \"\n",
      "             \"lors du tournoi qui s'est déroulé en France.\\n\",\n",
      "  'thinking': None,\n",
      "  'images': None,\n",
      "  'tool_calls': None}]\n"
     ]
    }
   ],
   "source": [
    "import pprint\n",
    "pprint.pp(client.messages)"
   ]
  },
  {
   "cell_type": "code",
   "execution_count": 14,
   "id": "b6cffbbb",
   "metadata": {},
   "outputs": [
    {
     "data": {
      "text/plain": [
       "ListResponse(models=[])"
      ]
     },
     "execution_count": 14,
     "metadata": {},
     "output_type": "execute_result"
    }
   ],
   "source": [
    "ollama.delete('gemma3n:latest')\n",
    "ollama.list()"
   ]
  }
 ],
 "metadata": {
  "kernelspec": {
   "display_name": ".venv",
   "language": "python",
   "name": "python3"
  },
  "language_info": {
   "codemirror_mode": {
    "name": "ipython",
    "version": 3
   },
   "file_extension": ".py",
   "mimetype": "text/x-python",
   "name": "python",
   "nbconvert_exporter": "python",
   "pygments_lexer": "ipython3",
   "version": "3.12.10"
  }
 },
 "nbformat": 4,
 "nbformat_minor": 5
}
