{
 "cells": [
  {
   "cell_type": "markdown",
   "metadata": {},
   "source": [
    "# Sementic Kernel (Microsoft)\n",
    "\n",
    "[![Index](https://img.shields.io/badge/Index-blue)](../index.ipynb)\n",
    "[![Open in Colab](https://colab.research.google.com/assets/colab-badge.svg)](https://colab.research.google.com/github/digillia/Digillia-Colab/blob/main/tools/sementic-kernel.ipynb)\n",
    "\n",
    "> <span style='color:red'>ATTENTION: notebook en cours d'élaboration!</span>\n",
    "\n",
    "Ce bloc-note Jupyter démontre une application de Génération Augmentée de Récupération (RAG) simple développée avec [Semantic Kernel](https://github.com/microsoft/semantic-kernel). Elle comporte les étapes essentielles de (i) lecture et chargement des documents, (ii) indexation des documents, (iii) récupération des documents en rapport avec la question, et (iv) soumission de la question et des documents pertinents au modèle de langage large (LLM) pour réponse.\n",
    "\n",
    "Dans cet example, les documents récupérés sont trois pages wikipedia, respectivement sur Napoléon 1er, Joséphine de Beauharnais, et Marie-Louis d'Autriche, mais on pourrait imaginer des fiches produits, des historiques de relations clients, des procédures internes, des réglements et lois, ou tout autre corpus de données structurées ou non. \n",
    "\n",
    "Docs:\n",
    "- https://github.com/microsoft/semantic-kernel\n",
    "- https://learn.microsoft.com/en-us/semantic-kernel/"
   ]
  },
  {
   "cell_type": "code",
   "execution_count": 2,
   "metadata": {},
   "outputs": [],
   "source": [
    "import os\n",
    "import sys\n",
    "\n",
    "# Supprimer les commentaires pour installer (requirements.txt)\n",
    "# !pip3 install -q -U python-dotenv\n",
    "\n",
    "# À installer dans tous les cas pour Google Colab et Github\n",
    "if 'google.colab' in sys.modules or 'CI' in os.environ:\n",
    "    !pip3 install -q -U gradio\n",
    "    !pip3 install -q -U openai\n",
    "    !pip3 install -q -U semantic-kernel\n",
    "    !pip3 install -q -U wikipedia"
   ]
  },
  {
   "cell_type": "markdown",
   "metadata": {},
   "source": [
    "## Chargement de la Clé pour OpenAI\n",
    "\n",
    "Il vous faut obtenir d'Open AI une clé pour exécuter ce bloc-note Jupyter. Vous pouvez consulter [Where do I find my API key?](https://help.openai.com/en/articles/4936850-where-do-i-find-my-api-key). Ensuite, le chargement se fait soit à partir de l'environnement (fichier `.env`), soit à partir des secrets de Google Colab."
   ]
  },
  {
   "cell_type": "code",
   "execution_count": null,
   "metadata": {},
   "outputs": [],
   "source": [
    "import os\n",
    "import openai\n",
    "\n",
    "openai_api_key = None\n",
    "if 'google.colab' in sys.modules:\n",
    "  from google.colab import userdata\n",
    "  openai_api_key = userdata.get('OPENAI_API_KEY')\n",
    "else:\n",
    "  from dotenv import load_dotenv, find_dotenv\n",
    "  _ = load_dotenv(find_dotenv()) # lire le fichier .env local\n",
    "  openai_api_key  = os.environ['OPENAI_API_KEY']\n",
    "\n",
    "openai.api_key = openai_api_key"
   ]
  },
  {
   "cell_type": "markdown",
   "metadata": {},
   "source": [
    "## Lecture et chargement des documents"
   ]
  },
  {
   "cell_type": "code",
   "execution_count": null,
   "metadata": {},
   "outputs": [],
   "source": []
  },
  {
   "cell_type": "markdown",
   "metadata": {},
   "source": [
    "## Indexation des documents"
   ]
  }
 ],
 "metadata": {
  "kernelspec": {
   "display_name": "Python 3",
   "language": "python",
   "name": "python3"
  },
  "language_info": {
   "codemirror_mode": {
    "name": "ipython",
    "version": 3
   },
   "file_extension": ".py",
   "mimetype": "text/x-python",
   "name": "python",
   "nbconvert_exporter": "python",
   "pygments_lexer": "ipython3",
   "version": "3.9.6"
  }
 },
 "nbformat": 4,
 "nbformat_minor": 2
}
