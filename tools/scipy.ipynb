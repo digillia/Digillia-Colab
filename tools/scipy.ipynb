{
 "cells": [
  {
   "cell_type": "markdown",
   "metadata": {},
   "source": [
    "# SciPy\n",
    "\n",
    "[![Index](https://img.shields.io/badge/Index-blue)](../index.ipynb)\n",
    "[![Open in Colab](https://colab.research.google.com/assets/colab-badge.svg)](https://colab.research.google.com/github/digillia/Digillia-Colab/blob/main/tools/scipy.ipynb)\n",
    "\n",
    "SciPy est une bibliothèque open-source en Python, dédiée au calcul scientifique et technique. Elle fournit des outils performants pour résoudre des problèmes mathématiques complexes, comme l’optimisation, l’intégration, les équations différentielles, l’interpolation et l’algèbre linéaire. SciPy s’appuie sur [NumPy](https://numpy.org/), qui gère les structures de données numériques, et l’étend avec des fonctionnalités supplémentaires pour des applications plus avancées en ingénierie, physique, mathématiques appliquées, et autres domaines scientifiques.\n",
    "\n",
    "Docs:\n",
    "- https://github.com/scipy/scipy\n",
    "- https://scipy.org/"
   ]
  },
  {
   "cell_type": "code",
   "execution_count": 93,
   "metadata": {},
   "outputs": [],
   "source": [
    "import os\n",
    "import sys\n",
    "\n",
    "# Supprimer les commentaires pour installer (requirements.txt)\n",
    "# !pip3 install -q -U numpy\n",
    "# !pip3 install -q -U pandas\n",
    "# !pip3 install -q -U matplotlib\n",
    "# !pip3 install -q -U scipy\n",
    "\n",
    "# À installer dans tous les cas pour Google Colab et Github\n",
    "if 'google.colab' in sys.modules or 'CI' in os.environ:\n",
    "    !pip3 install -q -U yfinance"
   ]
  },
  {
   "cell_type": "code",
   "execution_count": 94,
   "metadata": {},
   "outputs": [],
   "source": [
    "import yfinance as yf\n",
    "import pandas as pd\n",
    "import numpy as np\n",
    "import matplotlib.pyplot as plt\n",
    "from scipy.optimize import minimize"
   ]
  },
  {
   "cell_type": "markdown",
   "metadata": {},
   "source": [
    "## Obtention des données"
   ]
  },
  {
   "cell_type": "code",
   "execution_count": 95,
   "metadata": {},
   "outputs": [
    {
     "name": "stderr",
     "output_type": "stream",
     "text": [
      "[*********************100%***********************]  5 of 5 completed\n"
     ]
    },
    {
     "data": {
      "text/html": [
       "<div>\n",
       "<style scoped>\n",
       "    .dataframe tbody tr th:only-of-type {\n",
       "        vertical-align: middle;\n",
       "    }\n",
       "\n",
       "    .dataframe tbody tr th {\n",
       "        vertical-align: top;\n",
       "    }\n",
       "\n",
       "    .dataframe thead tr th {\n",
       "        text-align: left;\n",
       "    }\n",
       "\n",
       "    .dataframe thead tr:last-of-type th {\n",
       "        text-align: right;\n",
       "    }\n",
       "</style>\n",
       "<table border=\"1\" class=\"dataframe\">\n",
       "  <thead>\n",
       "    <tr>\n",
       "      <th>Price</th>\n",
       "      <th colspan=\"5\" halign=\"left\">Capital Gains</th>\n",
       "      <th colspan=\"5\" halign=\"left\">Close</th>\n",
       "      <th>...</th>\n",
       "      <th colspan=\"5\" halign=\"left\">Stock Splits</th>\n",
       "      <th colspan=\"5\" halign=\"left\">Volume</th>\n",
       "    </tr>\n",
       "    <tr>\n",
       "      <th>Ticker</th>\n",
       "      <th>AGG</th>\n",
       "      <th>BND</th>\n",
       "      <th>GLD</th>\n",
       "      <th>QQQ</th>\n",
       "      <th>SPY</th>\n",
       "      <th>AGG</th>\n",
       "      <th>BND</th>\n",
       "      <th>GLD</th>\n",
       "      <th>QQQ</th>\n",
       "      <th>SPY</th>\n",
       "      <th>...</th>\n",
       "      <th>AGG</th>\n",
       "      <th>BND</th>\n",
       "      <th>GLD</th>\n",
       "      <th>QQQ</th>\n",
       "      <th>SPY</th>\n",
       "      <th>AGG</th>\n",
       "      <th>BND</th>\n",
       "      <th>GLD</th>\n",
       "      <th>QQQ</th>\n",
       "      <th>SPY</th>\n",
       "    </tr>\n",
       "    <tr>\n",
       "      <th>Date</th>\n",
       "      <th></th>\n",
       "      <th></th>\n",
       "      <th></th>\n",
       "      <th></th>\n",
       "      <th></th>\n",
       "      <th></th>\n",
       "      <th></th>\n",
       "      <th></th>\n",
       "      <th></th>\n",
       "      <th></th>\n",
       "      <th></th>\n",
       "      <th></th>\n",
       "      <th></th>\n",
       "      <th></th>\n",
       "      <th></th>\n",
       "      <th></th>\n",
       "      <th></th>\n",
       "      <th></th>\n",
       "      <th></th>\n",
       "      <th></th>\n",
       "      <th></th>\n",
       "    </tr>\n",
       "  </thead>\n",
       "  <tbody>\n",
       "    <tr>\n",
       "      <th>2014-10-22</th>\n",
       "      <td>0.0</td>\n",
       "      <td>0.0</td>\n",
       "      <td>0.0</td>\n",
       "      <td>0.0</td>\n",
       "      <td>0.0</td>\n",
       "      <td>85.454910</td>\n",
       "      <td>62.964161</td>\n",
       "      <td>119.339996</td>\n",
       "      <td>88.997177</td>\n",
       "      <td>161.542572</td>\n",
       "      <td>...</td>\n",
       "      <td>0.0</td>\n",
       "      <td>0.0</td>\n",
       "      <td>0.0</td>\n",
       "      <td>0.0</td>\n",
       "      <td>0.0</td>\n",
       "      <td>3179200</td>\n",
       "      <td>2292400</td>\n",
       "      <td>3740200</td>\n",
       "      <td>39178000</td>\n",
       "      <td>151822000</td>\n",
       "    </tr>\n",
       "    <tr>\n",
       "      <th>2014-10-23</th>\n",
       "      <td>0.0</td>\n",
       "      <td>0.0</td>\n",
       "      <td>0.0</td>\n",
       "      <td>0.0</td>\n",
       "      <td>0.0</td>\n",
       "      <td>85.253822</td>\n",
       "      <td>62.774136</td>\n",
       "      <td>118.519997</td>\n",
       "      <td>90.336258</td>\n",
       "      <td>163.420532</td>\n",
       "      <td>...</td>\n",
       "      <td>0.0</td>\n",
       "      <td>0.0</td>\n",
       "      <td>0.0</td>\n",
       "      <td>0.0</td>\n",
       "      <td>0.0</td>\n",
       "      <td>1863100</td>\n",
       "      <td>6617200</td>\n",
       "      <td>6417500</td>\n",
       "      <td>48123800</td>\n",
       "      <td>154944000</td>\n",
       "    </tr>\n",
       "    <tr>\n",
       "      <th>2014-10-24</th>\n",
       "      <td>0.0</td>\n",
       "      <td>0.0</td>\n",
       "      <td>0.0</td>\n",
       "      <td>0.0</td>\n",
       "      <td>0.0</td>\n",
       "      <td>85.284721</td>\n",
       "      <td>62.827370</td>\n",
       "      <td>118.349998</td>\n",
       "      <td>91.075058</td>\n",
       "      <td>164.678055</td>\n",
       "      <td>...</td>\n",
       "      <td>0.0</td>\n",
       "      <td>0.0</td>\n",
       "      <td>0.0</td>\n",
       "      <td>0.0</td>\n",
       "      <td>0.0</td>\n",
       "      <td>1188900</td>\n",
       "      <td>2202100</td>\n",
       "      <td>3610600</td>\n",
       "      <td>43157600</td>\n",
       "      <td>117927000</td>\n",
       "    </tr>\n",
       "    <tr>\n",
       "      <th>2014-10-27</th>\n",
       "      <td>0.0</td>\n",
       "      <td>0.0</td>\n",
       "      <td>0.0</td>\n",
       "      <td>0.0</td>\n",
       "      <td>0.0</td>\n",
       "      <td>85.315643</td>\n",
       "      <td>62.804569</td>\n",
       "      <td>118.059998</td>\n",
       "      <td>91.139694</td>\n",
       "      <td>164.451721</td>\n",
       "      <td>...</td>\n",
       "      <td>0.0</td>\n",
       "      <td>0.0</td>\n",
       "      <td>0.0</td>\n",
       "      <td>0.0</td>\n",
       "      <td>0.0</td>\n",
       "      <td>1073100</td>\n",
       "      <td>2454200</td>\n",
       "      <td>2443600</td>\n",
       "      <td>29545700</td>\n",
       "      <td>82954000</td>\n",
       "    </tr>\n",
       "    <tr>\n",
       "      <th>2014-10-28</th>\n",
       "      <td>0.0</td>\n",
       "      <td>0.0</td>\n",
       "      <td>0.0</td>\n",
       "      <td>0.0</td>\n",
       "      <td>0.0</td>\n",
       "      <td>85.184196</td>\n",
       "      <td>62.766586</td>\n",
       "      <td>118.099998</td>\n",
       "      <td>92.515671</td>\n",
       "      <td>166.337982</td>\n",
       "      <td>...</td>\n",
       "      <td>0.0</td>\n",
       "      <td>0.0</td>\n",
       "      <td>0.0</td>\n",
       "      <td>0.0</td>\n",
       "      <td>0.0</td>\n",
       "      <td>1128600</td>\n",
       "      <td>2201200</td>\n",
       "      <td>3260100</td>\n",
       "      <td>34495100</td>\n",
       "      <td>106736000</td>\n",
       "    </tr>\n",
       "  </tbody>\n",
       "</table>\n",
       "<p>5 rows × 40 columns</p>\n",
       "</div>"
      ],
      "text/plain": [
       "Price      Capital Gains                          Close             \\\n",
       "Ticker               AGG  BND  GLD  QQQ  SPY        AGG        BND   \n",
       "Date                                                                 \n",
       "2014-10-22           0.0  0.0  0.0  0.0  0.0  85.454910  62.964161   \n",
       "2014-10-23           0.0  0.0  0.0  0.0  0.0  85.253822  62.774136   \n",
       "2014-10-24           0.0  0.0  0.0  0.0  0.0  85.284721  62.827370   \n",
       "2014-10-27           0.0  0.0  0.0  0.0  0.0  85.315643  62.804569   \n",
       "2014-10-28           0.0  0.0  0.0  0.0  0.0  85.184196  62.766586   \n",
       "\n",
       "Price                                          ... Stock Splits            \\\n",
       "Ticker             GLD        QQQ         SPY  ...          AGG  BND  GLD   \n",
       "Date                                           ...                          \n",
       "2014-10-22  119.339996  88.997177  161.542572  ...          0.0  0.0  0.0   \n",
       "2014-10-23  118.519997  90.336258  163.420532  ...          0.0  0.0  0.0   \n",
       "2014-10-24  118.349998  91.075058  164.678055  ...          0.0  0.0  0.0   \n",
       "2014-10-27  118.059998  91.139694  164.451721  ...          0.0  0.0  0.0   \n",
       "2014-10-28  118.099998  92.515671  166.337982  ...          0.0  0.0  0.0   \n",
       "\n",
       "Price                  Volume                                         \n",
       "Ticker      QQQ  SPY      AGG      BND      GLD       QQQ        SPY  \n",
       "Date                                                                  \n",
       "2014-10-22  0.0  0.0  3179200  2292400  3740200  39178000  151822000  \n",
       "2014-10-23  0.0  0.0  1863100  6617200  6417500  48123800  154944000  \n",
       "2014-10-24  0.0  0.0  1188900  2202100  3610600  43157600  117927000  \n",
       "2014-10-27  0.0  0.0  1073100  2454200  2443600  29545700   82954000  \n",
       "2014-10-28  0.0  0.0  1128600  2201200  3260100  34495100  106736000  \n",
       "\n",
       "[5 rows x 40 columns]"
      ]
     },
     "execution_count": 95,
     "metadata": {},
     "output_type": "execute_result"
    }
   ],
   "source": [
    "tickers = ['SPY', 'QQQ', 'AGG', 'BND', 'GLD']\n",
    "\n",
    "# Une première façon d'obtenir les cours de bourse\n",
    "# df = yf.download(tickers, period='10y', interval='1d')['Adj Close']\n",
    "\n",
    "# Une deuxième façon d'obtenir les cours de bourse\n",
    "# Quand auto_adjust == True, Close est identique à Adj Close (inclus les dividendes, etc.)\n",
    "# Voir https://help.yahoo.com/kb/adjusted-close-sln28256.html et https://github.com/ranaroussi/yfinance/issues/1333\n",
    "t = yf.Tickers(tickers)\n",
    "df = t.history(period='10y', interval='1d', auto_adjust=True)\n",
    "\n",
    "# Conversion de l'index\n",
    "df.index = df.index.tz_localize(None).to_period('D')\n",
    "\n",
    "df.head()"
   ]
  },
  {
   "cell_type": "markdown",
   "metadata": {},
   "source": [
    "## Calcul des rendements"
   ]
  },
  {
   "cell_type": "code",
   "execution_count": 96,
   "metadata": {},
   "outputs": [
    {
     "data": {
      "text/html": [
       "<div>\n",
       "<style scoped>\n",
       "    .dataframe tbody tr th:only-of-type {\n",
       "        vertical-align: middle;\n",
       "    }\n",
       "\n",
       "    .dataframe tbody tr th {\n",
       "        vertical-align: top;\n",
       "    }\n",
       "\n",
       "    .dataframe thead th {\n",
       "        text-align: right;\n",
       "    }\n",
       "</style>\n",
       "<table border=\"1\" class=\"dataframe\">\n",
       "  <thead>\n",
       "    <tr style=\"text-align: right;\">\n",
       "      <th>Ticker</th>\n",
       "      <th>AGG</th>\n",
       "      <th>BND</th>\n",
       "      <th>GLD</th>\n",
       "      <th>QQQ</th>\n",
       "      <th>SPY</th>\n",
       "    </tr>\n",
       "    <tr>\n",
       "      <th>Date</th>\n",
       "      <th></th>\n",
       "      <th></th>\n",
       "      <th></th>\n",
       "      <th></th>\n",
       "      <th></th>\n",
       "    </tr>\n",
       "  </thead>\n",
       "  <tbody>\n",
       "    <tr>\n",
       "      <th>2014-10-23</th>\n",
       "      <td>-0.002353</td>\n",
       "      <td>-0.003018</td>\n",
       "      <td>-0.006871</td>\n",
       "      <td>0.015046</td>\n",
       "      <td>0.011625</td>\n",
       "    </tr>\n",
       "    <tr>\n",
       "      <th>2014-10-24</th>\n",
       "      <td>0.000362</td>\n",
       "      <td>0.000848</td>\n",
       "      <td>-0.001434</td>\n",
       "      <td>0.008178</td>\n",
       "      <td>0.007695</td>\n",
       "    </tr>\n",
       "    <tr>\n",
       "      <th>2014-10-27</th>\n",
       "      <td>0.000363</td>\n",
       "      <td>-0.000363</td>\n",
       "      <td>-0.002450</td>\n",
       "      <td>0.000710</td>\n",
       "      <td>-0.001374</td>\n",
       "    </tr>\n",
       "    <tr>\n",
       "      <th>2014-10-28</th>\n",
       "      <td>-0.001541</td>\n",
       "      <td>-0.000605</td>\n",
       "      <td>0.000339</td>\n",
       "      <td>0.015097</td>\n",
       "      <td>0.011470</td>\n",
       "    </tr>\n",
       "    <tr>\n",
       "      <th>2014-10-29</th>\n",
       "      <td>-0.002179</td>\n",
       "      <td>-0.001695</td>\n",
       "      <td>-0.014310</td>\n",
       "      <td>-0.003693</td>\n",
       "      <td>-0.001512</td>\n",
       "    </tr>\n",
       "  </tbody>\n",
       "</table>\n",
       "</div>"
      ],
      "text/plain": [
       "Ticker           AGG       BND       GLD       QQQ       SPY\n",
       "Date                                                        \n",
       "2014-10-23 -0.002353 -0.003018 -0.006871  0.015046  0.011625\n",
       "2014-10-24  0.000362  0.000848 -0.001434  0.008178  0.007695\n",
       "2014-10-27  0.000363 -0.000363 -0.002450  0.000710 -0.001374\n",
       "2014-10-28 -0.001541 -0.000605  0.000339  0.015097  0.011470\n",
       "2014-10-29 -0.002179 -0.001695 -0.014310 -0.003693 -0.001512"
      ]
     },
     "execution_count": 96,
     "metadata": {},
     "output_type": "execute_result"
    }
   ],
   "source": [
    "returns = df['Close'].pct_change().dropna()\n",
    "returns.head()"
   ]
  },
  {
   "cell_type": "markdown",
   "metadata": {},
   "source": [
    "## Graphe de comparaison des rendements sur une base 100"
   ]
  },
  {
   "cell_type": "code",
   "execution_count": 97,
   "metadata": {},
   "outputs": [
    {
     "data": {
      "image/png": "[encoded data removed]",
      "text/plain": [
       "<Figure size 640x480 with 1 Axes>"
      ]
     },
     "metadata": {},
     "output_type": "display_data"
    }
   ],
   "source": [
    "def plot(r):\n",
    "    data = 100 * (r+1).cumprod()\n",
    "    plot = data.plot()\n",
    "    plot.set_title(data.columns.to_list())\n",
    "    plot.set_ylabel('Return')\n",
    "\n",
    "plot(returns)"
   ]
  },
  {
   "cell_type": "markdown",
   "metadata": {},
   "source": [
    "## Annualisation des rendements"
   ]
  },
  {
   "cell_type": "code",
   "execution_count": 98,
   "metadata": {},
   "outputs": [
    {
     "data": {
      "text/plain": [
       "Ticker\n",
       "AGG    0.014677\n",
       "BND    0.015402\n",
       "GLD    0.077435\n",
       "QQQ    0.187703\n",
       "SPY    0.137355\n",
       "dtype: float64"
      ]
     },
     "execution_count": 98,
     "metadata": {},
     "output_type": "execute_result"
    }
   ],
   "source": [
    "def annualize_returns(r):\n",
    "    if returns.index.freqstr == 'D':\n",
    "        periods_per_year = 252\n",
    "    elif returns.index.freqstr == 'M':\n",
    "        periods_per_year = 12\n",
    "    elif returns.index.freqstr == 'Q':\n",
    "        periods_per_year = 4\n",
    "    elif returns.index.freqstr == 'A':\n",
    "        periods_per_year = 1\n",
    "    else:\n",
    "        raise ValueError(\"Unsupported frequency: {}\".format(returns.index.freqstr))\n",
    "    compounded_growth = (1+r).prod()\n",
    "    n_periods = r.shape[0]\n",
    "    return compounded_growth**(periods_per_year/n_periods)-1\n",
    "\n",
    "ar = annualize_returns(returns)\n",
    "ar"
   ]
  },
  {
   "cell_type": "markdown",
   "metadata": {},
   "source": [
    "## Matrice de covariance"
   ]
  },
  {
   "cell_type": "code",
   "execution_count": 99,
   "metadata": {},
   "outputs": [
    {
     "data": {
      "text/html": [
       "<div>\n",
       "<style scoped>\n",
       "    .dataframe tbody tr th:only-of-type {\n",
       "        vertical-align: middle;\n",
       "    }\n",
       "\n",
       "    .dataframe tbody tr th {\n",
       "        vertical-align: top;\n",
       "    }\n",
       "\n",
       "    .dataframe thead th {\n",
       "        text-align: right;\n",
       "    }\n",
       "</style>\n",
       "<table border=\"1\" class=\"dataframe\">\n",
       "  <thead>\n",
       "    <tr style=\"text-align: right;\">\n",
       "      <th>Ticker</th>\n",
       "      <th>AGG</th>\n",
       "      <th>BND</th>\n",
       "      <th>GLD</th>\n",
       "      <th>QQQ</th>\n",
       "      <th>SPY</th>\n",
       "    </tr>\n",
       "    <tr>\n",
       "      <th>Ticker</th>\n",
       "      <th></th>\n",
       "      <th></th>\n",
       "      <th></th>\n",
       "      <th></th>\n",
       "      <th></th>\n",
       "    </tr>\n",
       "  </thead>\n",
       "  <tbody>\n",
       "    <tr>\n",
       "      <th>AGG</th>\n",
       "      <td>0.000011</td>\n",
       "      <td>0.000011</td>\n",
       "      <td>0.000011</td>\n",
       "      <td>0.000005</td>\n",
       "      <td>0.000003</td>\n",
       "    </tr>\n",
       "    <tr>\n",
       "      <th>BND</th>\n",
       "      <td>0.000011</td>\n",
       "      <td>0.000012</td>\n",
       "      <td>0.000011</td>\n",
       "      <td>0.000005</td>\n",
       "      <td>0.000004</td>\n",
       "    </tr>\n",
       "    <tr>\n",
       "      <th>GLD</th>\n",
       "      <td>0.000011</td>\n",
       "      <td>0.000011</td>\n",
       "      <td>0.000080</td>\n",
       "      <td>0.000006</td>\n",
       "      <td>0.000004</td>\n",
       "    </tr>\n",
       "    <tr>\n",
       "      <th>QQQ</th>\n",
       "      <td>0.000005</td>\n",
       "      <td>0.000005</td>\n",
       "      <td>0.000006</td>\n",
       "      <td>0.000188</td>\n",
       "      <td>0.000141</td>\n",
       "    </tr>\n",
       "    <tr>\n",
       "      <th>SPY</th>\n",
       "      <td>0.000003</td>\n",
       "      <td>0.000004</td>\n",
       "      <td>0.000004</td>\n",
       "      <td>0.000141</td>\n",
       "      <td>0.000123</td>\n",
       "    </tr>\n",
       "  </tbody>\n",
       "</table>\n",
       "</div>"
      ],
      "text/plain": [
       "Ticker       AGG       BND       GLD       QQQ       SPY\n",
       "Ticker                                                  \n",
       "AGG     0.000011  0.000011  0.000011  0.000005  0.000003\n",
       "BND     0.000011  0.000012  0.000011  0.000005  0.000004\n",
       "GLD     0.000011  0.000011  0.000080  0.000006  0.000004\n",
       "QQQ     0.000005  0.000005  0.000006  0.000188  0.000141\n",
       "SPY     0.000003  0.000004  0.000004  0.000141  0.000123"
      ]
     },
     "execution_count": 99,
     "metadata": {},
     "output_type": "execute_result"
    }
   ],
   "source": [
    "cov_matrix = returns.cov()\n",
    "cov_matrix"
   ]
  },
  {
   "cell_type": "markdown",
   "metadata": {},
   "source": [
    "## Fonctions de calcul du rendement et de la volatilité d'un portefeuille"
   ]
  },
  {
   "cell_type": "code",
   "execution_count": 100,
   "metadata": {},
   "outputs": [
    {
     "name": "stdout",
     "output_type": "stream",
     "text": [
      "Return: 0.08651433954167494\n",
      "Volatility: 0.005712572115586589\n"
     ]
    }
   ],
   "source": [
    "# Portefeuille défini par un ensemble de poids w et un ensemble de rendements annualisés r\n",
    "def portfolio_return(w, r):\n",
    "    return w.T @ r\n",
    "\n",
    "# Portefeuille défini par un ensemble de poids w et une matrice de covariance cov\n",
    "def portfolio_volatility(w, cov):\n",
    "    return (w.T @ cov @ w)**0.5\n",
    "\n",
    "# Cas du portefeuille avec poids égaux\n",
    "n = len(returns.columns)\n",
    "eq_weights = np.repeat(1/n, n)\n",
    "print('Return:', portfolio_return(eq_weights, ar))\n",
    "print('Volatility:', portfolio_volatility(eq_weights, cov_matrix))"
   ]
  },
  {
   "cell_type": "markdown",
   "metadata": {},
   "source": [
    "## Fonction de minimisation de la votalilité ave SciPy"
   ]
  },
  {
   "cell_type": "code",
   "execution_count": 101,
   "metadata": {},
   "outputs": [
    {
     "data": {
      "text/plain": [
       "array([2.15520999e-17, 6.94619022e-17, 8.30287298e-18, 1.00000000e+00,\n",
       "       5.99956958e-13])"
      ]
     },
     "execution_count": 101,
     "metadata": {},
     "output_type": "execute_result"
    }
   ],
   "source": [
    "# Obtention des poids du portefeuille pour minimiser la volatilité considérant le rendement visé (risque pris)\n",
    "def minimize_volatility(target_return, r, cov):\n",
    "    n = r.shape[0]\n",
    "    init_guess = np.repeat(1/n, n)\n",
    "    # Contrainte: poids entre 0 et 1 (pas de poids négatifs)\n",
    "    bounds = ((0.0, 1.0),) * n # an N-tuple of 2-tuples!\n",
    "    # Contrainte: somme des poids == 1 (tout est investi)\n",
    "    weights_sum_to_1 = {'type': 'eq',\n",
    "                        'fun': lambda w: np.sum(w) - 1\n",
    "    }\n",
    "    # Contrainte: rendement visé == rendement portefeuille\n",
    "    portfolio_return = lambda w, r: np.sum(r * w)\n",
    "    return_is_target = {'type': 'eq',\n",
    "                        'args': (r,),\n",
    "                        'fun': lambda w, r: target_return - portfolio_return(w, r)\n",
    "    }\n",
    "    # Optimisation avec SciPy\n",
    "    weights = minimize(portfolio_volatility, init_guess,\n",
    "                       args=(cov,), method='SLSQP',\n",
    "                       options={'disp': False},\n",
    "                       constraints=(weights_sum_to_1, return_is_target),\n",
    "                       bounds=bounds)\n",
    "    return weights.x\n",
    "\n",
    "minimize_volatility(0.2, ar, cov_matrix)"
   ]
  },
  {
   "cell_type": "code",
   "execution_count": 102,
   "metadata": {},
   "outputs": [
    {
     "data": {
      "text/plain": [
       "array([0.00000000e+00, 4.94592235e-16, 3.90148838e-01, 6.09851162e-01,\n",
       "       2.25572952e-16])"
      ]
     },
     "execution_count": 102,
     "metadata": {},
     "output_type": "execute_result"
    }
   ],
   "source": [
    "# Obtention des poids du portefeuille MSR (Max Sharpe Ratio)\n",
    "def msr(riskfree_rate, r, cov):\n",
    "    n = r.shape[0]\n",
    "    init_guess = np.repeat(1/n, n)\n",
    "    # Contrainte: poids entre 0 et 1 (pas de poids négatifs)\n",
    "    bounds = ((0.0, 1.0),) * n # an N-tuple of 2-tuples!\n",
    "    # Contrainte: somme des poids == 1 (tout est investi)\n",
    "    weights_sum_to_1 = {'type': 'eq',\n",
    "                        'fun': lambda w: np.sum(w) - 1\n",
    "    }\n",
    "    # Fonction de ratio Sharpe à minimiser (négatif pour maximiser)\n",
    "    def neg_sharpe(w, riskfree_rate, r, cov):\n",
    "        pr = portfolio_return(w, r)\n",
    "        vol = portfolio_volatility(w, cov)\n",
    "        return -(pr - riskfree_rate)/vol\n",
    "    # Optimisation avec SciPy\n",
    "    weights = minimize(neg_sharpe, init_guess,\n",
    "                       args=(riskfree_rate, r, cov), method='SLSQP',\n",
    "                       options={'disp': False},\n",
    "                       constraints=(weights_sum_to_1,),\n",
    "                       bounds=bounds)\n",
    "    return weights.x\n",
    "\n",
    "msr(0.03, ar, cov_matrix)"
   ]
  },
  {
   "cell_type": "code",
   "execution_count": 103,
   "metadata": {},
   "outputs": [
    {
     "data": {
      "text/plain": [
       "array([7.63257317e-01, 1.76902457e-01, 0.00000000e+00, 2.26797439e-11,\n",
       "       5.98402260e-02])"
      ]
     },
     "execution_count": 103,
     "metadata": {},
     "output_type": "execute_result"
    }
   ],
   "source": [
    "# Obention des poids du portefeuille GMV (Global Minimum Volatility)\n",
    "def gmv(cov):\n",
    "    n = cov.shape[0]\n",
    "    return msr(0, np.repeat(1, n), cov)\n",
    "\n",
    "gmv(cov_matrix)"
   ]
  },
  {
   "cell_type": "code",
   "execution_count": 104,
   "metadata": {},
   "outputs": [
    {
     "data": {
      "text/plain": [
       "[array([9.99999770e-01, 2.30259425e-07, 0.00000000e+00, 0.00000000e+00,\n",
       "        1.14630527e-14]),\n",
       " array([0.48178595, 0.47384282, 0.        , 0.00356588, 0.04080535]),\n",
       " array([0.45344915, 0.44710102, 0.02222262, 0.01469749, 0.06252973]),\n",
       " array([0.42212613, 0.41662791, 0.05156516, 0.0179885 , 0.0916923 ]),\n",
       " array([0.39221173, 0.38732647, 0.07565132, 0.02129403, 0.12351646]),\n",
       " array([0.36375805, 0.35942697, 0.10439612, 0.03709876, 0.13532011]),\n",
       " array([0.33756534, 0.33368287, 0.13097452, 0.06105503, 0.13672224]),\n",
       " array([0.31193311, 0.30842446, 0.15582571, 0.08549783, 0.1383189 ]),\n",
       " array([0.27461684, 0.27384576, 0.2106585 , 0.0945773 , 0.14630159]),\n",
       " array([0.25608141, 0.25549739, 0.20831587, 0.12068595, 0.15941939]),\n",
       " array([0.23754598, 0.23714901, 0.20597323, 0.1467946 , 0.17253718]),\n",
       " array([0.20534668, 0.20349769, 0.27017893, 0.18174295, 0.13923374]),\n",
       " array([0.17938348, 0.17806815, 0.29513341, 0.20508772, 0.14232724]),\n",
       " array([0.15302392, 0.15216777, 0.32219685, 0.22883616, 0.1437753 ]),\n",
       " array([0.1266054 , 0.12619817, 0.34955932, 0.25262914, 0.14500797]),\n",
       " array([0.10001451, 0.10005022, 0.37764549, 0.27643145, 0.14585832]),\n",
       " array([0.07569442, 0.07618328, 0.39674876, 0.30060115, 0.15077239]),\n",
       " array([0.04970573, 0.05062859, 0.42248835, 0.32451505, 0.15266229]),\n",
       " array([0.02372196, 0.02507599, 0.44822085, 0.34843756, 0.15454365]),\n",
       " array([0.        , 0.00051847, 0.46738684, 0.37246662, 0.15962806]),\n",
       " array([2.17709511e-03, 2.29844166e-03, 4.79967204e-01, 5.15557259e-01,\n",
       "        6.93889390e-18]),\n",
       " array([0.        , 0.        , 0.43286653, 0.56713347, 0.        ]),\n",
       " array([0.00000000e+00, 1.11514783e-17, 3.78758212e-01, 6.21241788e-01,\n",
       "        2.77555756e-17]),\n",
       " array([1.24126708e-17, 0.00000000e+00, 3.24649894e-01, 6.75350106e-01,\n",
       "        0.00000000e+00]),\n",
       " array([0.00000000e+00, 3.56872666e-18, 2.70541579e-01, 7.29458421e-01,\n",
       "        9.71445147e-17]),\n",
       " array([0.00000000e+00, 3.59383024e-18, 2.16433263e-01, 7.83566737e-01,\n",
       "        2.08166817e-17]),\n",
       " array([6.20633538e-18, 0.00000000e+00, 1.62324948e-01, 8.37675052e-01,\n",
       "        2.08166817e-16]),\n",
       " array([0.        , 0.        , 0.10821663, 0.89178337, 0.        ]),\n",
       " array([0.00000000e+00, 0.00000000e+00, 5.41083157e-02, 9.45891684e-01,\n",
       "        6.93889390e-18]),\n",
       " array([0.00000000e+00, 0.00000000e+00, 2.21074553e-16, 1.00000000e+00,\n",
       "        0.00000000e+00])]"
      ]
     },
     "execution_count": 104,
     "metadata": {},
     "output_type": "execute_result"
    }
   ],
   "source": [
    "# Obtention d'une liste de points sur la frontière efficiente de Markowitz\n",
    "def optimal_weights(n_points, r, cov):\n",
    "    target_rs = np.linspace(r.min(), r.max(), n_points)\n",
    "    weights = [minimize_volatility(target_return, r, cov) for target_return in target_rs]\n",
    "    return weights\n",
    "\n",
    "optimal_weights(30, ar, cov_matrix)"
   ]
  },
  {
   "cell_type": "code",
   "execution_count": 105,
   "metadata": {},
   "outputs": [
    {
     "data": {
      "text/plain": [
       "<Axes: xlabel='Volatility'>"
      ]
     },
     "execution_count": 105,
     "metadata": {},
     "output_type": "execute_result"
    },
    {
     "data": {
      "image/png": "[encoded data removed]",
      "text/plain": [
       "<Figure size 640x480 with 1 Axes>"
      ]
     },
     "metadata": {},
     "output_type": "display_data"
    }
   ],
   "source": [
    "# Graphe de la frontière efficiente de Markowitz\n",
    "def plot_ef(n_points, r, cov, style='.-', legend=True, show_cml=True, riskfree_rate=0, show_ew=True, show_gmv=True):\n",
    "    # Obtention de points sur la frontière\n",
    "    weights = optimal_weights(n_points, r, cov)\n",
    "    ef = pd.DataFrame({\n",
    "        \"Volatility\": [portfolio_volatility(w, cov) for w in weights],\n",
    "        \"Returns\": [portfolio_return(w, r) for w in weights], \n",
    "    })\n",
    "    # Graphe de la frontière\n",
    "    ax = ef.plot.line(x=\"Volatility\", y=\"Returns\", style=style, legend=legend)\n",
    "    ax.set_xlim(left = 0)\n",
    "    \n",
    "    if show_cml:\n",
    "        # Affichage du portefeuille MSR\n",
    "        w_msr = msr(riskfree_rate, r, cov)\n",
    "        r_msr = portfolio_return(w_msr, r)\n",
    "        vol_msr = portfolio_volatility(w_msr, cov)\n",
    "        # Affichage de la CML (Capital Market Line)\n",
    "        cml_x = [0, vol_msr]\n",
    "        cml_y = [riskfree_rate, r_msr]\n",
    "        ax.plot(cml_x, cml_y, color='green', marker='o', linestyle='dashed', linewidth=2, markersize=10)\n",
    "    if show_ew:\n",
    "        # Affichage du portefeuille à poids égaux\n",
    "        n = r.shape[0]\n",
    "        w_ew = np.repeat(1/n, n)\n",
    "        r_ew = portfolio_return(w_ew, r)\n",
    "        vol_ew = portfolio_volatility(w_ew, cov)\n",
    "        ax.plot([vol_ew], [r_ew], color='goldenrod', marker='o', markersize=10)\n",
    "    if show_gmv:\n",
    "        # Affichage du portefeuille GMV\n",
    "        w_gmv = gmv(cov)\n",
    "        r_gmv = portfolio_return(w_gmv, r)\n",
    "        vol_gmv = portfolio_volatility(w_gmv, cov)\n",
    "        ax.plot([vol_gmv], [r_gmv], color='darkred', marker='o', markersize=10)\n",
    "        \n",
    "        return ax\n",
    "    \n",
    "plot_ef(50, ar, cov_matrix, riskfree_rate=0.03)"
   ]
  },
  {
   "cell_type": "code",
   "execution_count": 106,
   "metadata": {},
   "outputs": [
    {
     "name": "stdout",
     "output_type": "stream",
     "text": [
      "         EW           GMV           MSR\n",
      "Ticker                                 \n",
      "AGG     0.2  7.632573e-01  0.000000e+00\n",
      "BND     0.2  1.769025e-01  4.945922e-16\n",
      "GLD     0.2  0.000000e+00  3.901488e-01\n",
      "QQQ     0.2  2.267974e-11  6.098512e-01\n",
      "SPY     0.2  5.984023e-02  2.255730e-16\n"
     ]
    },
    {
     "data": {
      "image/png": "[encoded data removed]",
      "text/plain": [
       "<Figure size 1500x600 with 1 Axes>"
      ]
     },
     "metadata": {},
     "output_type": "display_data"
    }
   ],
   "source": [
    "def plot_w(r, cov, riskfree_rate=0):\n",
    "    n = r.shape[0]\n",
    "    wts = pd.DataFrame(\n",
    "        data={\n",
    "            \"EW\": np.repeat(1/n, n),\n",
    "            \"GMV\": gmv(cov),\n",
    "            \"MSR\": msr(riskfree_rate, r, cov)\n",
    "        },\n",
    "        index=r.index\n",
    "    )\n",
    "    print(wts)\n",
    "    wts.T.plot.bar(stacked=True, figsize=(15,6), legend=True);\n",
    "\n",
    "plot_w(ar, cov_matrix, 0.03)\n"
   ]
  }
 ],
 "metadata": {
  "kernelspec": {
   "display_name": "Python 3",
   "language": "python",
   "name": "python3"
  },
  "language_info": {
   "codemirror_mode": {
    "name": "ipython",
    "version": 3
   },
   "file_extension": ".py",
   "mimetype": "text/x-python",
   "name": "python",
   "nbconvert_exporter": "python",
   "pygments_lexer": "ipython3",
   "version": "3.9.6"
  }
 },
 "nbformat": 4,
 "nbformat_minor": 2
}
