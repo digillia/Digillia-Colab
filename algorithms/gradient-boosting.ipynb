{
 "cells": [
  {
   "cell_type": "markdown",
   "metadata": {},
   "source": [
    "# Gradient Boosting\n",
    "\n",
    "[![Open in Colab](https://colab.research.google.com/assets/colab-badge.svg)](https://colab.research.google.com/github/digillia/Digillia-Colab/blob/main/algorithms/gradient-boosting.ipynb)"
   ]
  },
  {
   "cell_type": "code",
   "execution_count": null,
   "metadata": {},
   "outputs": [],
   "source": [
    "# Supprimer les commentaires pour installer\n",
    "# !pip3 install -q -U numpy\n",
    "# !pip3 install -q -U pandas\n",
    "# !pip3 install -q -U matplotlib\n",
    "# !pip3 install -q -U scipy\n",
    "# !pip3 install -q -U statsmodels\n",
    "# !pip3 install -q -U scikit-learn\n",
    "# !pip3 install -q -U \"jax[cpu]\"\n",
    "# !pip3 install -q -U torch\n",
    "# !pip3 install -q -U tensorflow"
   ]
  }
 ],
 "metadata": {
  "language_info": {
   "name": "python"
  }
 },
 "nbformat": 4,
 "nbformat_minor": 2
}
