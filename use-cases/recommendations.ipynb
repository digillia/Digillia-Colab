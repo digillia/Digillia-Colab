{
 "cells": [
  {
   "cell_type": "markdown",
   "metadata": {},
   "source": [
    "Check\n",
    "- https://github.com/NicolasHug/Surprise\n",
    "- https://nicolas-hug.com/blog/matrix_facto_1\n",
    "- [TensorFlow](https://www.tensorflow.org/recommenders),\n",
    "- [PyTorch](https://github.com/pytorch/torchrec)"
   ]
  },
  {
   "cell_type": "code",
   "execution_count": null,
   "metadata": {},
   "outputs": [],
   "source": []
  }
 ],
 "metadata": {
  "language_info": {
   "name": "python"
  }
 },
 "nbformat": 4,
 "nbformat_minor": 2
}
