{
 "cells": [
  {
   "cell_type": "markdown",
   "metadata": {},
   "source": [
    "# Clustering\n",
    "\n",
    "[![Index](https://img.shields.io/badge/Index-blue)](../index.ipynb)\n",
    "[![Open in Colab](https://colab.research.google.com/assets/colab-badge.svg)](https://colab.research.google.com/github/digillia/Digillia-Colab/blob/main/use-cases/clustering.ipynb)\n",
    "\n",
    "> <span style='color:red'>ATTENTION: notebook en cours d'élaboration!</span>\n",
    "\n",
    "Nous démontrons ici l'usage des algorithmes de regroupement..."
   ]
  },
  {
   "cell_type": "code",
   "execution_count": null,
   "metadata": {},
   "outputs": [],
   "source": [
    "from IPython import get_ipython\n",
    "\n",
    "# Supprimer les commentaires pour installer\n",
    "# !pip3 install -q -U matplotlib\n",
    "# !pip3 install -q -U numpy\n",
    "# !pip3 install -q -U pandas\n",
    "# !pip3 install -q -U scikit-learn\n",
    "\n",
    "# À installer dans tous les cas pour Google Colab\n",
    "if 'google.colab' in str(get_ipython()):\n",
    "    !pip3 install -q -U scikit-optimize"
   ]
  }
 ],
 "metadata": {
  "language_info": {
   "name": "python"
  }
 },
 "nbformat": 4,
 "nbformat_minor": 2
}
