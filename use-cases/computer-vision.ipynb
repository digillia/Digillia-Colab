{
 "cells": [
  {
   "cell_type": "markdown",
   "metadata": {},
   "source": [
    "# Vision par Ordinateur\n",
    "\n",
    "[![Index](https://img.shields.io/badge/Index-blue)](../index.ipynb)\n",
    "[![Open in Colab](https://colab.research.google.com/assets/colab-badge.svg)](https://colab.research.google.com/github/digillia/Digillia-Colab/blob/main/use-cases/computer-vision.ipynb)\n",
    "\n",
    "> <span style='color:red'>ATTENTION: notebook en cours d'élaboration!</span>\n",
    "\n",
    "La vision par ordinateur et la reconnaissance d'images, propulsées par l'intelligence artificielle, permettent aux machines de comprendre visuellement leur environnement. Les principaux algorithmes incluent les réseaux de neurones convolutifs (CNN), récurrents (RNN), et les machines à vecteurs de support (SVM). Ces technologies, en constante évolution depuis les années 1960, offrent des avantages tels que l'automatisation des tâches, une analyse précise des images, et une prise de décision améliorée. Cependant, elles nécessitent d'importantes ressources de données et informatiques et posent des défis en termes d'interprétabilité et d'éthique. Les cas d'utilisation comprennent la vente au détail, les soins de santé, l'automobile, la fabrication, la sécurité et l'agriculture. Les outils de programmation tels qu'OpenCV, TensorFlow et PyTorch facilitent le développement de ces solutions. Les recherches futures se concentrent sur la robustesse, l'interprétabilité, l'apprentissage continu et l'intégration multimodale."
   ]
  },
  {
   "cell_type": "code",
   "execution_count": null,
   "metadata": {},
   "outputs": [],
   "source": [
    "import os\n",
    "import sys\n",
    "\n",
    "# Supprimer les commentaires pour installer (requirements.txt)\n",
    "# !pip3 install -q -U matplotlib\n",
    "\n",
    "# À installer dans tous les cas pour Google Colab et Github\n",
    "if 'google.colab' in sys.modules or 'CI' in os.environ:\n",
    "    !pip3 install -q -U opencv-python"
   ]
  }
 ],
 "metadata": {
  "language_info": {
   "name": "python"
  }
 },
 "nbformat": 4,
 "nbformat_minor": 2
}
