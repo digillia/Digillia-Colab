{
 "cells": [
  {
   "cell_type": "markdown",
   "metadata": {},
   "source": [
    "# Decision Trees"
   ]
  },
  {
   "cell_type": "code",
   "execution_count": null,
   "metadata": {},
   "outputs": [],
   "source": [
    "#%pip install -U numpy\n",
    "#%pip install -U pandas\n",
    "#%pip install -U matplotlib\n",
    "#%pip install -U scipy\n",
    "#%pip install -U statsmodels\n",
    "#%pip install -U scikit-learn\n",
    "#%pip install -U \"jax[cpu]\"\n",
    "#%pip install -U torch\n",
    "#%pip install -U tensorflow"
   ]
  },
  {
   "cell_type": "code",
   "execution_count": null,
   "metadata": {},
   "outputs": [],
   "source": []
  }
 ],
 "metadata": {
  "language_info": {
   "name": "python"
  }
 },
 "nbformat": 4,
 "nbformat_minor": 2
}
