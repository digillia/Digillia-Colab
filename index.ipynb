{
 "cells": [
  {
   "cell_type": "markdown",
   "metadata": {},
   "source": [
    "# Digillia-Colab\n",
    "\n",
    "Ce portefeuille de bloc-notes Jupyter est divisé en 3 sections:\n",
    "- Algorithmes,\n",
    "- Outils,\n",
    "- Cas d'utilisation."
   ]
  },
  {
   "cell_type": "markdown",
   "metadata": {},
   "source": [
    "## Algorithmes\n",
    "\n",
    "- [ADAboost](./algorithms/adaboost.ipynb)\n",
    "- [Réseaux de Neurones Artificiels (ANNs)](./algorithms/artificial-neural-networks.ipynb) :x:\n",
    "- [Réseaux de Neurones Convolutionnels (CNNs)](./algorithms/convolutional-neural-networks.ipynb)\n",
    "- [DBScan](./algorithms/dbscan.ipynb)\n",
    "- [Arbres Décisionnels](./algorithms/decision-trees.ipynb)\n",
    "- [Réduction de dimensionnalité](./algorithms/dimensionnality-reduction.ipynb) :x:\n",
    "- [Boosting de Gradients](./algorithms/gradient-boosting.ipynb)\n",
    "- [K-means](./algorithms/k-means.ipynb)\n",
    "- [K-Nearest Neighbours](./algorithms/k-nearest-neighbours.ipynb)\n",
    "- [Kolmogorov Arnold Networks](./kolmogorov-arnold-networks.ipynb) :x:\n",
    "- [Modèles de Langage Larges (LLMs)](./algorithms/large-language-models.ipynb) :x:\n",
    "- [Régression Linéaire](./algorithms/linear-regression.ipynb)\n",
    "- [Régression Logistique](./algorithms/logistic-regression.ipynb)\n",
    "- [Long Short Term Memory (LSTM)](./algorithms/long-short-term-memory.ipynb) :x:\n",
    "- [Naive Bayes](./algorithms/naive-bayes.ipynb)\n",
    "- [Traitement du Langage Naturel (NLP)](./algorithms/nlp-basics.ipynb) :x:\n",
    "- [Perceptron](./algorithms/perceptron.ipynb)\n",
    "- [Forêt Aléatoire](./algorithms/random-forest.ipynb)\n",
    "- [Réseaux de Neurones Récurrents (RNNs)](./algorithms/recurring-neural-networks.ipynb) :x:\n",
    "- [Machine de Support de Vecteurs](./algorithms/support-vector-machines.ipynb) "
   ]
  },
  {
   "cell_type": "markdown",
   "metadata": {},
   "source": [
    "## Outils\n",
    "\n",
    "> _Note: Jax, Scikit-Learn, TensorFlow et Torch ne sont pas inclus car ils sont démontrés dans les sections algorithmes et cas d'utilisation._\n",
    "\n",
    "- [Miscellaneous](./tools/_misc_.ipynb)\n",
    "- [AWS](./tools/aws.ipynb)\n",
    "- [Azure](./tools/azure.ipynb) :x:\n",
    "- [Chroma](./tools/chroma.ipynb)\n",
    "- [Core ML](./tools/coreml.ipynb)\n",
    "- [Cvxpy](./tools/cvxpy.ipynb)\n",
    "- [FastAPI](./tools/fastapi.ipynb)\n",
    "- [Gemini](./tools/gemini.ipynb) :x:\n",
    "- [Google](./tools/google.ipynb) :x:\n",
    "- [Gradio](./tools/gradio.ipynb)\n",
    "- [Groq](./tools/groq.ipynb) :x:\n",
    "- [Haystack](./tools/haystack.ipynb) :x:\n",
    "- [HuggingFace](./tools/huggingface.ipynb) :x:\n",
    "- [LangChain](./tools/langchain.ipynb)\n",
    "- [LangGraph](./tools/langgraph.ipynb) :x:\n",
    "- [LlamaIndex](./tools/llamaindex.ipynb)\n",
    "- [Mistral](./tools/mistral.ipynb)\n",
    "- [MLflow](./tools/mlflow.ipynb) :x:\n",
    "- [OpenAI](./tools/openai.ipynb)\n",
    "- [OpenCV](./opencv.ipynb)\n",
    "- [Pillow](./tools/pillow.ipynb)\n",
    "- [Pinecone](./tools/pinecone.ipynb) :x:\n",
    "- [Promptflow](./tools/promptflow.ipynb)\n",
    "- [Pydantic](./tools/pydantic.ipynb)\n",
    "- [Pyomo](./tools/pyomo.ipynb)\n",
    "- [Rag Evaluation](./tools/rageval.ipynb) :x:\n",
    "- [SciPy](./tools/scipy.ipynb) :x:\n",
    "- [Sementic Kernel](./tools/sementic-kernel.ipynb) :x:\n",
    "- [Shap](./tools/shap.ipynb)\n",
    "- [SpaCy](./tools/spacy.ipynb)\n",
    "- [Yolo](./tools/yolo.ipynb)"
   ]
  },
  {
   "cell_type": "markdown",
   "metadata": {},
   "source": [
    "## Cas d'utilisation\n",
    "\n",
    "- [Classification](./use-cases/classification.ipynb)\n",
    "- [Regroupement (Clustering)](./use-cases/clustering.ipynb) :x:\n",
    "- [Vision ar Ordinateur](/use-cases/computer-vision.ipynb) :x:\n",
    "- [Détection de Visages](/use-cases/face-detection.ipynb)\n",
    "- [Applications RAG](./use-cases/rag-applications.ipynb) :x:\n",
    "- [Recommendations](./use-cases/recommendations.ipynb) :x:\n",
    "- [Régression](./use-cases/regression.ipynb)\n",
    "- [Recherche Sémantique](./use-cases/semantic-search.ipynb) :x:\n",
    "- [Analyse de Sentiments](./use-cases/sentiment-analysis.ipynb) :x:\n",
    "- [Résumé de Texte](./use-cases/text-summarization.ipynb)\n",
    "- [Séries Temporelles](./use-cases/time-series.ipynb) :x:"
   ]
  },
  {
   "cell_type": "markdown",
   "metadata": {},
   "source": [
    "## Divers\n",
    "\n",
    "- [Tableau de Bord](https://digillia-demo.streamlit.app/) ([Sources](https://github.com/digillia/Digillia-DataViz)) :x:"
   ]
  }
 ],
 "metadata": {
  "language_info": {
   "name": "python"
  }
 },
 "nbformat": 4,
 "nbformat_minor": 2
}
