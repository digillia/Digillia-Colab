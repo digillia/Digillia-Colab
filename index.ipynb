{
 "cells": [
  {
   "cell_type": "markdown",
   "metadata": {},
   "source": [
    "# Digillia-Collab\n",
    "\n",
    "Ce portefeuille de bloc-notes Jupyter est divisé en 3 sections:\n",
    "- Algorithmes,\n",
    "- Outils,\n",
    "- Cas d'utilisation."
   ]
  },
  {
   "cell_type": "markdown",
   "metadata": {},
   "source": [
    "## Algorithmes\n",
    "\n",
    "- [ADAboost](./algorithms/adaboost.ipynb),\n",
    "- [Réseaux de neurones artificiels (ANNs)](./algorithms/artificial-neural-networks.ipynb),\n",
    "- [Réseaux de neurones convolutionnels (CNNs)](./algorithms/convolutional-neural-networks.ipynb),\n",
    "- [DBScan](./algorithms/dbscan.ipynb),\n",
    "- [Arbres décisionnels](./algorithms/decision-trees.ipynb),\n",
    "- [Boosting de Gradients](./algorithms/gradient-boosting.ipynb),\n",
    "- [K-means](./algorithms/k-means.ipynb),\n",
    "- [K-Nearest Neighbours](./algorithms/k-nearest-neighbours.ipynb),\n",
    "- [Modèles de Langage Larges (LLMs)](./algorithms/large-language-models.ipynb),\n",
    "- [Régression Linéaire](./algorithms/linear-regression.ipynb),\n",
    "- [Régression Logistique](./algorithms/logistic-regression.ipynb),"
   ]
  },
  {
   "cell_type": "markdown",
   "metadata": {},
   "source": [
    "## Outils\n",
    "\n",
    "- [Core ML](./tools/coreml.ipynb),\n"
   ]
  },
  {
   "cell_type": "markdown",
   "metadata": {},
   "source": [
    "## Cas d'utilisation\n",
    "\n",
    "- [Classification](./use-cases/classification.ipynb),\n"
   ]
  }
 ],
 "metadata": {
  "language_info": {
   "name": "python"
  }
 },
 "nbformat": 4,
 "nbformat_minor": 2
}
