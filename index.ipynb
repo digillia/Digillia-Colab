{
 "cells": [
  {
   "cell_type": "markdown",
   "metadata": {},
   "source": [
    "# Digillia-Colab\n",
    "\n",
    "Ce portefeuille de bloc-notes Jupyter est divisé en 3 sections:\n",
    "- Algorithmes,\n",
    "- Outils,\n",
    "- Cas d'utilisation."
   ]
  },
  {
   "cell_type": "markdown",
   "metadata": {},
   "source": [
    "## Algorithmes\n",
    "\n",
    "- [ADAboost](./algorithms/adaboost.ipynb)\n",
    "- [Réseaux de Neurones Artificiels (ANNs)](./algorithms/artificial-neural-networks.ipynb)\n",
    "- [Réseaux de Neurones Convolutionnels (CNNs)](./algorithms/convolutional-neural-networks.ipynb)\n",
    "- [DBScan](./algorithms/dbscan.ipynb)\n",
    "- [Arbres Décisionnels](./algorithms/decision-trees.ipynb)\n",
    "- [Boosting de Gradients](./algorithms/gradient-boosting.ipynb)\n",
    "- [K-means](./algorithms/k-means.ipynb)\n",
    "- [K-Nearest Neighbours](./algorithms/k-nearest-neighbours.ipynb)\n",
    "- [Modèles de Langage Larges (LLMs)](./algorithms/large-language-models.ipynb)\n",
    "- [Régression Linéaire](./algorithms/linear-regression.ipynb)\n",
    "- [Régression Logistique](./algorithms/logistic-regression.ipynb)\n",
    "- [Long Short Term Memory (LSTM)](./algorithms/long-short-term-memory.ipynb)\n",
    "- [Naive Bayes](./algorithms/naive-bayes.ipynb)\n",
    "- [Traitement du Langage Naturel (NLP)](./algorithms/nlp-basics.ipynb)\n",
    "- [Analyse de Composant Principal (PCA)](./algorithms/principal-component-analysis.ipynb)\n",
    "- [Forêt Aléatoire](./algorithms/random-forest.ipynb)\n",
    "- [Réseaux de Neurones Récurrents (RNNs)](./algorithms/recurring-neural-networks.ipynb)\n",
    "- [Machine de Support de Vecteurs](./algorithms/support-vector-machines.ipynb) "
   ]
  },
  {
   "cell_type": "markdown",
   "metadata": {},
   "source": [
    "## Outils\n",
    "\n",
    "- [AWS](./tools/aws.ipynb)\n",
    "- [Azure](./tools/azure.ipynb)\n",
    "- [Chroma](./tools/chroma.ipynb)\n",
    "- [Core ML](./tools/coreml.ipynb)\n",
    "- [Eli5](./tools/eli5.ipynb)\n",
    "- [FastAPI](./tools/fastapi.ipynb)\n",
    "- [Google](./tools/google.ipynb)\n",
    "- [Haystack](./tools/haystack.ipynb)\n",
    "- [KubeFlow](./tools/kubeflow.ipynb)\n",
    "- [LangChain](./tools/langchain.ipynb)\n",
    "- [LlamaIndex](./tools/llamaindex.ipynb)\n",
    "- [Mistral](./tools/mistral.ipynb)\n",
    "- [MLflow](./tools/mlflow.ipynb)\n",
    "- [MLxtend](./tools/mlxtend.ipynb)\n",
    "- [NLTK](./tools/nltk.ipynb)\n",
    "- [OpenAI](./tools/openai.ipynb)\n",
    "- [Pinecone](./tools/pinecone.ipynb)\n",
    "- [Pydantic](./tools/pydantic.ipynb)\n",
    "- [Pyomo](./tools/pyomo.ipynb)\n",
    "- [SciPy](./tools/scipy.ipynb)\n",
    "- [Sementic Kernel](./tools/sementic-kernel.ipynb)\n",
    "- [SpaCy](./tools/spacy.ipynb)"
   ]
  },
  {
   "cell_type": "markdown",
   "metadata": {},
   "source": [
    "## Cas d'utilisation\n",
    "\n",
    "- [Classification](./use-cases/classification.ipynb)\n",
    "- [Regroupement (Clustering)](./use-cases/clustering.ipynb)\n",
    "- [Applications RAG](./use-cases/rag-applications.ipynb)\n",
    "- [Régression](./use-cases/regression.ipynb)\n",
    "- [Analyse de Sentiments](./use-cases/sentiment-analysis.ipynb)\n",
    "- [Résumé de Texte](./use-cases/text-summarization.ipynb)\n",
    "- [Séries Temporelles](./use-cases/time-series.ipynb)"
   ]
  },
  {
   "cell_type": "markdown",
   "metadata": {},
   "source": [
    "## Divers\n",
    "\n",
    "- [Tableau de Bord](https://digillia-demo.streamlit.app/) ([Sources](https://github.com/digillia/Digillia-DataViz))"
   ]
  }
 ],
 "metadata": {
  "language_info": {
   "name": "python"
  }
 },
 "nbformat": 4,
 "nbformat_minor": 2
}
